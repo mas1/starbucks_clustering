{
  "nbformat": 4,
  "nbformat_minor": 0,
  "metadata": {
    "colab": {
      "name": "starbucks_clustering.ipynb",
      "provenance": [],
      "collapsed_sections": []
    },
    "kernelspec": {
      "display_name": "Python 3",
      "language": "python",
      "name": "python3"
    },
    "language_info": {
      "codemirror_mode": {
        "name": "ipython",
        "version": 3
      },
      "file_extension": ".py",
      "mimetype": "text/x-python",
      "name": "python",
      "nbconvert_exporter": "python",
      "pygments_lexer": "ipython3",
      "version": "3.7.0"
    }
  },
  "cells": [
    {
      "cell_type": "markdown",
      "metadata": {
        "id": "xdL0Yz0D1D_q"
      },
      "source": [
        "# Starbucks clustering with DBSCAN\n",
        "\n",
        "In this project, we will apply hierarchical clustering to a dataset containing the locations of all Starbucks in the U.S. Then we will redo the process using DBSCAN (Density-based spatial clustering of applications with noise).\n",
        "\n",
        "Note: this assignment uses geographical data and maps, which will require the use of two specific packages: haversine and plotly. Both of these can be pip installed."
      ]
    },
    {
      "cell_type": "code",
      "metadata": {
        "id": "OulyiH_C1D_r",
        "outputId": "09931d5b-6da2-478c-fc4b-3b0f9a1bca0b",
        "colab": {
          "base_uri": "https://localhost:8080/"
        }
      },
      "source": [
        "%matplotlib inline\n",
        "!pip install haversine\n",
        "\n",
        "import matplotlib.pyplot as plt\n",
        "import numpy as np\n",
        "import pandas as pd\n",
        "from sklearn.cluster import AgglomerativeClustering\n",
        "from sklearn.cluster import DBSCAN\n",
        "from scipy.cluster.hierarchy import dendrogram\n",
        "from haversine import haversine\n",
        "import plotly.express as px\n"
      ],
      "execution_count": null,
      "outputs": [
        {
          "output_type": "stream",
          "text": [
            "Requirement already satisfied: haversine in /usr/local/lib/python3.6/dist-packages (2.3.0)\n"
          ],
          "name": "stdout"
        }
      ]
    },
    {
      "cell_type": "markdown",
      "metadata": {
        "id": "NFHYqtgvglMA"
      },
      "source": [
        "Below are some convenience functions for calculating geographical distance matrices using lat-long data and plotting a dendrogram by combining a scikit-learn model with scipy's dendrogram plotting functionality."
      ]
    },
    {
      "cell_type": "code",
      "metadata": {
        "id": "jjPmbcf1glMB"
      },
      "source": [
        "def geo_sim_matrix(df, col_name = 'Coordinates'):\n",
        "    \"\"\"\n",
        "    A function that computes a geographical distance matrix (in miles).\n",
        "    Each row in the dataframe should correspond to one location.\n",
        "    In addition, the dataframe must have a column containing the lat-long of each location as a tuple (i.e. (lat, long)).\n",
        "    \n",
        "    Parameters:\n",
        "        df (pandas dataframe): an nxm dataframe containing the locations to compute similarities between.\n",
        "        col (string): the name of the column containing the lat-long tuples.\n",
        "        \n",
        "    Returns:\n",
        "        distance (pandas dataframe): an nxn distance matrix between the geographical coordinates of each location.\n",
        "    \"\"\"\n",
        "    \n",
        "    df = df.copy()\n",
        "    df.reset_index(inplace=True)\n",
        "    haver_vec = np.vectorize(haversine, otypes=[np.float32])\n",
        "    distance = df.groupby('index').apply(lambda x: pd.Series(haver_vec(df[col_name], x[col_name])))\n",
        "    distance = distance / 1.609344\n",
        "    distance.columns = distance.index\n",
        "    \n",
        "    return distance\n",
        "\n",
        "\n",
        "def plot_dendrogram(model, **kwargs):\n",
        "    \"\"\"\n",
        "    A basic function for plotting a dendrogram. Sourced from the following link:\n",
        "    https://github.com/scikit-learn/scikit-learn/blob/70cf4a676caa2d2dad2e3f6e4478d64bcb0506f7/examples/cluster/plot_hierarchical_clustering_dendrogram.py\n",
        "    \n",
        "    Parameters:\n",
        "        model (object of class sklearn.cluster.hierarchical.AgglomerativeClustering): a fitted scikit-learn hierarchical clustering model.\n",
        "    \n",
        "    Output: a dendrogram based on the model based in the parameters.\n",
        "    \n",
        "    Returns: N/A    \n",
        "    \"\"\"\n",
        "    # Children of hierarchical clustering\n",
        "    children = model.children_\n",
        "\n",
        "    # Distances between each pair of children\n",
        "    # Since we don't have this information, we can use a uniform one for plotting\n",
        "    distance = np.arange(children.shape[0])\n",
        "\n",
        "    # The number of observations contained in each cluster level\n",
        "    no_of_observations = np.arange(2, children.shape[0]+2)\n",
        "\n",
        "    # Create linkage matrix and then plot the dendrogram\n",
        "    linkage_matrix = np.column_stack([children, distance, no_of_observations]).astype(float)\n",
        "\n",
        "    # Plot the corresponding dendrogram\n",
        "    dendrogram(linkage_matrix, **kwargs)"
      ],
      "execution_count": null,
      "outputs": []
    },
    {
      "cell_type": "markdown",
      "metadata": {
        "id": "xgZSqoMkwnfG"
      },
      "source": [
        "## data preparation"
      ]
    },
    {
      "cell_type": "markdown",
      "metadata": {
        "id": "ezMvoRlB1D_t"
      },
      "source": [
        "This dataset contains the latitude and longitude (as well as several other details we will not be using) of every Starbucks in the world as of February 2017. Each row consists of the following features, which are generally self-explanatory:\n",
        "\n",
        "- Brand\n",
        "- Store Number\n",
        "- Store Name\n",
        "- Ownership Type\n",
        "- Street Address\n",
        "- City\n",
        "- State/Province\n",
        "- Country\n",
        "- Postcode\n",
        "- Phone Number\n",
        "- Timezone\n",
        "- Longitude\n",
        "- Latitude\n"
      ]
    },
    {
      "cell_type": "code",
      "metadata": {
        "id": "wP1U4eQ91D_u"
      },
      "source": [
        "starbucks = pd.read_csv('https://tf-assets-prod.s3.amazonaws.com/tf-curric/data-science/Data%20Sets%20Clustering/starbucks_locations.csv')\n"
      ],
      "execution_count": null,
      "outputs": []
    },
    {
      "cell_type": "code",
      "metadata": {
        "id": "67aBQoCzg0wO",
        "outputId": "8595c40a-0e98-4edf-8bac-0fe861686edb",
        "colab": {
          "base_uri": "https://localhost:8080/",
          "height": 272
        }
      },
      "source": [
        "starbucks.head()"
      ],
      "execution_count": null,
      "outputs": [
        {
          "output_type": "execute_result",
          "data": {
            "text/html": [
              "<div>\n",
              "<style scoped>\n",
              "    .dataframe tbody tr th:only-of-type {\n",
              "        vertical-align: middle;\n",
              "    }\n",
              "\n",
              "    .dataframe tbody tr th {\n",
              "        vertical-align: top;\n",
              "    }\n",
              "\n",
              "    .dataframe thead th {\n",
              "        text-align: right;\n",
              "    }\n",
              "</style>\n",
              "<table border=\"1\" class=\"dataframe\">\n",
              "  <thead>\n",
              "    <tr style=\"text-align: right;\">\n",
              "      <th></th>\n",
              "      <th>Brand</th>\n",
              "      <th>Store Number</th>\n",
              "      <th>Store Name</th>\n",
              "      <th>Ownership Type</th>\n",
              "      <th>Street Address</th>\n",
              "      <th>City</th>\n",
              "      <th>State/Province</th>\n",
              "      <th>Country</th>\n",
              "      <th>Postcode</th>\n",
              "      <th>Phone Number</th>\n",
              "      <th>Timezone</th>\n",
              "      <th>Longitude</th>\n",
              "      <th>Latitude</th>\n",
              "    </tr>\n",
              "  </thead>\n",
              "  <tbody>\n",
              "    <tr>\n",
              "      <th>0</th>\n",
              "      <td>Starbucks</td>\n",
              "      <td>47370-257954</td>\n",
              "      <td>Meritxell, 96</td>\n",
              "      <td>Licensed</td>\n",
              "      <td>Av. Meritxell, 96</td>\n",
              "      <td>Andorra la Vella</td>\n",
              "      <td>7</td>\n",
              "      <td>AD</td>\n",
              "      <td>AD500</td>\n",
              "      <td>376818720</td>\n",
              "      <td>GMT+1:00 Europe/Andorra</td>\n",
              "      <td>1.53</td>\n",
              "      <td>42.51</td>\n",
              "    </tr>\n",
              "    <tr>\n",
              "      <th>1</th>\n",
              "      <td>Starbucks</td>\n",
              "      <td>22331-212325</td>\n",
              "      <td>Ajman Drive Thru</td>\n",
              "      <td>Licensed</td>\n",
              "      <td>1 Street 69, Al Jarf</td>\n",
              "      <td>Ajman</td>\n",
              "      <td>AJ</td>\n",
              "      <td>AE</td>\n",
              "      <td>NaN</td>\n",
              "      <td>NaN</td>\n",
              "      <td>GMT+04:00 Asia/Dubai</td>\n",
              "      <td>55.47</td>\n",
              "      <td>25.42</td>\n",
              "    </tr>\n",
              "    <tr>\n",
              "      <th>2</th>\n",
              "      <td>Starbucks</td>\n",
              "      <td>47089-256771</td>\n",
              "      <td>Dana Mall</td>\n",
              "      <td>Licensed</td>\n",
              "      <td>Sheikh Khalifa Bin Zayed St.</td>\n",
              "      <td>Ajman</td>\n",
              "      <td>AJ</td>\n",
              "      <td>AE</td>\n",
              "      <td>NaN</td>\n",
              "      <td>NaN</td>\n",
              "      <td>GMT+04:00 Asia/Dubai</td>\n",
              "      <td>55.47</td>\n",
              "      <td>25.39</td>\n",
              "    </tr>\n",
              "    <tr>\n",
              "      <th>3</th>\n",
              "      <td>Starbucks</td>\n",
              "      <td>22126-218024</td>\n",
              "      <td>Twofour 54</td>\n",
              "      <td>Licensed</td>\n",
              "      <td>Al Salam Street</td>\n",
              "      <td>Abu Dhabi</td>\n",
              "      <td>AZ</td>\n",
              "      <td>AE</td>\n",
              "      <td>NaN</td>\n",
              "      <td>NaN</td>\n",
              "      <td>GMT+04:00 Asia/Dubai</td>\n",
              "      <td>54.38</td>\n",
              "      <td>24.48</td>\n",
              "    </tr>\n",
              "    <tr>\n",
              "      <th>4</th>\n",
              "      <td>Starbucks</td>\n",
              "      <td>17127-178586</td>\n",
              "      <td>Al Ain Tower</td>\n",
              "      <td>Licensed</td>\n",
              "      <td>Khaldiya Area, Abu Dhabi Island</td>\n",
              "      <td>Abu Dhabi</td>\n",
              "      <td>AZ</td>\n",
              "      <td>AE</td>\n",
              "      <td>NaN</td>\n",
              "      <td>NaN</td>\n",
              "      <td>GMT+04:00 Asia/Dubai</td>\n",
              "      <td>54.54</td>\n",
              "      <td>24.51</td>\n",
              "    </tr>\n",
              "  </tbody>\n",
              "</table>\n",
              "</div>"
            ],
            "text/plain": [
              "       Brand  Store Number  ... Longitude Latitude\n",
              "0  Starbucks  47370-257954  ...      1.53    42.51\n",
              "1  Starbucks  22331-212325  ...     55.47    25.42\n",
              "2  Starbucks  47089-256771  ...     55.47    25.39\n",
              "3  Starbucks  22126-218024  ...     54.38    24.48\n",
              "4  Starbucks  17127-178586  ...     54.54    24.51\n",
              "\n",
              "[5 rows x 13 columns]"
            ]
          },
          "metadata": {
            "tags": []
          },
          "execution_count": 6
        }
      ]
    },
    {
      "cell_type": "markdown",
      "metadata": {
        "id": "o_K1eQ0x1D_y"
      },
      "source": [
        "We'll begin by narrowing down the dataset to a specific geographic area of interest. Since we will need to manually compute a distance matrix, which will be on the order of $n^{2}$ in terms of size, I recommend choosing an area with 3000 or less locations. I will choose the state of Texas, since I plan to move there in a few weeks.\n"
      ]
    },
    {
      "cell_type": "code",
      "metadata": {
        "id": "xaPTv22LglMK",
        "outputId": "465ad67f-a3a7-4670-eb93-608d8c5ba055",
        "colab": {
          "base_uri": "https://localhost:8080/",
          "height": 306
        }
      },
      "source": [
        "tx_starbucks = starbucks.loc[starbucks['State/Province'] == 'TX',:].copy()\n",
        "tx_starbucks.head()"
      ],
      "execution_count": null,
      "outputs": [
        {
          "output_type": "execute_result",
          "data": {
            "text/html": [
              "<div>\n",
              "<style scoped>\n",
              "    .dataframe tbody tr th:only-of-type {\n",
              "        vertical-align: middle;\n",
              "    }\n",
              "\n",
              "    .dataframe tbody tr th {\n",
              "        vertical-align: top;\n",
              "    }\n",
              "\n",
              "    .dataframe thead th {\n",
              "        text-align: right;\n",
              "    }\n",
              "</style>\n",
              "<table border=\"1\" class=\"dataframe\">\n",
              "  <thead>\n",
              "    <tr style=\"text-align: right;\">\n",
              "      <th></th>\n",
              "      <th>Brand</th>\n",
              "      <th>Store Number</th>\n",
              "      <th>Store Name</th>\n",
              "      <th>Ownership Type</th>\n",
              "      <th>Street Address</th>\n",
              "      <th>City</th>\n",
              "      <th>State/Province</th>\n",
              "      <th>Country</th>\n",
              "      <th>Postcode</th>\n",
              "      <th>Phone Number</th>\n",
              "      <th>Timezone</th>\n",
              "      <th>Longitude</th>\n",
              "      <th>Latitude</th>\n",
              "    </tr>\n",
              "  </thead>\n",
              "  <tbody>\n",
              "    <tr>\n",
              "      <th>23039</th>\n",
              "      <td>Starbucks</td>\n",
              "      <td>26805-245287</td>\n",
              "      <td>Market Street #679 - Abilene</td>\n",
              "      <td>Licensed</td>\n",
              "      <td>4450 Buffalo Gap Road</td>\n",
              "      <td>Abilene</td>\n",
              "      <td>TX</td>\n",
              "      <td>US</td>\n",
              "      <td>79606</td>\n",
              "      <td>(325) 695-5300</td>\n",
              "      <td>GMT-06:00 America/Chicago</td>\n",
              "      <td>-99.76</td>\n",
              "      <td>32.40</td>\n",
              "    </tr>\n",
              "    <tr>\n",
              "      <th>23040</th>\n",
              "      <td>Starbucks</td>\n",
              "      <td>13699-107990</td>\n",
              "      <td>14th &amp; Barrow</td>\n",
              "      <td>Company Owned</td>\n",
              "      <td>1389 Barrow</td>\n",
              "      <td>Abilene</td>\n",
              "      <td>TX</td>\n",
              "      <td>US</td>\n",
              "      <td>796055171</td>\n",
              "      <td>325-692-4765</td>\n",
              "      <td>GMT-06:00 America/Chicago</td>\n",
              "      <td>-99.76</td>\n",
              "      <td>32.43</td>\n",
              "    </tr>\n",
              "    <tr>\n",
              "      <th>23041</th>\n",
              "      <td>Starbucks</td>\n",
              "      <td>6637-69140</td>\n",
              "      <td>Buffalo Gap &amp; Hwy. 83</td>\n",
              "      <td>Company Owned</td>\n",
              "      <td>4150 Buffalo Gap Road</td>\n",
              "      <td>Abilene</td>\n",
              "      <td>TX</td>\n",
              "      <td>US</td>\n",
              "      <td>796057232</td>\n",
              "      <td>325-793-2197</td>\n",
              "      <td>GMT-06:00 America/Chicago</td>\n",
              "      <td>-99.76</td>\n",
              "      <td>32.40</td>\n",
              "    </tr>\n",
              "    <tr>\n",
              "      <th>23042</th>\n",
              "      <td>Starbucks</td>\n",
              "      <td>29138-252016</td>\n",
              "      <td>351 &amp; Enterprise</td>\n",
              "      <td>Company Owned</td>\n",
              "      <td>2626 Enterprise Drive</td>\n",
              "      <td>Abilene</td>\n",
              "      <td>TX</td>\n",
              "      <td>US</td>\n",
              "      <td>79601</td>\n",
              "      <td>3257257496</td>\n",
              "      <td>GMT-06:00 America/Chicago</td>\n",
              "      <td>-99.69</td>\n",
              "      <td>32.48</td>\n",
              "    </tr>\n",
              "    <tr>\n",
              "      <th>23043</th>\n",
              "      <td>Starbucks</td>\n",
              "      <td>22171-200104</td>\n",
              "      <td>Aramark @ Abilene Christian Univers</td>\n",
              "      <td>Licensed</td>\n",
              "      <td>760 Library Court</td>\n",
              "      <td>Abilene</td>\n",
              "      <td>TX</td>\n",
              "      <td>US</td>\n",
              "      <td>79699</td>\n",
              "      <td>325-674-2316</td>\n",
              "      <td>GMT-06:00 America/Chicago</td>\n",
              "      <td>-99.70</td>\n",
              "      <td>32.39</td>\n",
              "    </tr>\n",
              "  </tbody>\n",
              "</table>\n",
              "</div>"
            ],
            "text/plain": [
              "           Brand  Store Number  ... Longitude Latitude\n",
              "23039  Starbucks  26805-245287  ...    -99.76    32.40\n",
              "23040  Starbucks  13699-107990  ...    -99.76    32.43\n",
              "23041  Starbucks    6637-69140  ...    -99.76    32.40\n",
              "23042  Starbucks  29138-252016  ...    -99.69    32.48\n",
              "23043  Starbucks  22171-200104  ...    -99.70    32.39\n",
              "\n",
              "[5 rows x 13 columns]"
            ]
          },
          "metadata": {
            "tags": []
          },
          "execution_count": 7
        }
      ]
    },
    {
      "cell_type": "code",
      "metadata": {
        "id": "ONlnj06DvQj7",
        "outputId": "97744834-8f69-4e3e-bc36-190eba6e36e6",
        "colab": {
          "base_uri": "https://localhost:8080/"
        }
      },
      "source": [
        "tx_starbucks.shape"
      ],
      "execution_count": null,
      "outputs": [
        {
          "output_type": "execute_result",
          "data": {
            "text/plain": [
              "(1042, 13)"
            ]
          },
          "metadata": {
            "tags": []
          },
          "execution_count": 8
        }
      ]
    },
    {
      "cell_type": "markdown",
      "metadata": {
        "id": "JP466YhlglMN"
      },
      "source": [
        "The haversine package takes tuples with 2 numeric elements and interprets them as lat-long to calculate distance, so we will add a new column called \"Coordinates\" that converts the lat and long in each row into a tuple. In other words, the last two columns of the dataframe initially look like this:\n",
        "\n",
        "**Latitude, Longitude**  \n",
        "-121.64, 39.14  \n",
        "-116.40, 34.13  \n",
        "...\n",
        "\n",
        "After adding the new column, the last three columns should look like this:\n",
        "\n",
        "**Latitude, Longitude, Coordinates**  \n",
        "-121.64, 39.14, (-121.64, 39.14)  \n",
        "-116.40, 34.13, (-116.40, 34.13)  \n",
        "..."
      ]
    },
    {
      "cell_type": "code",
      "metadata": {
        "id": "xfYVreyw1D_y"
      },
      "source": [
        "# The zip() function returns a zip object, which is an iterator of tuples where the first item in each passed iterator is paired together,\n",
        "# and then the second item in each passed iterator are paired together etc.\n",
        "\n",
        "tx_starbucks['Coordinates'] = list(zip(tx_starbucks['Latitude'], tx_starbucks['Longitude']))"
      ],
      "execution_count": null,
      "outputs": []
    },
    {
      "cell_type": "markdown",
      "metadata": {
        "id": "ufXIZ40WglMQ"
      },
      "source": [
        "Now we calculate the distance matrix using the starter code/function geo_sim_matrix() provided earlier in the notebook. It assumes the column containing the coordinates for each location is called \"Coordinates\"; examine the docstring for more details."
      ]
    },
    {
      "cell_type": "code",
      "metadata": {
        "id": "Xn6hPlyGglMR",
        "outputId": "c087ac30-c09a-408a-acb8-ab5529e78344",
        "colab": {
          "base_uri": "https://localhost:8080/",
          "height": 284
        }
      },
      "source": [
        "dist_matrix = geo_sim_matrix(tx_starbucks)\n",
        "dist_matrix.head()"
      ],
      "execution_count": null,
      "outputs": [
        {
          "output_type": "execute_result",
          "data": {
            "text/html": [
              "<div>\n",
              "<style scoped>\n",
              "    .dataframe tbody tr th:only-of-type {\n",
              "        vertical-align: middle;\n",
              "    }\n",
              "\n",
              "    .dataframe tbody tr th {\n",
              "        vertical-align: top;\n",
              "    }\n",
              "\n",
              "    .dataframe thead th {\n",
              "        text-align: right;\n",
              "    }\n",
              "</style>\n",
              "<table border=\"1\" class=\"dataframe\">\n",
              "  <thead>\n",
              "    <tr style=\"text-align: right;\">\n",
              "      <th>index</th>\n",
              "      <th>23039</th>\n",
              "      <th>23040</th>\n",
              "      <th>23041</th>\n",
              "      <th>23042</th>\n",
              "      <th>23043</th>\n",
              "      <th>23044</th>\n",
              "      <th>23045</th>\n",
              "      <th>23046</th>\n",
              "      <th>23047</th>\n",
              "      <th>23048</th>\n",
              "      <th>23049</th>\n",
              "      <th>23050</th>\n",
              "      <th>23051</th>\n",
              "      <th>23052</th>\n",
              "      <th>23053</th>\n",
              "      <th>23054</th>\n",
              "      <th>23055</th>\n",
              "      <th>23056</th>\n",
              "      <th>23057</th>\n",
              "      <th>23058</th>\n",
              "      <th>23059</th>\n",
              "      <th>23060</th>\n",
              "      <th>23061</th>\n",
              "      <th>23062</th>\n",
              "      <th>23063</th>\n",
              "      <th>23064</th>\n",
              "      <th>23065</th>\n",
              "      <th>23066</th>\n",
              "      <th>23067</th>\n",
              "      <th>23068</th>\n",
              "      <th>23069</th>\n",
              "      <th>23070</th>\n",
              "      <th>23071</th>\n",
              "      <th>23072</th>\n",
              "      <th>23073</th>\n",
              "      <th>23074</th>\n",
              "      <th>23075</th>\n",
              "      <th>23076</th>\n",
              "      <th>23077</th>\n",
              "      <th>23078</th>\n",
              "      <th>...</th>\n",
              "      <th>24041</th>\n",
              "      <th>24042</th>\n",
              "      <th>24043</th>\n",
              "      <th>24044</th>\n",
              "      <th>24045</th>\n",
              "      <th>24046</th>\n",
              "      <th>24047</th>\n",
              "      <th>24048</th>\n",
              "      <th>24049</th>\n",
              "      <th>24050</th>\n",
              "      <th>24051</th>\n",
              "      <th>24052</th>\n",
              "      <th>24053</th>\n",
              "      <th>24054</th>\n",
              "      <th>24055</th>\n",
              "      <th>24056</th>\n",
              "      <th>24057</th>\n",
              "      <th>24058</th>\n",
              "      <th>24059</th>\n",
              "      <th>24060</th>\n",
              "      <th>24061</th>\n",
              "      <th>24062</th>\n",
              "      <th>24063</th>\n",
              "      <th>24064</th>\n",
              "      <th>24065</th>\n",
              "      <th>24066</th>\n",
              "      <th>24067</th>\n",
              "      <th>24068</th>\n",
              "      <th>24069</th>\n",
              "      <th>24070</th>\n",
              "      <th>24071</th>\n",
              "      <th>24072</th>\n",
              "      <th>24073</th>\n",
              "      <th>24074</th>\n",
              "      <th>24075</th>\n",
              "      <th>24076</th>\n",
              "      <th>24077</th>\n",
              "      <th>24078</th>\n",
              "      <th>24079</th>\n",
              "      <th>24080</th>\n",
              "    </tr>\n",
              "    <tr>\n",
              "      <th>index</th>\n",
              "      <th></th>\n",
              "      <th></th>\n",
              "      <th></th>\n",
              "      <th></th>\n",
              "      <th></th>\n",
              "      <th></th>\n",
              "      <th></th>\n",
              "      <th></th>\n",
              "      <th></th>\n",
              "      <th></th>\n",
              "      <th></th>\n",
              "      <th></th>\n",
              "      <th></th>\n",
              "      <th></th>\n",
              "      <th></th>\n",
              "      <th></th>\n",
              "      <th></th>\n",
              "      <th></th>\n",
              "      <th></th>\n",
              "      <th></th>\n",
              "      <th></th>\n",
              "      <th></th>\n",
              "      <th></th>\n",
              "      <th></th>\n",
              "      <th></th>\n",
              "      <th></th>\n",
              "      <th></th>\n",
              "      <th></th>\n",
              "      <th></th>\n",
              "      <th></th>\n",
              "      <th></th>\n",
              "      <th></th>\n",
              "      <th></th>\n",
              "      <th></th>\n",
              "      <th></th>\n",
              "      <th></th>\n",
              "      <th></th>\n",
              "      <th></th>\n",
              "      <th></th>\n",
              "      <th></th>\n",
              "      <th></th>\n",
              "      <th></th>\n",
              "      <th></th>\n",
              "      <th></th>\n",
              "      <th></th>\n",
              "      <th></th>\n",
              "      <th></th>\n",
              "      <th></th>\n",
              "      <th></th>\n",
              "      <th></th>\n",
              "      <th></th>\n",
              "      <th></th>\n",
              "      <th></th>\n",
              "      <th></th>\n",
              "      <th></th>\n",
              "      <th></th>\n",
              "      <th></th>\n",
              "      <th></th>\n",
              "      <th></th>\n",
              "      <th></th>\n",
              "      <th></th>\n",
              "      <th></th>\n",
              "      <th></th>\n",
              "      <th></th>\n",
              "      <th></th>\n",
              "      <th></th>\n",
              "      <th></th>\n",
              "      <th></th>\n",
              "      <th></th>\n",
              "      <th></th>\n",
              "      <th></th>\n",
              "      <th></th>\n",
              "      <th></th>\n",
              "      <th></th>\n",
              "      <th></th>\n",
              "      <th></th>\n",
              "      <th></th>\n",
              "      <th></th>\n",
              "      <th></th>\n",
              "      <th></th>\n",
              "      <th></th>\n",
              "    </tr>\n",
              "  </thead>\n",
              "  <tbody>\n",
              "    <tr>\n",
              "      <th>23039</th>\n",
              "      <td>0.000000</td>\n",
              "      <td>2.072803</td>\n",
              "      <td>0.000000</td>\n",
              "      <td>6.871257</td>\n",
              "      <td>3.567982</td>\n",
              "      <td>5.068387</td>\n",
              "      <td>173.309638</td>\n",
              "      <td>174.017858</td>\n",
              "      <td>175.153025</td>\n",
              "      <td>185.221559</td>\n",
              "      <td>186.092025</td>\n",
              "      <td>187.303858</td>\n",
              "      <td>186.856356</td>\n",
              "      <td>187.416421</td>\n",
              "      <td>184.442115</td>\n",
              "      <td>185.221559</td>\n",
              "      <td>185.390821</td>\n",
              "      <td>184.269250</td>\n",
              "      <td>338.252875</td>\n",
              "      <td>337.895048</td>\n",
              "      <td>225.553154</td>\n",
              "      <td>229.253108</td>\n",
              "      <td>229.516178</td>\n",
              "      <td>227.665281</td>\n",
              "      <td>155.481710</td>\n",
              "      <td>153.585985</td>\n",
              "      <td>155.982212</td>\n",
              "      <td>157.055826</td>\n",
              "      <td>155.557570</td>\n",
              "      <td>153.824024</td>\n",
              "      <td>153.585985</td>\n",
              "      <td>154.401838</td>\n",
              "      <td>154.401838</td>\n",
              "      <td>150.935468</td>\n",
              "      <td>155.982212</td>\n",
              "      <td>156.950355</td>\n",
              "      <td>154.325276</td>\n",
              "      <td>150.357862</td>\n",
              "      <td>155.314875</td>\n",
              "      <td>155.022897</td>\n",
              "      <td>...</td>\n",
              "      <td>291.496153</td>\n",
              "      <td>294.694712</td>\n",
              "      <td>153.946078</td>\n",
              "      <td>261.536989</td>\n",
              "      <td>257.927924</td>\n",
              "      <td>260.402050</td>\n",
              "      <td>261.478888</td>\n",
              "      <td>259.887762</td>\n",
              "      <td>260.402050</td>\n",
              "      <td>294.502070</td>\n",
              "      <td>293.923915</td>\n",
              "      <td>166.044024</td>\n",
              "      <td>162.189392</td>\n",
              "      <td>164.618519</td>\n",
              "      <td>165.460768</td>\n",
              "      <td>165.495982</td>\n",
              "      <td>162.189392</td>\n",
              "      <td>149.330774</td>\n",
              "      <td>149.330774</td>\n",
              "      <td>170.326950</td>\n",
              "      <td>170.326950</td>\n",
              "      <td>116.956440</td>\n",
              "      <td>116.956440</td>\n",
              "      <td>117.359322</td>\n",
              "      <td>337.519244</td>\n",
              "      <td>334.899427</td>\n",
              "      <td>337.039335</td>\n",
              "      <td>337.039335</td>\n",
              "      <td>336.208425</td>\n",
              "      <td>443.158339</td>\n",
              "      <td>124.579065</td>\n",
              "      <td>123.452052</td>\n",
              "      <td>287.552509</td>\n",
              "      <td>297.322892</td>\n",
              "      <td>161.367319</td>\n",
              "      <td>190.185266</td>\n",
              "      <td>190.185266</td>\n",
              "      <td>191.319181</td>\n",
              "      <td>189.051692</td>\n",
              "      <td>191.886262</td>\n",
              "    </tr>\n",
              "    <tr>\n",
              "      <th>23040</th>\n",
              "      <td>2.072803</td>\n",
              "      <td>0.000000</td>\n",
              "      <td>2.072803</td>\n",
              "      <td>5.347001</td>\n",
              "      <td>4.459515</td>\n",
              "      <td>3.577176</td>\n",
              "      <td>172.847572</td>\n",
              "      <td>173.549232</td>\n",
              "      <td>174.687072</td>\n",
              "      <td>184.669876</td>\n",
              "      <td>185.504351</td>\n",
              "      <td>186.765259</td>\n",
              "      <td>186.286090</td>\n",
              "      <td>186.847671</td>\n",
              "      <td>183.872910</td>\n",
              "      <td>184.669876</td>\n",
              "      <td>184.831913</td>\n",
              "      <td>183.707308</td>\n",
              "      <td>339.493000</td>\n",
              "      <td>339.123530</td>\n",
              "      <td>223.773766</td>\n",
              "      <td>227.507492</td>\n",
              "      <td>227.766390</td>\n",
              "      <td>225.901803</td>\n",
              "      <td>155.221076</td>\n",
              "      <td>153.276191</td>\n",
              "      <td>155.667232</td>\n",
              "      <td>156.697117</td>\n",
              "      <td>155.287844</td>\n",
              "      <td>153.551824</td>\n",
              "      <td>153.276191</td>\n",
              "      <td>154.130472</td>\n",
              "      <td>154.130472</td>\n",
              "      <td>150.659029</td>\n",
              "      <td>155.667232</td>\n",
              "      <td>156.600549</td>\n",
              "      <td>154.063069</td>\n",
              "      <td>150.080561</td>\n",
              "      <td>155.007963</td>\n",
              "      <td>154.687825</td>\n",
              "      <td>...</td>\n",
              "      <td>292.603141</td>\n",
              "      <td>295.778775</td>\n",
              "      <td>153.376930</td>\n",
              "      <td>261.551079</td>\n",
              "      <td>257.921154</td>\n",
              "      <td>260.422075</td>\n",
              "      <td>261.482016</td>\n",
              "      <td>259.919050</td>\n",
              "      <td>260.422075</td>\n",
              "      <td>296.211220</td>\n",
              "      <td>295.631567</td>\n",
              "      <td>166.764571</td>\n",
              "      <td>162.946024</td>\n",
              "      <td>165.389487</td>\n",
              "      <td>166.201453</td>\n",
              "      <td>166.219088</td>\n",
              "      <td>162.946024</td>\n",
              "      <td>148.850798</td>\n",
              "      <td>148.850798</td>\n",
              "      <td>170.294429</td>\n",
              "      <td>170.294429</td>\n",
              "      <td>116.551253</td>\n",
              "      <td>116.551253</td>\n",
              "      <td>116.918799</td>\n",
              "      <td>338.701192</td>\n",
              "      <td>336.073866</td>\n",
              "      <td>338.223141</td>\n",
              "      <td>338.223141</td>\n",
              "      <td>337.386619</td>\n",
              "      <td>445.168086</td>\n",
              "      <td>122.876409</td>\n",
              "      <td>121.757162</td>\n",
              "      <td>288.523458</td>\n",
              "      <td>298.371949</td>\n",
              "      <td>162.154822</td>\n",
              "      <td>189.706362</td>\n",
              "      <td>189.706362</td>\n",
              "      <td>190.842742</td>\n",
              "      <td>188.570304</td>\n",
              "      <td>191.411056</td>\n",
              "    </tr>\n",
              "    <tr>\n",
              "      <th>23041</th>\n",
              "      <td>0.000000</td>\n",
              "      <td>2.072803</td>\n",
              "      <td>0.000000</td>\n",
              "      <td>6.871257</td>\n",
              "      <td>3.567982</td>\n",
              "      <td>5.068387</td>\n",
              "      <td>173.309638</td>\n",
              "      <td>174.017858</td>\n",
              "      <td>175.153025</td>\n",
              "      <td>185.221559</td>\n",
              "      <td>186.092025</td>\n",
              "      <td>187.303858</td>\n",
              "      <td>186.856356</td>\n",
              "      <td>187.416421</td>\n",
              "      <td>184.442115</td>\n",
              "      <td>185.221559</td>\n",
              "      <td>185.390821</td>\n",
              "      <td>184.269250</td>\n",
              "      <td>338.252875</td>\n",
              "      <td>337.895048</td>\n",
              "      <td>225.553154</td>\n",
              "      <td>229.253108</td>\n",
              "      <td>229.516178</td>\n",
              "      <td>227.665281</td>\n",
              "      <td>155.481710</td>\n",
              "      <td>153.585985</td>\n",
              "      <td>155.982212</td>\n",
              "      <td>157.055826</td>\n",
              "      <td>155.557570</td>\n",
              "      <td>153.824024</td>\n",
              "      <td>153.585985</td>\n",
              "      <td>154.401838</td>\n",
              "      <td>154.401838</td>\n",
              "      <td>150.935468</td>\n",
              "      <td>155.982212</td>\n",
              "      <td>156.950355</td>\n",
              "      <td>154.325276</td>\n",
              "      <td>150.357862</td>\n",
              "      <td>155.314875</td>\n",
              "      <td>155.022897</td>\n",
              "      <td>...</td>\n",
              "      <td>291.496153</td>\n",
              "      <td>294.694712</td>\n",
              "      <td>153.946078</td>\n",
              "      <td>261.536989</td>\n",
              "      <td>257.927924</td>\n",
              "      <td>260.402050</td>\n",
              "      <td>261.478888</td>\n",
              "      <td>259.887762</td>\n",
              "      <td>260.402050</td>\n",
              "      <td>294.502070</td>\n",
              "      <td>293.923915</td>\n",
              "      <td>166.044024</td>\n",
              "      <td>162.189392</td>\n",
              "      <td>164.618519</td>\n",
              "      <td>165.460768</td>\n",
              "      <td>165.495982</td>\n",
              "      <td>162.189392</td>\n",
              "      <td>149.330774</td>\n",
              "      <td>149.330774</td>\n",
              "      <td>170.326950</td>\n",
              "      <td>170.326950</td>\n",
              "      <td>116.956440</td>\n",
              "      <td>116.956440</td>\n",
              "      <td>117.359322</td>\n",
              "      <td>337.519244</td>\n",
              "      <td>334.899427</td>\n",
              "      <td>337.039335</td>\n",
              "      <td>337.039335</td>\n",
              "      <td>336.208425</td>\n",
              "      <td>443.158339</td>\n",
              "      <td>124.579065</td>\n",
              "      <td>123.452052</td>\n",
              "      <td>287.552509</td>\n",
              "      <td>297.322892</td>\n",
              "      <td>161.367319</td>\n",
              "      <td>190.185266</td>\n",
              "      <td>190.185266</td>\n",
              "      <td>191.319181</td>\n",
              "      <td>189.051692</td>\n",
              "      <td>191.886262</td>\n",
              "    </tr>\n",
              "    <tr>\n",
              "      <th>23042</th>\n",
              "      <td>6.871257</td>\n",
              "      <td>5.347001</td>\n",
              "      <td>6.871257</td>\n",
              "      <td>0.000000</td>\n",
              "      <td>6.245691</td>\n",
              "      <td>1.807969</td>\n",
              "      <td>168.132657</td>\n",
              "      <td>168.825897</td>\n",
              "      <td>169.966885</td>\n",
              "      <td>179.843763</td>\n",
              "      <td>180.636709</td>\n",
              "      <td>181.954184</td>\n",
              "      <td>181.438188</td>\n",
              "      <td>182.001439</td>\n",
              "      <td>179.026564</td>\n",
              "      <td>179.843763</td>\n",
              "      <td>179.997323</td>\n",
              "      <td>178.869362</td>\n",
              "      <td>338.344237</td>\n",
              "      <td>337.938321</td>\n",
              "      <td>222.974467</td>\n",
              "      <td>226.871975</td>\n",
              "      <td>227.110848</td>\n",
              "      <td>225.180498</td>\n",
              "      <td>150.787037</td>\n",
              "      <td>148.771401</td>\n",
              "      <td>151.154307</td>\n",
              "      <td>152.122687</td>\n",
              "      <td>150.840398</td>\n",
              "      <td>149.101334</td>\n",
              "      <td>148.771401</td>\n",
              "      <td>149.680997</td>\n",
              "      <td>149.680997</td>\n",
              "      <td>146.203267</td>\n",
              "      <td>151.154307</td>\n",
              "      <td>152.038455</td>\n",
              "      <td>149.627095</td>\n",
              "      <td>145.623719</td>\n",
              "      <td>150.506758</td>\n",
              "      <td>150.146836</td>\n",
              "      <td>...</td>\n",
              "      <td>291.059403</td>\n",
              "      <td>294.167738</td>\n",
              "      <td>148.535998</td>\n",
              "      <td>257.532191</td>\n",
              "      <td>253.867280</td>\n",
              "      <td>256.413578</td>\n",
              "      <td>257.444431</td>\n",
              "      <td>255.930047</td>\n",
              "      <td>256.413578</td>\n",
              "      <td>296.810651</td>\n",
              "      <td>296.224342</td>\n",
              "      <td>164.234125</td>\n",
              "      <td>160.506486</td>\n",
              "      <td>162.984120</td>\n",
              "      <td>163.720576</td>\n",
              "      <td>163.695185</td>\n",
              "      <td>160.506486</td>\n",
              "      <td>144.118684</td>\n",
              "      <td>144.118684</td>\n",
              "      <td>166.216509</td>\n",
              "      <td>166.216509</td>\n",
              "      <td>111.928098</td>\n",
              "      <td>111.928098</td>\n",
              "      <td>112.248370</td>\n",
              "      <td>337.372624</td>\n",
              "      <td>334.722884</td>\n",
              "      <td>336.900224</td>\n",
              "      <td>336.900224</td>\n",
              "      <td>336.046901</td>\n",
              "      <td>447.548518</td>\n",
              "      <td>117.711915</td>\n",
              "      <td>116.583480</td>\n",
              "      <td>286.596407</td>\n",
              "      <td>296.660220</td>\n",
              "      <td>159.792823</td>\n",
              "      <td>184.967364</td>\n",
              "      <td>184.967364</td>\n",
              "      <td>186.106626</td>\n",
              "      <td>183.828366</td>\n",
              "      <td>186.676362</td>\n",
              "    </tr>\n",
              "    <tr>\n",
              "      <th>23043</th>\n",
              "      <td>3.567982</td>\n",
              "      <td>4.459515</td>\n",
              "      <td>3.567982</td>\n",
              "      <td>6.245691</td>\n",
              "      <td>0.000000</td>\n",
              "      <td>4.871576</td>\n",
              "      <td>170.065795</td>\n",
              "      <td>170.778813</td>\n",
              "      <td>171.911894</td>\n",
              "      <td>182.046608</td>\n",
              "      <td>182.947149</td>\n",
              "      <td>184.118098</td>\n",
              "      <td>183.696689</td>\n",
              "      <td>184.255445</td>\n",
              "      <td>181.281784</td>\n",
              "      <td>182.046608</td>\n",
              "      <td>182.221843</td>\n",
              "      <td>181.102889</td>\n",
              "      <td>335.034821</td>\n",
              "      <td>334.666223</td>\n",
              "      <td>227.950120</td>\n",
              "      <td>231.729926</td>\n",
              "      <td>231.983439</td>\n",
              "      <td>230.100628</td>\n",
              "      <td>152.107451</td>\n",
              "      <td>150.240919</td>\n",
              "      <td>152.640124</td>\n",
              "      <td>153.741385</td>\n",
              "      <td>152.188516</td>\n",
              "      <td>150.456535</td>\n",
              "      <td>150.240919</td>\n",
              "      <td>151.033818</td>\n",
              "      <td>151.033818</td>\n",
              "      <td>147.570690</td>\n",
              "      <td>152.640124</td>\n",
              "      <td>153.630140</td>\n",
              "      <td>150.952003</td>\n",
              "      <td>146.993644</td>\n",
              "      <td>151.967894</td>\n",
              "      <td>151.693437</td>\n",
              "      <td>...</td>\n",
              "      <td>288.167053</td>\n",
              "      <td>291.349059</td>\n",
              "      <td>150.788990</td>\n",
              "      <td>258.035310</td>\n",
              "      <td>254.433394</td>\n",
              "      <td>256.898418</td>\n",
              "      <td>257.980887</td>\n",
              "      <td>256.380507</td>\n",
              "      <td>256.898418</td>\n",
              "      <td>291.958256</td>\n",
              "      <td>291.376896</td>\n",
              "      <td>162.519514</td>\n",
              "      <td>158.675936</td>\n",
              "      <td>161.109880</td>\n",
              "      <td>161.942288</td>\n",
              "      <td>161.972211</td>\n",
              "      <td>158.675936</td>\n",
              "      <td>146.102860</td>\n",
              "      <td>146.102860</td>\n",
              "      <td>166.843911</td>\n",
              "      <td>166.843911</td>\n",
              "      <td>113.678654</td>\n",
              "      <td>113.678654</td>\n",
              "      <td>114.106832</td>\n",
              "      <td>334.249498</td>\n",
              "      <td>331.623348</td>\n",
              "      <td>333.771144</td>\n",
              "      <td>333.771144</td>\n",
              "      <td>332.935532</td>\n",
              "      <td>441.642306</td>\n",
              "      <td>123.208466</td>\n",
              "      <td>122.060528</td>\n",
              "      <td>284.135062</td>\n",
              "      <td>293.953307</td>\n",
              "      <td>157.864426</td>\n",
              "      <td>186.952611</td>\n",
              "      <td>186.952611</td>\n",
              "      <td>188.084592</td>\n",
              "      <td>185.821028</td>\n",
              "      <td>188.650706</td>\n",
              "    </tr>\n",
              "  </tbody>\n",
              "</table>\n",
              "<p>5 rows × 1042 columns</p>\n",
              "</div>"
            ],
            "text/plain": [
              "index     23039     23040     23041  ...       24078       24079       24080\n",
              "index                                ...                                    \n",
              "23039  0.000000  2.072803  0.000000  ...  191.319181  189.051692  191.886262\n",
              "23040  2.072803  0.000000  2.072803  ...  190.842742  188.570304  191.411056\n",
              "23041  0.000000  2.072803  0.000000  ...  191.319181  189.051692  191.886262\n",
              "23042  6.871257  5.347001  6.871257  ...  186.106626  183.828366  186.676362\n",
              "23043  3.567982  4.459515  3.567982  ...  188.084592  185.821028  188.650706\n",
              "\n",
              "[5 rows x 1042 columns]"
            ]
          },
          "metadata": {
            "tags": []
          },
          "execution_count": 10
        }
      ]
    },
    {
      "cell_type": "markdown",
      "metadata": {
        "id": "RLgPYWPmwjng"
      },
      "source": [
        "## hierarchical clustering"
      ]
    },
    {
      "cell_type": "markdown",
      "metadata": {
        "id": "86lfEP_91D_0"
      },
      "source": [
        "We will build the hierarchical clustering model using n_clusters = 5 and average linkage. Bear in mind that we are passing a precomputed distance matrix, which will require an additional parameter to be manually specified. \n",
        "\n",
        "Then we will save the predicted cluster assignments as a new column in our dataframe."
      ]
    },
    {
      "cell_type": "code",
      "metadata": {
        "id": "o3PUI4l61D_0",
        "outputId": "5f42ee3a-d0f0-4f2a-a50a-a282d4208645",
        "colab": {
          "base_uri": "https://localhost:8080/"
        }
      },
      "source": [
        "clstr = AgglomerativeClustering(n_clusters=5, affinity='precomputed', linkage='average')\n",
        "clstr.fit(dist_matrix)"
      ],
      "execution_count": null,
      "outputs": [
        {
          "output_type": "execute_result",
          "data": {
            "text/plain": [
              "AgglomerativeClustering(affinity='precomputed', compute_full_tree='auto',\n",
              "                        connectivity=None, distance_threshold=None,\n",
              "                        linkage='average', memory=None, n_clusters=5)"
            ]
          },
          "metadata": {
            "tags": []
          },
          "execution_count": 11
        }
      ]
    },
    {
      "cell_type": "code",
      "metadata": {
        "id": "-gwilj77pVaW",
        "outputId": "e66670b0-7c12-4ec7-d0bc-f1aad3d6404f",
        "colab": {
          "base_uri": "https://localhost:8080/",
          "height": 306
        }
      },
      "source": [
        "tx_starbucks['label'] = clstr.labels_\n",
        "tx_starbucks.head()"
      ],
      "execution_count": null,
      "outputs": [
        {
          "output_type": "execute_result",
          "data": {
            "text/html": [
              "<div>\n",
              "<style scoped>\n",
              "    .dataframe tbody tr th:only-of-type {\n",
              "        vertical-align: middle;\n",
              "    }\n",
              "\n",
              "    .dataframe tbody tr th {\n",
              "        vertical-align: top;\n",
              "    }\n",
              "\n",
              "    .dataframe thead th {\n",
              "        text-align: right;\n",
              "    }\n",
              "</style>\n",
              "<table border=\"1\" class=\"dataframe\">\n",
              "  <thead>\n",
              "    <tr style=\"text-align: right;\">\n",
              "      <th></th>\n",
              "      <th>Brand</th>\n",
              "      <th>Store Number</th>\n",
              "      <th>Store Name</th>\n",
              "      <th>Ownership Type</th>\n",
              "      <th>Street Address</th>\n",
              "      <th>City</th>\n",
              "      <th>State/Province</th>\n",
              "      <th>Country</th>\n",
              "      <th>Postcode</th>\n",
              "      <th>Phone Number</th>\n",
              "      <th>Timezone</th>\n",
              "      <th>Longitude</th>\n",
              "      <th>Latitude</th>\n",
              "      <th>Coordinates</th>\n",
              "      <th>label</th>\n",
              "    </tr>\n",
              "  </thead>\n",
              "  <tbody>\n",
              "    <tr>\n",
              "      <th>23039</th>\n",
              "      <td>Starbucks</td>\n",
              "      <td>26805-245287</td>\n",
              "      <td>Market Street #679 - Abilene</td>\n",
              "      <td>Licensed</td>\n",
              "      <td>4450 Buffalo Gap Road</td>\n",
              "      <td>Abilene</td>\n",
              "      <td>TX</td>\n",
              "      <td>US</td>\n",
              "      <td>79606</td>\n",
              "      <td>(325) 695-5300</td>\n",
              "      <td>GMT-06:00 America/Chicago</td>\n",
              "      <td>-99.76</td>\n",
              "      <td>32.40</td>\n",
              "      <td>(32.4, -99.76)</td>\n",
              "      <td>1</td>\n",
              "    </tr>\n",
              "    <tr>\n",
              "      <th>23040</th>\n",
              "      <td>Starbucks</td>\n",
              "      <td>13699-107990</td>\n",
              "      <td>14th &amp; Barrow</td>\n",
              "      <td>Company Owned</td>\n",
              "      <td>1389 Barrow</td>\n",
              "      <td>Abilene</td>\n",
              "      <td>TX</td>\n",
              "      <td>US</td>\n",
              "      <td>796055171</td>\n",
              "      <td>325-692-4765</td>\n",
              "      <td>GMT-06:00 America/Chicago</td>\n",
              "      <td>-99.76</td>\n",
              "      <td>32.43</td>\n",
              "      <td>(32.43, -99.76)</td>\n",
              "      <td>1</td>\n",
              "    </tr>\n",
              "    <tr>\n",
              "      <th>23041</th>\n",
              "      <td>Starbucks</td>\n",
              "      <td>6637-69140</td>\n",
              "      <td>Buffalo Gap &amp; Hwy. 83</td>\n",
              "      <td>Company Owned</td>\n",
              "      <td>4150 Buffalo Gap Road</td>\n",
              "      <td>Abilene</td>\n",
              "      <td>TX</td>\n",
              "      <td>US</td>\n",
              "      <td>796057232</td>\n",
              "      <td>325-793-2197</td>\n",
              "      <td>GMT-06:00 America/Chicago</td>\n",
              "      <td>-99.76</td>\n",
              "      <td>32.40</td>\n",
              "      <td>(32.4, -99.76)</td>\n",
              "      <td>1</td>\n",
              "    </tr>\n",
              "    <tr>\n",
              "      <th>23042</th>\n",
              "      <td>Starbucks</td>\n",
              "      <td>29138-252016</td>\n",
              "      <td>351 &amp; Enterprise</td>\n",
              "      <td>Company Owned</td>\n",
              "      <td>2626 Enterprise Drive</td>\n",
              "      <td>Abilene</td>\n",
              "      <td>TX</td>\n",
              "      <td>US</td>\n",
              "      <td>79601</td>\n",
              "      <td>3257257496</td>\n",
              "      <td>GMT-06:00 America/Chicago</td>\n",
              "      <td>-99.69</td>\n",
              "      <td>32.48</td>\n",
              "      <td>(32.48, -99.69)</td>\n",
              "      <td>1</td>\n",
              "    </tr>\n",
              "    <tr>\n",
              "      <th>23043</th>\n",
              "      <td>Starbucks</td>\n",
              "      <td>22171-200104</td>\n",
              "      <td>Aramark @ Abilene Christian Univers</td>\n",
              "      <td>Licensed</td>\n",
              "      <td>760 Library Court</td>\n",
              "      <td>Abilene</td>\n",
              "      <td>TX</td>\n",
              "      <td>US</td>\n",
              "      <td>79699</td>\n",
              "      <td>325-674-2316</td>\n",
              "      <td>GMT-06:00 America/Chicago</td>\n",
              "      <td>-99.70</td>\n",
              "      <td>32.39</td>\n",
              "      <td>(32.39, -99.7)</td>\n",
              "      <td>1</td>\n",
              "    </tr>\n",
              "  </tbody>\n",
              "</table>\n",
              "</div>"
            ],
            "text/plain": [
              "           Brand  Store Number  ...      Coordinates label\n",
              "23039  Starbucks  26805-245287  ...   (32.4, -99.76)     1\n",
              "23040  Starbucks  13699-107990  ...  (32.43, -99.76)     1\n",
              "23041  Starbucks    6637-69140  ...   (32.4, -99.76)     1\n",
              "23042  Starbucks  29138-252016  ...  (32.48, -99.69)     1\n",
              "23043  Starbucks  22171-200104  ...   (32.39, -99.7)     1\n",
              "\n",
              "[5 rows x 15 columns]"
            ]
          },
          "metadata": {
            "tags": []
          },
          "execution_count": 12
        }
      ]
    },
    {
      "cell_type": "markdown",
      "metadata": {
        "id": "MUjcLMMk1D_2"
      },
      "source": [
        "Let's plot the dendrogram using the provided function \"plot_dendrogram\". The dendrogram will be difficult to read because there are so many leaf nodes; we can try experimenting with smaller geographical areas for easier to read dendrograms."
      ]
    },
    {
      "cell_type": "code",
      "metadata": {
        "id": "6OTdN8oF1D_2",
        "outputId": "04c0d565-50d0-4cfc-9177-f97191f43be4",
        "colab": {
          "base_uri": "https://localhost:8080/",
          "height": 1000
        }
      },
      "source": [
        "plt.figure(figsize=(20,20))\n",
        "plot_dendrogram(clstr)"
      ],
      "execution_count": null,
      "outputs": [
        {
          "output_type": "display_data",
          "data": {
            "image/png": "[encoded data removed]",
            "text/plain": [
              "<Figure size 1440x1440 with 1 Axes>"
            ]
          },
          "metadata": {
            "tags": [],
            "needs_background": "light"
          }
        }
      ]
    },
    {
      "cell_type": "markdown",
      "metadata": {
        "id": "Qz9e_PSrwBIQ"
      },
      "source": [
        "As expected, this was not a useful visualization."
      ]
    },
    {
      "cell_type": "markdown",
      "metadata": {
        "id": "ao3Y5FVp1D_4"
      },
      "source": [
        "Let's plot the resulting clusters on a map using the \"scatter_geo\" function from plotly.express. The map defaults to the entire world; the \"scope\" parameter is useful for narrowing down the region plotted in the map. The documentation can be found here:\n",
        "\n",
        "https://www.plotly.express/plotly_express/#plotly_express.scatter_geo\n",
        "\n",
        "\n",
        "This will provide a much better visual. Do the clusters correspond to geographic areas you would expect? Feel free to experiment with other values for n_cluster and linkage and see how they affect the results.\n",
        "\n",
        "(the mouse scroll wheel can be used to zoom in and out of the graphic)"
      ]
    },
    {
      "cell_type": "code",
      "metadata": {
        "id": "sUhMxZdL1D_4",
        "scrolled": true,
        "outputId": "3864fe5a-b62a-4014-912c-7abe9a973ba3",
        "colab": {
          "base_uri": "https://localhost:8080/",
          "height": 542
        }
      },
      "source": [
        "px.scatter_geo(tx_starbucks, lat='Latitude', lon='Longitude', scope='north america', color='label',)"
      ],
      "execution_count": null,
      "outputs": [
        {
          "output_type": "display_data",
          "data": {
            "text/html": [
              "<html>\n",
              "<head><meta charset=\"utf-8\" /></head>\n",
              "<body>\n",
              "    <div>\n",
              "            <script src=\"https://cdnjs.cloudflare.com/ajax/libs/mathjax/2.7.5/MathJax.js?config=TeX-AMS-MML_SVG\"></script><script type=\"text/javascript\">if (window.MathJax) {MathJax.Hub.Config({SVG: {font: \"STIX-Web\"}});}</script>\n",
              "                <script type=\"text/javascript\">window.PlotlyConfig = {MathJaxConfig: 'local'};</script>\n",
              "        <script src=\"https://cdn.plot.ly/plotly-latest.min.js\"></script>    \n",
              "            <div id=\"3e4e44ce-d3e5-4bcf-ab3e-c9e2965dbf23\" class=\"plotly-graph-div\" style=\"height:525px; width:100%;\"></div>\n",
              "            <script type=\"text/javascript\">\n",
              "                \n",
              "                    window.PLOTLYENV=window.PLOTLYENV || {};\n",
              "                    \n",
              "                if (document.getElementById(\"3e4e44ce-d3e5-4bcf-ab3e-c9e2965dbf23\")) {\n",
              "                    Plotly.newPlot(\n",
              "                        '3e4e44ce-d3e5-4bcf-ab3e-c9e2965dbf23',\n",
              "                        [{\"geo\": \"geo\", \"hoverlabel\": {\"namelength\": 0}, \"hovertemplate\": \"Latitude=%{lat}<br>Longitude=%{lon}<br>label=%{marker.color}\", \"lat\": [32.4, 32.43, 32.4, 32.48, 32.39, 32.46, 32.94, 32.95, 32.95, 33.09, 33.14, 33.08, 33.12, 33.12, 33.11, 33.09, 33.1, 33.1, 29.4, 29.43, 35.19, 35.18, 35.19, 35.19, 32.67, 32.72, 32.73, 32.78, 32.68, 32.68, 32.72, 32.68, 32.68, 32.68, 32.73, 32.77, 32.67, 32.68, 32.72, 32.75, 30.0, 30.28, 30.26, 30.23, 30.24, 30.17, 30.18, 30.35, 30.36, 30.45, 30.48, 30.27, 30.39, 30.26, 30.22, 30.3, 30.27, 30.39, 30.22, 30.23, 30.27, 30.31, 30.41, 30.28, 30.26, 30.3, 30.24, 30.3, 30.31, 30.26, 30.44, 30.29, 30.4, 30.28, 30.37, 30.4, 30.23, 30.41, 30.18, 30.3, 30.24, 30.2, 30.28, 30.28, 30.4, 30.27, 30.29, 30.31, 30.29, 30.16, 30.39, 30.48, 30.27, 30.22, 30.42, 30.45, 30.25, 30.21, 30.23, 30.28, 30.34, 29.49, 33.08, 33.08, 30.11, 29.79, 29.77, 29.77, 29.81, 30.13, 30.12, 30.07, 30.12, 32.84, 29.71, 31.05, 32.68, 29.78, 30.14, 25.97, 25.97, 25.95, 31.73, 30.66, 30.67, 30.64, 30.09, 29.8, 32.54, 32.52, 32.56, 32.52, 34.98, 33.02, 33.03, 32.97, 33.02, 33.03, 33.0, 32.59, 32.6, 30.53, 30.48, 30.48, 30.53, 30.53, 30.47, 32.34, 29.04, 30.61, 30.62, 30.64, 30.62, 30.59, 30.61, 30.62, 30.61, 30.58, 32.88, 32.89, 30.21, 30.32, 30.33, 30.33, 29.5, 32.97, 32.97, 31.12, 33.13, 27.71, 27.69, 27.71, 27.72, 27.74, 29.89, 33.23, 32.57, 29.97, 30.0, 29.92, 29.95, 29.97, 29.99, 29.96, 29.97, 32.84, 32.96, 32.84, 32.93, 32.91, 32.86, 32.79, 32.84, 32.86, 32.9, 32.81, 32.84, 32.98, 32.93, 32.84, 32.87, 32.86, 32.86, 32.76, 32.79, 32.8, 32.79, 32.81, 32.85, 32.8, 32.85, 32.78, 32.86, 32.82, 32.87, 32.84, 32.82, 32.89, 32.9, 32.78, 32.87, 32.88, 33.0, 32.87, 32.81, 32.83, 32.81, 32.83, 32.65, 32.78, 32.81, 32.91, 32.87, 33.0, 32.86, 33.0, 32.79, 32.95, 32.86, 32.93, 32.91, 32.9, 32.91, 32.93, 32.91, 32.84, 32.82, 32.84, 32.9, 32.84, 32.81, 32.8, 32.81, 32.84, 32.9, 32.9, 32.85, 32.95, 32.9, 32.78, 32.9, 32.85, 32.93, 32.7, 32.81, 32.9, 32.98, 32.9, 32.9, 32.74, 32.87, 32.89, 32.92, 32.91, 33.23, 29.68, 29.66, 29.39, 33.23, 33.14, 33.23, 33.23, 33.21, 33.19, 33.23, 33.19, 33.23, 33.19, 32.6, 32.6, 29.45, 32.65, 26.26, 26.31, 31.72, 31.77, 31.76, 31.87, 31.8, 31.84, 31.77, 31.77, 31.77, 31.77, 31.79, 31.83, 31.91, 31.79, 31.87, 31.76, 31.78, 31.8, 31.9, 31.76, 31.8, 32.33, 32.88, 32.84, 32.88, 32.92, 33.04, 33.01, 33.07, 33.07, 33.04, 32.99, 33.07, 33.03, 33.04, 33.07, 32.66, 32.74, 32.74, 29.47, 32.66, 32.9, 32.73, 32.73, 32.73, 32.88, 32.68, 32.74, 32.75, 32.64, 32.63, 32.73, 32.86, 32.75, 32.96, 32.73, 32.82, 32.71, 32.68, 32.67, 32.76, 32.71, 32.68, 32.9, 32.81, 32.73, 32.91, 32.67, 32.73, 32.86, 32.75, 32.89, 29.51, 29.54, 29.54, 29.52, 33.1, 33.11, 33.1, 33.17, 33.18, 33.12, 33.11, 33.17, 33.18, 33.13, 33.14, 33.15, 33.11, 33.18, 32.76, 31.81, 31.81, 32.75, 32.97, 32.75, 29.7, 33.62, 29.27, 29.27, 29.31, 29.27, 32.86, 32.86, 32.96, 32.97, 32.84, 32.94, 32.96, 32.96, 30.63, 30.63, 30.68, 30.65, 32.43, 32.46, 32.46, 32.67, 32.64, 32.76, 32.65, 32.69, 32.68, 32.93, 32.97, 32.97, 32.92, 32.95, 32.94, 32.93, 32.94, 33.09, 32.86, 31.07, 31.07, 26.19, 26.17, 26.21, 26.18, 29.56, 33.13, 32.01, 29.85, 29.74, 29.98, 30.02, 29.67, 29.76, 29.55, 29.77, 29.88, 29.72, 29.74, 29.81, 29.77, 29.69, 29.73, 29.77, 29.92, 29.78, 29.99, 29.67, 29.72, 29.99, 29.75, 29.79, 29.73, 29.75, 29.78, 29.72, 29.74, 29.74, 29.78, 29.74, 29.68, 29.78, 29.68, 29.69, 29.91, 29.85, 29.78, 29.74, 29.92, 29.78, 29.77, 29.77, 29.76, 29.82, 29.9, 29.74, 29.82, 29.99, 29.6, 29.74, 29.76, 29.66, 29.75, 29.72, 29.99, 29.75, 29.99, 29.6, 29.68, 29.71, 29.76, 29.89, 29.73, 29.75, 29.78, 29.75, 29.74, 30.02, 29.98, 29.73, 29.9, 29.97, 29.99, 29.72, 29.6, 29.8, 29.98, 29.78, 30.16, 29.88, 29.96, 29.78, 29.95, 29.73, 29.76, 29.93, 29.72, 29.74, 29.77, 29.74, 29.93, 29.75, 29.72, 29.77, 29.74, 29.76, 29.96, 29.74, 29.75, 29.74, 29.75, 29.83, 29.98, 29.76, 29.93, 29.75, 29.96, 29.98, 29.63, 29.9, 29.76, 29.76, 29.74, 29.75, 29.75, 29.78, 29.71, 29.96, 29.65, 29.73, 29.98, 29.7, 30.0, 29.69, 29.77, 29.83, 29.77, 29.69, 29.83, 29.74, 29.77, 29.72, 29.76, 29.72, 29.7, 29.99, 29.74, 29.71, 29.81, 29.58, 29.74, 29.71, 30.07, 29.92, 29.75, 29.74, 29.81, 29.76, 29.92, 29.59, 29.78, 29.99, 30.02, 29.94, 30.0, 30.0, 30.07, 30.01, 30.0, 30.05, 30.0, 30.0, 30.71, 30.71, 30.72, 30.31, 30.72, 32.83, 32.86, 32.82, 32.83, 32.84, 32.84, 30.54, 32.92, 32.91, 32.84, 32.91, 32.89, 32.86, 32.85, 32.92, 29.76, 29.74, 29.77, 29.79, 29.74, 29.76, 29.78, 29.86, 29.82, 29.78, 29.7, 29.81, 29.78, 29.73, 29.8, 29.78, 29.72, 29.78, 32.93, 32.93, 32.93, 29.54, 29.55, 30.06, 31.15, 31.09, 31.11, 31.11, 27.52, 30.05, 30.07, 30.0, 30.02, 31.6, 29.05, 32.81, 30.34, 30.34, 29.65, 27.61, 27.57, 27.55, 27.52, 27.57, 29.54, 29.49, 29.51, 29.47, 29.51, 29.53, 29.5, 29.47, 30.54, 30.56, 33.59, 33.04, 33.01, 33.01, 33.01, 33.07, 33.0, 33.07, 33.07, 32.47, 33.17, 33.18, 33.16, 29.56, 32.53, 32.54, 32.55, 33.55, 33.52, 33.59, 33.55, 33.52, 33.66, 33.59, 33.58, 33.48, 33.51, 33.52, 33.09, 31.3, 30.22, 30.22, 30.35, 32.61, 32.58, 32.58, 32.58, 32.6, 32.59, 32.61, 30.56, 26.19, 26.24, 26.24, 26.2, 26.24, 26.19, 26.27, 26.19, 26.19, 33.2, 33.13, 33.17, 33.22, 33.17, 33.22, 33.17, 26.16, 32.81, 32.75, 32.81, 32.02, 32.03, 32.02, 32.04, 32.03, 31.97, 32.48, 26.2, 29.57, 29.54, 29.56, 29.58, 29.57, 30.36, 33.01, 31.62, 31.62, 29.55, 29.95, 29.69, 29.69, 32.84, 32.91, 32.91, 32.9, 31.89, 31.89, 31.89, 31.85, 31.89, 35.55, 33.66, 29.66, 29.65, 29.65, 29.65, 29.55, 29.56, 29.58, 29.58, 29.56, 29.56, 29.55, 30.47, 30.45, 30.46, 26.18, 33.08, 33.03, 33.03, 33.03, 33.04, 33.04, 33.06, 33.02, 33.03, 33.02, 33.02, 33.04, 33.11, 33.07, 33.02, 33.03, 33.05, 33.02, 33.03, 33.06, 33.04, 33.04, 33.04, 29.95, 30.1, 27.88, 33.24, 33.22, 29.53, 32.98, 33.0, 33.0, 32.94, 32.93, 33.0, 32.95, 33.0, 32.97, 29.62, 29.68, 29.66, 29.7, 32.9, 32.9, 32.97, 32.9, 32.95, 32.89, 32.94, 29.54, 29.54, 29.55, 30.56, 30.5, 30.5, 30.48, 30.53, 30.51, 30.52, 30.56, 30.57, 32.92, 32.92, 32.91, 32.91, 32.97, 31.45, 31.46, 31.42, 31.44, 29.61, 29.59, 29.52, 29.48, 29.59, 29.61, 29.44, 29.61, 29.52, 29.61, 29.49, 29.49, 29.51, 29.55, 29.57, 29.45, 29.56, 29.47, 29.52, 29.67, 29.52, 29.53, 29.51, 29.58, 29.52, 29.57, 29.61, 29.61, 29.55, 29.53, 29.56, 29.43, 29.55, 29.51, 29.52, 29.42, 29.6, 29.49, 29.49, 29.61, 29.56, 29.52, 29.48, 29.57, 29.35, 29.51, 29.36, 29.42, 29.61, 29.5, 29.55, 29.56, 29.52, 29.42, 29.47, 29.66, 29.44, 29.53, 29.65, 29.52, 29.5, 29.44, 29.44, 29.35, 29.36, 29.5, 29.51, 29.59, 29.44, 29.42, 29.53, 29.39, 29.53, 29.55, 29.51, 29.47, 29.44, 29.66, 29.64, 29.52, 29.49, 29.38, 29.89, 29.87, 29.83, 29.9, 29.83, 29.6, 29.6, 29.57, 29.6, 33.66, 33.68, 33.67, 32.94, 32.94, 32.94, 32.94, 30.0, 30.04, 30.19, 30.03, 30.07, 30.04, 30.05, 30.13, 30.07, 30.08, 30.07, 30.13, 30.12, 30.14, 30.05, 30.02, 29.79, 29.62, 32.2, 29.59, 29.59, 29.6, 29.61, 29.65, 29.59, 29.6, 29.59, 29.56, 31.1, 31.07, 31.12, 31.09, 32.7, 32.72, 33.46, 29.42, 29.4, 33.07, 30.19, 30.17, 30.23, 30.18, 30.21, 30.16, 30.18, 30.17, 30.17, 30.16, 30.18, 30.09, 30.08, 30.11, 30.09, 30.11, 33.0, 32.31, 32.35, 32.3, 32.33, 32.28, 32.3, 28.86, 28.87, 31.55, 31.53, 31.5, 31.53, 31.55, 31.53, 32.89, 32.89, 32.42, 32.42, 32.73, 32.73, 32.76, 29.54, 29.58, 29.54, 29.54, 29.56, 26.17, 33.88, 33.86, 30.39, 30.16, 31.5, 33.01, 33.01, 33.01, 33.01, 33.01], \"legendgroup\": \"\", \"lon\": [-99.76, -99.76, -99.76, -99.69, -99.7, -99.71, -96.85, -96.84, -96.82, -96.68, -96.68, -96.64, -96.66, -96.65, -96.7, -96.68, -96.68, -96.7, -95.25, -95.23, -101.8, -101.94, -101.93, -101.87, -97.11, -97.15, -97.11, -97.1, -97.11, -97.14, -97.15, -97.13, -97.13, -97.19, -97.11, -97.1, -97.13, -97.2, -97.12, -97.13, -95.17, -97.8, -97.75, -97.87, -97.73, -97.79, -97.85, -97.76, -97.74, -97.83, -97.81, -97.74, -97.74, -97.81, -97.69, -97.74, -97.75, -97.75, -97.76, -97.79, -97.74, -97.74, -97.85, -97.8, -97.81, -97.76, -97.79, -97.93, -97.75, -97.74, -97.74, -97.74, -97.75, -97.74, -97.76, -97.85, -97.74, -97.69, -97.85, -97.7, -97.76, -97.88, -97.74, -97.73, -97.73, -97.75, -97.83, -97.71, -97.74, -97.79, -97.88, -97.8, -97.74, -97.84, -97.7, -97.79, -97.76, -97.82, -97.83, -97.78, -97.76, -98.55, -97.13, -97.13, -97.33, -94.98, -94.98, -94.98, -94.98, -94.15, -94.17, -94.13, -94.17, -97.13, -95.47, -97.45, -97.46, -98.74, -96.39, -97.51, -97.51, -97.5, -98.98, -96.33, -96.34, -96.35, -97.82, -98.42, -97.31, -97.35, -97.32, -97.35, -101.92, -96.88, -96.84, -96.92, -96.91, -96.89, -96.91, -96.94, -96.94, -97.81, -97.83, -97.83, -97.81, -97.78, -97.8, -97.41, -95.42, -96.31, -96.35, -96.32, -96.35, -96.28, -96.34, -96.34, -96.32, -96.29, -97.1, -97.15, -95.46, -95.48, -95.5, -95.48, -98.32, -96.99, -96.99, -97.88, -97.04, -97.37, -97.38, -97.37, -97.33, -97.39, -95.06, -96.99, -97.35, -95.69, -95.76, -95.69, -95.71, -95.69, -95.62, -95.67, -95.69, -96.78, -96.79, -96.78, -96.82, -96.8, -96.86, -96.8, -96.78, -96.77, -97.04, -96.75, -96.77, -96.77, -96.82, -96.85, -96.77, -96.85, -96.77, -96.9, -96.8, -96.8, -96.78, -96.73, -96.79, -96.79, -96.77, -96.8, -96.75, -96.87, -96.76, -96.75, -96.8, -97.04, -97.04, -96.8, -96.75, -97.02, -96.83, -96.77, -96.79, -96.7, -96.8, -96.83, -96.86, -96.8, -96.83, -96.75, -96.81, -96.86, -96.89, -96.79, -96.8, -96.81, -96.84, -96.77, -96.77, -96.74, -96.85, -96.82, -97.04, -96.8, -96.79, -96.85, -97.04, -96.82, -96.81, -96.83, -96.83, -96.78, -96.72, -97.04, -96.82, -96.77, -97.04, -96.8, -96.8, -96.77, -96.8, -96.9, -96.81, -97.04, -96.77, -97.04, -97.04, -96.86, -96.77, -97.03, -96.82, -96.87, -97.6, -95.12, -95.11, -100.9, -97.13, -97.11, -97.14, -97.16, -97.15, -97.1, -97.16, -97.11, -97.14, -97.11, -96.82, -96.86, -95.08, -96.92, -98.16, -98.19, -106.3, -106.5, -106.27, -106.58, -106.4, -106.57, -106.32, -106.38, -106.38, -106.5, -106.27, -106.53, -106.58, -106.41, -106.58, -106.49, -106.39, -106.4, -106.44, -106.27, -106.39, -96.62, -97.1, -97.1, -97.1, -96.97, -97.04, -97.05, -97.06, -97.08, -97.04, -97.07, -97.08, -97.07, -97.04, -97.06, -97.28, -96.45, -96.46, -98.43, -97.42, -97.32, -97.34, -97.34, -97.41, -97.38, -97.41, -97.34, -97.33, -97.37, -97.32, -97.39, -97.29, -97.43, -97.3, -97.36, -97.06, -97.36, -97.41, -97.4, -97.48, -97.39, -97.4, -97.32, -97.43, -97.42, -97.31, -97.38, -97.36, -97.32, -97.35, -97.29, -95.19, -95.15, -95.15, -95.16, -96.81, -96.84, -96.81, -96.74, -96.84, -96.8, -96.81, -96.73, -96.84, -96.73, -96.8, -96.86, -96.81, -96.89, -97.35, -106.41, -106.41, -97.33, -97.42, -97.33, -95.85, -97.15, -94.83, -94.82, -94.79, -94.83, -96.65, -96.66, -96.64, -96.65, -96.6, -96.61, -96.62, -96.67, -97.7, -97.69, -97.72, -97.68, -97.78, -97.73, -97.73, -97.0, -97.06, -96.99, -97.06, -97.06, -97.01, -97.09, -97.04, -97.04, -97.12, -97.05, -97.07, -97.09, -97.1, -96.11, -97.26, -97.67, -97.67, -97.72, -97.67, -97.69, -97.72, -98.68, -97.04, -97.09, -95.5, -95.6, -95.22, -95.38, -95.46, -95.37, -95.13, -95.56, -95.65, -95.5, -95.5, -95.41, -95.55, -95.46, -95.44, -95.56, -95.61, -95.59, -95.35, -95.26, -95.34, -95.33, -95.36, -95.41, -95.48, -95.46, -95.54, -95.4, -95.45, -95.54, -95.71, -95.64, -95.46, -95.72, -95.64, -95.41, -95.69, -95.65, -95.41, -95.55, -95.62, -95.54, -95.39, -95.38, -95.62, -95.47, -95.56, -95.53, -95.55, -95.35, -95.27, -95.46, -95.63, -95.28, -95.41, -95.44, -95.35, -95.45, -95.35, -95.21, -95.43, -95.4, -95.37, -95.58, -95.62, -95.47, -95.54, -95.37, -95.46, -95.44, -95.33, -95.43, -95.56, -95.53, -95.35, -95.47, -95.27, -95.49, -95.34, -95.51, -95.46, -95.65, -95.54, -95.64, -95.41, -95.43, -95.36, -95.2, -95.42, -95.41, -95.4, -95.59, -95.6, -95.38, -95.34, -95.61, -95.47, -95.37, -95.54, -95.39, -95.45, -95.46, -95.41, -95.68, -95.51, -95.48, -95.63, -95.41, -95.55, -95.57, -95.23, -95.61, -95.42, -95.36, -95.54, -95.5, -95.36, -95.54, -95.43, -95.54, -95.57, -95.43, -95.51, -95.3, -95.57, -95.46, -95.61, -95.48, -95.36, -95.42, -95.43, -95.46, -95.72, -95.56, -95.37, -95.34, -95.42, -95.35, -95.52, -95.4, -95.41, -95.12, -95.57, -95.44, -95.19, -95.41, -95.37, -95.41, -95.17, -95.36, -95.2, -95.14, -95.52, -95.5, -95.27, -95.25, -95.16, -95.18, -95.22, -95.27, -95.19, -95.23, -95.27, -95.25, -95.55, -95.55, -95.57, -95.47, -95.57, -97.2, -97.18, -97.2, -97.2, -97.19, -97.18, -97.56, -96.99, -96.96, -96.98, -96.96, -96.96, -96.96, -96.99, -96.96, -95.78, -95.78, -95.84, -95.72, -95.78, -95.75, -95.75, -95.72, -95.77, -95.81, -95.81, -95.72, -95.81, -95.75, -95.75, -95.72, -95.78, -95.83, -97.23, -97.23, -97.25, -95.02, -95.02, -99.17, -97.8, -97.73, -97.8, -97.75, -97.86, -95.18, -95.24, -97.84, -97.86, -97.11, -95.46, -97.43, -97.97, -97.97, -95.03, -99.48, -99.43, -99.5, -99.45, -99.47, -95.06, -95.12, -95.1, -95.08, -95.04, -95.07, -95.04, -95.09, -97.86, -97.84, -102.37, -97.0, -97.02, -96.97, -96.97, -96.89, -96.96, -96.89, -96.88, -95.39, -96.89, -96.88, -96.94, -98.33, -94.72, -94.76, -94.73, -101.96, -101.91, -101.87, -101.95, -101.94, -101.82, -101.92, -101.94, -101.89, -101.92, -101.87, -96.62, -94.73, -95.57, -95.57, -97.56, -97.12, -97.08, -97.13, -97.08, -97.15, -97.14, -97.12, -98.27, -98.24, -98.23, -98.21, -98.27, -98.25, -98.21, -98.22, -98.21, -98.23, -96.71, -96.73, -96.64, -96.64, -96.68, -96.63, -96.66, -97.89, -96.62, -96.59, -96.62, -102.14, -102.13, -102.12, -102.13, -102.14, -102.07, -97.01, -98.29, -95.57, -95.52, -95.57, -95.58, -95.57, -95.6, -96.61, -94.65, -94.65, -95.1, -93.99, -98.13, -98.14, -97.24, -97.19, -97.19, -97.19, -102.35, -102.34, -102.33, -102.37, -102.35, -100.97, -95.51, -95.19, -95.15, -95.16, -95.15, -95.38, -95.38, -95.39, -95.4, -95.35, -95.28, -95.38, -97.6, -97.66, -97.6, -98.19, -96.82, -96.79, -96.8, -96.83, -96.83, -96.71, -96.77, -96.68, -96.83, -96.66, -96.71, -96.73, -96.77, -96.77, -96.8, -96.83, -96.8, -96.73, -96.83, -96.69, -96.73, -96.72, -96.75, -93.99, -95.24, -97.32, -96.79, -96.74, -98.28, -96.77, -96.65, -96.7, -96.7, -96.68, -96.7, -96.74, -96.73, -96.72, -95.74, -95.72, -95.75, -95.69, -96.46, -96.48, -96.47, -96.47, -96.46, -96.47, -96.45, -95.75, -95.75, -95.75, -97.68, -97.72, -97.65, -97.66, -97.62, -97.69, -97.69, -97.69, -97.69, -96.52, -96.52, -96.58, -96.56, -96.6, -100.48, -100.45, -100.48, -100.47, -98.47, -98.62, -98.48, -98.46, -98.62, -98.6, -98.5, -98.47, -98.5, -98.49, -98.71, -98.43, -98.46, -98.66, -98.65, -98.56, -98.52, -98.61, -98.64, -98.43, -98.57, -98.58, -98.58, -98.62, -98.5, -98.49, -98.6, -98.51, -98.58, -98.52, -98.59, -98.49, -98.57, -98.55, -98.5, -98.49, -98.42, -98.45, -98.35, -98.51, -98.48, -98.59, -98.53, -98.33, -98.44, -98.39, -98.52, -98.49, -98.51, -98.48, -98.66, -98.54, -98.5, -98.48, -98.62, -98.63, -98.65, -98.56, -98.45, -98.61, -98.48, -98.71, -98.49, -98.44, -98.54, -98.63, -98.57, -98.62, -98.67, -98.52, -98.47, -98.62, -98.68, -98.66, -98.54, -98.53, -98.65, -98.45, -98.48, -98.61, -98.57, -98.61, -97.94, -97.94, -97.99, -97.95, -97.98, -98.28, -97.95, -98.33, -98.56, -96.61, -96.61, -96.61, -97.13, -97.11, -97.15, -97.15, -95.53, -95.49, -95.49, -95.55, -95.51, -95.49, -95.43, -95.43, -95.44, -95.52, -95.44, -95.46, -95.41, -95.47, -95.43, -95.53, -95.5, -95.57, -98.24, -95.68, -95.63, -95.63, -95.66, -95.65, -95.63, -95.62, -95.6, -95.68, -97.36, -97.37, -97.41, -97.39, -96.28, -96.32, -94.09, -95.06, -94.95, -96.89, -95.59, -95.47, -95.51, -95.48, -95.53, -95.46, -95.54, -95.5, -95.46, -95.46, -95.54, -95.64, -95.63, -95.55, -95.63, -95.55, -97.21, -95.28, -95.34, -95.3, -95.28, -95.31, -95.3, -97.0, -97.0, -97.11, -97.19, -97.16, -97.13, -97.12, -97.19, -97.26, -97.26, -96.84, -96.84, -97.79, -97.79, -97.79, -95.14, -95.16, -95.15, -95.15, -95.15, -98.01, -98.53, -98.53, -95.49, -95.46, -97.22, -96.57, -96.57, -96.55, -96.59, -96.54], \"marker\": {\"color\": [1, 1, 1, 1, 1, 1, 0, 0, 0, 0, 0, 0, 0, 0, 0, 0, 0, 0, 0, 0, 1, 1, 1, 1, 0, 0, 0, 0, 0, 0, 0, 0, 0, 0, 0, 0, 0, 0, 0, 0, 0, 0, 0, 0, 0, 0, 0, 0, 0, 0, 0, 0, 0, 0, 0, 0, 0, 0, 0, 0, 0, 0, 0, 0, 0, 0, 0, 0, 0, 0, 0, 0, 0, 0, 0, 0, 0, 0, 0, 0, 0, 0, 0, 0, 0, 0, 0, 0, 0, 0, 0, 0, 0, 0, 0, 0, 0, 0, 0, 0, 0, 0, 0, 0, 0, 0, 0, 0, 0, 0, 0, 0, 0, 0, 0, 0, 0, 0, 0, 2, 2, 2, 1, 0, 0, 0, 0, 0, 0, 0, 0, 0, 1, 0, 0, 0, 0, 0, 0, 0, 0, 0, 0, 0, 0, 0, 0, 0, 0, 0, 0, 0, 0, 0, 0, 0, 0, 0, 0, 0, 0, 0, 0, 0, 0, 0, 0, 0, 0, 2, 2, 2, 2, 2, 0, 0, 0, 0, 0, 0, 0, 0, 0, 0, 0, 0, 0, 0, 0, 0, 0, 0, 0, 0, 0, 0, 0, 0, 0, 0, 0, 0, 0, 0, 0, 0, 0, 0, 0, 0, 0, 0, 0, 0, 0, 0, 0, 0, 0, 0, 0, 0, 0, 0, 0, 0, 0, 0, 0, 0, 0, 0, 0, 0, 0, 0, 0, 0, 0, 0, 0, 0, 0, 0, 0, 0, 0, 0, 0, 0, 0, 0, 0, 0, 0, 0, 0, 0, 0, 0, 0, 0, 0, 0, 0, 0, 0, 0, 0, 0, 0, 0, 0, 0, 0, 0, 0, 4, 0, 0, 0, 0, 0, 0, 0, 0, 0, 0, 0, 0, 0, 0, 2, 2, 3, 3, 3, 3, 3, 3, 3, 3, 3, 3, 3, 3, 3, 3, 3, 3, 3, 3, 3, 3, 3, 0, 0, 0, 0, 0, 0, 0, 0, 0, 0, 0, 0, 0, 0, 0, 0, 0, 0, 0, 0, 0, 0, 0, 0, 0, 0, 0, 0, 0, 0, 0, 0, 0, 0, 0, 0, 0, 0, 0, 0, 0, 0, 0, 0, 0, 0, 0, 0, 0, 0, 0, 0, 0, 0, 0, 0, 0, 0, 0, 0, 0, 0, 0, 0, 0, 0, 0, 0, 0, 0, 3, 3, 0, 0, 0, 0, 0, 0, 0, 0, 0, 0, 0, 0, 0, 0, 0, 0, 0, 0, 0, 0, 0, 0, 0, 0, 0, 0, 0, 0, 0, 0, 0, 0, 0, 0, 0, 0, 0, 0, 0, 0, 0, 0, 2, 2, 2, 2, 0, 0, 0, 0, 0, 0, 0, 0, 0, 0, 0, 0, 0, 0, 0, 0, 0, 0, 0, 0, 0, 0, 0, 0, 0, 0, 0, 0, 0, 0, 0, 0, 0, 0, 0, 0, 0, 0, 0, 0, 0, 0, 0, 0, 0, 0, 0, 0, 0, 0, 0, 0, 0, 0, 0, 0, 0, 0, 0, 0, 0, 0, 0, 0, 0, 0, 0, 0, 0, 0, 0, 0, 0, 0, 0, 0, 0, 0, 0, 0, 0, 0, 0, 0, 0, 0, 0, 0, 0, 0, 0, 0, 0, 0, 0, 0, 0, 0, 0, 0, 0, 0, 0, 0, 0, 0, 0, 0, 0, 0, 0, 0, 0, 0, 0, 0, 0, 0, 0, 0, 0, 0, 0, 0, 0, 0, 0, 0, 0, 0, 0, 0, 0, 0, 0, 0, 0, 0, 0, 0, 0, 0, 0, 0, 0, 0, 0, 0, 0, 0, 0, 0, 0, 0, 0, 0, 0, 0, 0, 0, 0, 0, 0, 0, 0, 0, 0, 0, 0, 0, 0, 0, 0, 0, 0, 0, 0, 0, 0, 0, 0, 0, 0, 0, 0, 0, 0, 0, 0, 0, 0, 0, 0, 0, 0, 0, 0, 0, 0, 0, 0, 0, 0, 0, 0, 0, 0, 0, 0, 0, 0, 0, 0, 0, 0, 2, 0, 0, 0, 0, 0, 0, 0, 0, 0, 0, 2, 2, 2, 2, 2, 0, 0, 0, 0, 0, 0, 0, 0, 0, 0, 1, 0, 0, 0, 0, 0, 0, 0, 0, 0, 0, 0, 0, 0, 0, 0, 0, 1, 1, 1, 1, 1, 1, 1, 1, 1, 1, 1, 0, 0, 0, 0, 0, 0, 0, 0, 0, 0, 0, 0, 0, 2, 2, 2, 2, 2, 2, 2, 2, 2, 0, 0, 0, 0, 0, 0, 0, 2, 0, 0, 0, 1, 1, 1, 1, 1, 1, 0, 2, 0, 0, 0, 0, 0, 0, 0, 0, 0, 0, 0, 0, 0, 0, 0, 0, 0, 1, 1, 1, 1, 1, 1, 0, 0, 0, 0, 0, 0, 0, 0, 0, 0, 0, 0, 0, 0, 0, 2, 0, 0, 0, 0, 0, 0, 0, 0, 0, 0, 0, 0, 0, 0, 0, 0, 0, 0, 0, 0, 0, 0, 0, 0, 0, 2, 0, 0, 0, 0, 0, 0, 0, 0, 0, 0, 0, 0, 0, 0, 0, 0, 0, 0, 0, 0, 0, 0, 0, 0, 0, 0, 0, 0, 0, 0, 0, 0, 0, 0, 0, 0, 0, 0, 0, 0, 1, 1, 1, 1, 0, 0, 0, 0, 0, 0, 0, 0, 0, 0, 0, 0, 0, 0, 0, 0, 0, 0, 0, 0, 0, 0, 0, 0, 0, 0, 0, 0, 0, 0, 0, 0, 0, 0, 0, 0, 0, 0, 0, 0, 0, 0, 0, 0, 0, 0, 0, 0, 0, 0, 0, 0, 0, 0, 0, 0, 0, 0, 0, 0, 0, 0, 0, 0, 0, 0, 0, 0, 0, 0, 0, 0, 0, 0, 0, 0, 0, 0, 0, 0, 0, 0, 0, 0, 0, 0, 0, 0, 0, 0, 0, 0, 0, 0, 0, 0, 0, 0, 0, 0, 0, 0, 0, 0, 0, 0, 0, 0, 0, 0, 0, 0, 0, 0, 0, 0, 0, 0, 0, 0, 0, 0, 0, 0, 0, 0, 0, 0, 0, 0, 0, 0, 0, 0, 0, 0, 0, 0, 0, 0, 0, 0, 0, 0, 0, 0, 0, 0, 0, 0, 0, 0, 0, 0, 0, 0, 0, 0, 0, 2, 2, 0, 0, 0, 0, 0, 0, 0, 0, 0, 0, 0, 0, 0, 0, 0, 0, 0, 0, 2, 0, 0, 0, 0, 0, 0, 0, 0, 0, 0], \"coloraxis\": \"coloraxis\"}, \"name\": \"\", \"showlegend\": false, \"type\": \"scattergeo\"}],\n",
              "                        {\"coloraxis\": {\"colorbar\": {\"title\": {\"text\": \"label\"}}, \"colorscale\": [[0.0, \"#0d0887\"], [0.1111111111111111, \"#46039f\"], [0.2222222222222222, \"#7201a8\"], [0.3333333333333333, \"#9c179e\"], [0.4444444444444444, \"#bd3786\"], [0.5555555555555556, \"#d8576b\"], [0.6666666666666666, \"#ed7953\"], [0.7777777777777778, \"#fb9f3a\"], [0.8888888888888888, \"#fdca26\"], [1.0, \"#f0f921\"]]}, \"geo\": {\"center\": {}, \"domain\": {\"x\": [0.0, 1.0], \"y\": [0.0, 1.0]}, \"scope\": \"north america\"}, \"legend\": {\"tracegroupgap\": 0}, \"margin\": {\"t\": 60}, \"template\": {\"data\": {\"bar\": [{\"error_x\": {\"color\": \"#2a3f5f\"}, \"error_y\": {\"color\": \"#2a3f5f\"}, \"marker\": {\"line\": {\"color\": \"#E5ECF6\", \"width\": 0.5}}, \"type\": \"bar\"}], \"barpolar\": [{\"marker\": {\"line\": {\"color\": \"#E5ECF6\", \"width\": 0.5}}, \"type\": \"barpolar\"}], \"carpet\": [{\"aaxis\": {\"endlinecolor\": \"#2a3f5f\", \"gridcolor\": \"white\", \"linecolor\": \"white\", \"minorgridcolor\": \"white\", \"startlinecolor\": \"#2a3f5f\"}, \"baxis\": {\"endlinecolor\": \"#2a3f5f\", \"gridcolor\": \"white\", \"linecolor\": \"white\", \"minorgridcolor\": \"white\", \"startlinecolor\": \"#2a3f5f\"}, \"type\": \"carpet\"}], \"choropleth\": [{\"colorbar\": {\"outlinewidth\": 0, \"ticks\": \"\"}, \"type\": \"choropleth\"}], \"contour\": [{\"colorbar\": {\"outlinewidth\": 0, \"ticks\": \"\"}, \"colorscale\": [[0.0, \"#0d0887\"], [0.1111111111111111, \"#46039f\"], [0.2222222222222222, \"#7201a8\"], [0.3333333333333333, \"#9c179e\"], [0.4444444444444444, \"#bd3786\"], [0.5555555555555556, \"#d8576b\"], [0.6666666666666666, \"#ed7953\"], [0.7777777777777778, \"#fb9f3a\"], [0.8888888888888888, \"#fdca26\"], [1.0, \"#f0f921\"]], \"type\": \"contour\"}], \"contourcarpet\": [{\"colorbar\": {\"outlinewidth\": 0, \"ticks\": \"\"}, \"type\": \"contourcarpet\"}], \"heatmap\": [{\"colorbar\": {\"outlinewidth\": 0, \"ticks\": \"\"}, \"colorscale\": [[0.0, \"#0d0887\"], [0.1111111111111111, \"#46039f\"], [0.2222222222222222, \"#7201a8\"], [0.3333333333333333, \"#9c179e\"], [0.4444444444444444, \"#bd3786\"], [0.5555555555555556, \"#d8576b\"], [0.6666666666666666, \"#ed7953\"], [0.7777777777777778, \"#fb9f3a\"], [0.8888888888888888, \"#fdca26\"], [1.0, \"#f0f921\"]], \"type\": \"heatmap\"}], \"heatmapgl\": [{\"colorbar\": {\"outlinewidth\": 0, \"ticks\": \"\"}, \"colorscale\": [[0.0, \"#0d0887\"], [0.1111111111111111, \"#46039f\"], [0.2222222222222222, \"#7201a8\"], [0.3333333333333333, \"#9c179e\"], [0.4444444444444444, \"#bd3786\"], [0.5555555555555556, \"#d8576b\"], [0.6666666666666666, \"#ed7953\"], [0.7777777777777778, \"#fb9f3a\"], [0.8888888888888888, \"#fdca26\"], [1.0, \"#f0f921\"]], \"type\": \"heatmapgl\"}], \"histogram\": [{\"marker\": {\"colorbar\": {\"outlinewidth\": 0, \"ticks\": \"\"}}, \"type\": \"histogram\"}], \"histogram2d\": [{\"colorbar\": {\"outlinewidth\": 0, \"ticks\": \"\"}, \"colorscale\": [[0.0, \"#0d0887\"], [0.1111111111111111, \"#46039f\"], [0.2222222222222222, \"#7201a8\"], [0.3333333333333333, \"#9c179e\"], [0.4444444444444444, \"#bd3786\"], [0.5555555555555556, \"#d8576b\"], [0.6666666666666666, \"#ed7953\"], [0.7777777777777778, \"#fb9f3a\"], [0.8888888888888888, \"#fdca26\"], [1.0, \"#f0f921\"]], \"type\": \"histogram2d\"}], \"histogram2dcontour\": [{\"colorbar\": {\"outlinewidth\": 0, \"ticks\": \"\"}, \"colorscale\": [[0.0, \"#0d0887\"], [0.1111111111111111, \"#46039f\"], [0.2222222222222222, \"#7201a8\"], [0.3333333333333333, \"#9c179e\"], [0.4444444444444444, \"#bd3786\"], [0.5555555555555556, \"#d8576b\"], [0.6666666666666666, \"#ed7953\"], [0.7777777777777778, \"#fb9f3a\"], [0.8888888888888888, \"#fdca26\"], [1.0, \"#f0f921\"]], \"type\": \"histogram2dcontour\"}], \"mesh3d\": [{\"colorbar\": {\"outlinewidth\": 0, \"ticks\": \"\"}, \"type\": \"mesh3d\"}], \"parcoords\": [{\"line\": {\"colorbar\": {\"outlinewidth\": 0, \"ticks\": \"\"}}, \"type\": \"parcoords\"}], \"pie\": [{\"automargin\": true, \"type\": \"pie\"}], \"scatter\": [{\"marker\": {\"colorbar\": {\"outlinewidth\": 0, \"ticks\": \"\"}}, \"type\": \"scatter\"}], \"scatter3d\": [{\"line\": {\"colorbar\": {\"outlinewidth\": 0, \"ticks\": \"\"}}, \"marker\": {\"colorbar\": {\"outlinewidth\": 0, \"ticks\": \"\"}}, \"type\": \"scatter3d\"}], \"scattercarpet\": [{\"marker\": {\"colorbar\": {\"outlinewidth\": 0, \"ticks\": \"\"}}, \"type\": \"scattercarpet\"}], \"scattergeo\": [{\"marker\": {\"colorbar\": {\"outlinewidth\": 0, \"ticks\": \"\"}}, \"type\": \"scattergeo\"}], \"scattergl\": [{\"marker\": {\"colorbar\": {\"outlinewidth\": 0, \"ticks\": \"\"}}, \"type\": \"scattergl\"}], \"scattermapbox\": [{\"marker\": {\"colorbar\": {\"outlinewidth\": 0, \"ticks\": \"\"}}, \"type\": \"scattermapbox\"}], \"scatterpolar\": [{\"marker\": {\"colorbar\": {\"outlinewidth\": 0, \"ticks\": \"\"}}, \"type\": \"scatterpolar\"}], \"scatterpolargl\": [{\"marker\": {\"colorbar\": {\"outlinewidth\": 0, \"ticks\": \"\"}}, \"type\": \"scatterpolargl\"}], \"scatterternary\": [{\"marker\": {\"colorbar\": {\"outlinewidth\": 0, \"ticks\": \"\"}}, \"type\": \"scatterternary\"}], \"surface\": [{\"colorbar\": {\"outlinewidth\": 0, \"ticks\": \"\"}, \"colorscale\": [[0.0, \"#0d0887\"], [0.1111111111111111, \"#46039f\"], [0.2222222222222222, \"#7201a8\"], [0.3333333333333333, \"#9c179e\"], [0.4444444444444444, \"#bd3786\"], [0.5555555555555556, \"#d8576b\"], [0.6666666666666666, \"#ed7953\"], [0.7777777777777778, \"#fb9f3a\"], [0.8888888888888888, \"#fdca26\"], [1.0, \"#f0f921\"]], \"type\": \"surface\"}], \"table\": [{\"cells\": {\"fill\": {\"color\": \"#EBF0F8\"}, \"line\": {\"color\": \"white\"}}, \"header\": {\"fill\": {\"color\": \"#C8D4E3\"}, \"line\": {\"color\": \"white\"}}, \"type\": \"table\"}]}, \"layout\": {\"annotationdefaults\": {\"arrowcolor\": \"#2a3f5f\", \"arrowhead\": 0, \"arrowwidth\": 1}, \"coloraxis\": {\"colorbar\": {\"outlinewidth\": 0, \"ticks\": \"\"}}, \"colorscale\": {\"diverging\": [[0, \"#8e0152\"], [0.1, \"#c51b7d\"], [0.2, \"#de77ae\"], [0.3, \"#f1b6da\"], [0.4, \"#fde0ef\"], [0.5, \"#f7f7f7\"], [0.6, \"#e6f5d0\"], [0.7, \"#b8e186\"], [0.8, \"#7fbc41\"], [0.9, \"#4d9221\"], [1, \"#276419\"]], \"sequential\": [[0.0, \"#0d0887\"], [0.1111111111111111, \"#46039f\"], [0.2222222222222222, \"#7201a8\"], [0.3333333333333333, \"#9c179e\"], [0.4444444444444444, \"#bd3786\"], [0.5555555555555556, \"#d8576b\"], [0.6666666666666666, \"#ed7953\"], [0.7777777777777778, \"#fb9f3a\"], [0.8888888888888888, \"#fdca26\"], [1.0, \"#f0f921\"]], \"sequentialminus\": [[0.0, \"#0d0887\"], [0.1111111111111111, \"#46039f\"], [0.2222222222222222, \"#7201a8\"], [0.3333333333333333, \"#9c179e\"], [0.4444444444444444, \"#bd3786\"], [0.5555555555555556, \"#d8576b\"], [0.6666666666666666, \"#ed7953\"], [0.7777777777777778, \"#fb9f3a\"], [0.8888888888888888, \"#fdca26\"], [1.0, \"#f0f921\"]]}, \"colorway\": [\"#636efa\", \"#EF553B\", \"#00cc96\", \"#ab63fa\", \"#FFA15A\", \"#19d3f3\", \"#FF6692\", \"#B6E880\", \"#FF97FF\", \"#FECB52\"], \"font\": {\"color\": \"#2a3f5f\"}, \"geo\": {\"bgcolor\": \"white\", \"lakecolor\": \"white\", \"landcolor\": \"#E5ECF6\", \"showlakes\": true, \"showland\": true, \"subunitcolor\": \"white\"}, \"hoverlabel\": {\"align\": \"left\"}, \"hovermode\": \"closest\", \"mapbox\": {\"style\": \"light\"}, \"paper_bgcolor\": \"white\", \"plot_bgcolor\": \"#E5ECF6\", \"polar\": {\"angularaxis\": {\"gridcolor\": \"white\", \"linecolor\": \"white\", \"ticks\": \"\"}, \"bgcolor\": \"#E5ECF6\", \"radialaxis\": {\"gridcolor\": \"white\", \"linecolor\": \"white\", \"ticks\": \"\"}}, \"scene\": {\"xaxis\": {\"backgroundcolor\": \"#E5ECF6\", \"gridcolor\": \"white\", \"gridwidth\": 2, \"linecolor\": \"white\", \"showbackground\": true, \"ticks\": \"\", \"zerolinecolor\": \"white\"}, \"yaxis\": {\"backgroundcolor\": \"#E5ECF6\", \"gridcolor\": \"white\", \"gridwidth\": 2, \"linecolor\": \"white\", \"showbackground\": true, \"ticks\": \"\", \"zerolinecolor\": \"white\"}, \"zaxis\": {\"backgroundcolor\": \"#E5ECF6\", \"gridcolor\": \"white\", \"gridwidth\": 2, \"linecolor\": \"white\", \"showbackground\": true, \"ticks\": \"\", \"zerolinecolor\": \"white\"}}, \"shapedefaults\": {\"line\": {\"color\": \"#2a3f5f\"}}, \"ternary\": {\"aaxis\": {\"gridcolor\": \"white\", \"linecolor\": \"white\", \"ticks\": \"\"}, \"baxis\": {\"gridcolor\": \"white\", \"linecolor\": \"white\", \"ticks\": \"\"}, \"bgcolor\": \"#E5ECF6\", \"caxis\": {\"gridcolor\": \"white\", \"linecolor\": \"white\", \"ticks\": \"\"}}, \"title\": {\"x\": 0.05}, \"xaxis\": {\"automargin\": true, \"gridcolor\": \"white\", \"linecolor\": \"white\", \"ticks\": \"\", \"title\": {\"standoff\": 15}, \"zerolinecolor\": \"white\", \"zerolinewidth\": 2}, \"yaxis\": {\"automargin\": true, \"gridcolor\": \"white\", \"linecolor\": \"white\", \"ticks\": \"\", \"title\": {\"standoff\": 15}, \"zerolinecolor\": \"white\", \"zerolinewidth\": 2}}}},\n",
              "                        {\"responsive\": true}\n",
              "                    ).then(function(){\n",
              "                            \n",
              "var gd = document.getElementById('3e4e44ce-d3e5-4bcf-ab3e-c9e2965dbf23');\n",
              "var x = new MutationObserver(function (mutations, observer) {{\n",
              "        var display = window.getComputedStyle(gd).display;\n",
              "        if (!display || display === 'none') {{\n",
              "            console.log([gd, 'removed!']);\n",
              "            Plotly.purge(gd);\n",
              "            observer.disconnect();\n",
              "        }}\n",
              "}});\n",
              "\n",
              "// Listen for the removal of the full notebook cells\n",
              "var notebookContainer = gd.closest('#notebook-container');\n",
              "if (notebookContainer) {{\n",
              "    x.observe(notebookContainer, {childList: true});\n",
              "}}\n",
              "\n",
              "// Listen for the clearing of the current output cell\n",
              "var outputEl = gd.closest('.output');\n",
              "if (outputEl) {{\n",
              "    x.observe(outputEl, {childList: true});\n",
              "}}\n",
              "\n",
              "                        })\n",
              "                };\n",
              "                \n",
              "            </script>\n",
              "        </div>\n",
              "</body>\n",
              "</html>"
            ]
          },
          "metadata": {
            "tags": []
          }
        }
      ]
    },
    {
      "cell_type": "markdown",
      "metadata": {
        "id": "tTVZ3AsIwrqK"
      },
      "source": [
        "## DBSCAN"
      ]
    },
    {
      "cell_type": "markdown",
      "metadata": {
        "id": "EVKC0S1OGL3q"
      },
      "source": [
        "Now we will build a DBSCAN clustering model using eps=2 (miles) and min_samples=5. Some notes that may be helpful:\n",
        "\n",
        "1. Unlike our approach for hierarchical clustering, we do not need to calculate the NxN distance matrix for DBSCAN upfront. It directly supports the haversine distance metric, provided the nearest-neighbors algorithm is a ball tree. Set the \"algorithm\" and \"metric\" parameters to the appropriate values. \n",
        "2. Scikit-learn's implementation of haversine distance expects radians instead of degrees. Therefore, it would be advisable to create two new columns, Lat_Rad and Lon_Rad, that convert the Latitude and Longitude columns into radians. (Hint: there is a numpy function that does this.)  \n",
        "3. The eps parameter, which corresponds to the radius of the neighborhood, will also need to be in radians. The conversion factor for miles to radians is approximately 1/3958.748; in other words, if you want the neighborhood to have a radius of 3 miles, set eps = 3/3958.748.  \n",
        "\n",
        "Side note: ball-tree is an indexing structure that is very useful for nearest-neighbor calculations. The general time-complexity of finding a nearest neighbor using a Ball Tree is O(nlog(n)). This is a vast improvement over the naive O($n^{2}$) and allows us to cluster on much larger subsets of the data, like the entire country. Scikit-learn directly supports creating ball-trees through sklearn.neighbors.BallTree; if inclined, you could extend this analysis to the entire country using a BallTree and cluster Starbucks locations on a much larger scale.\n"
      ]
    },
    {
      "cell_type": "code",
      "metadata": {
        "id": "oKI-vuMZI3or"
      },
      "source": [
        "tx_starbucks['Lat_Rad'] = np.deg2rad(tx_starbucks['Latitude'])\n",
        "tx_starbucks['Lon_Rad'] = np.deg2rad(tx_starbucks['Longitude'])"
      ],
      "execution_count": null,
      "outputs": []
    },
    {
      "cell_type": "code",
      "metadata": {
        "id": "WP7kETgeLNHl"
      },
      "source": [
        "tx_starbucks['Coordinates_Rad'] = list(zip(tx_starbucks['Lat_Rad'], tx_starbucks['Lon_Rad']))"
      ],
      "execution_count": null,
      "outputs": []
    },
    {
      "cell_type": "code",
      "metadata": {
        "id": "SseYFqumwsrO",
        "outputId": "2ab44e3a-a5b9-435c-fda3-9598689a4829",
        "colab": {
          "base_uri": "https://localhost:8080/"
        }
      },
      "source": [
        "dbscan_clstr = DBSCAN(eps=(2/3958.748), metric=\"haversine\", min_samples=5)\n",
        "dbscan_clstr.fit(tx_starbucks[['Lat_Rad', 'Lon_Rad']])"
      ],
      "execution_count": null,
      "outputs": [
        {
          "output_type": "execute_result",
          "data": {
            "text/plain": [
              "DBSCAN(algorithm='auto', eps=0.0005052102331343141, leaf_size=30,\n",
              "       metric='haversine', metric_params=None, min_samples=5, n_jobs=None,\n",
              "       p=None)"
            ]
          },
          "metadata": {
            "tags": []
          },
          "execution_count": 17
        }
      ]
    },
    {
      "cell_type": "code",
      "metadata": {
        "id": "nZLiOuVFKgAD"
      },
      "source": [
        "tx_starbucks['dbscan_label'] = dbscan_clstr.labels_"
      ],
      "execution_count": null,
      "outputs": []
    },
    {
      "cell_type": "markdown",
      "metadata": {
        "id": "BIsEdiVXHBuc"
      },
      "source": [
        "Finally, we plot the resulting clusters on a map using the \"scatter_geo\" function from plotly.express. The map defaults to the entire world; the \"scope\" parameter is useful for narrowing down the region plotted in the map. The documentation can be found here:\n",
        "\n",
        "https://www.plotly.express/plotly_express/#plotly_express.scatter_geo\n"
      ]
    },
    {
      "cell_type": "code",
      "metadata": {
        "id": "rlwPWPAGHCQf",
        "outputId": "6be0c554-c020-49af-f8ce-6a264e833698",
        "colab": {
          "base_uri": "https://localhost:8080/"
        }
      },
      "source": [
        " print(f'{tx_starbucks[\"dbscan_label\"].nunique() - 1} Clusters')\n",
        " print(f'{tx_starbucks[tx_starbucks[\"dbscan_label\"] == -1].shape[0]} Outliers')"
      ],
      "execution_count": null,
      "outputs": [
        {
          "output_type": "stream",
          "text": [
            "41 Clusters\n",
            "528 Outliers\n"
          ],
          "name": "stdout"
        }
      ]
    },
    {
      "cell_type": "code",
      "metadata": {
        "id": "-Oakq-ZjHFkr",
        "outputId": "cd5d5ef6-6efb-48a5-8d92-d5a51117d8c2",
        "colab": {
          "base_uri": "https://localhost:8080/",
          "height": 542
        }
      },
      "source": [
        "px.scatter_geo(tx_starbucks, lat='Latitude', lon='Longitude', scope='north america', color='dbscan_label',)"
      ],
      "execution_count": null,
      "outputs": [
        {
          "output_type": "display_data",
          "data": {
            "text/html": [
              "<html>\n",
              "<head><meta charset=\"utf-8\" /></head>\n",
              "<body>\n",
              "    <div>\n",
              "            <script src=\"https://cdnjs.cloudflare.com/ajax/libs/mathjax/2.7.5/MathJax.js?config=TeX-AMS-MML_SVG\"></script><script type=\"text/javascript\">if (window.MathJax) {MathJax.Hub.Config({SVG: {font: \"STIX-Web\"}});}</script>\n",
              "                <script type=\"text/javascript\">window.PlotlyConfig = {MathJaxConfig: 'local'};</script>\n",
              "        <script src=\"https://cdn.plot.ly/plotly-latest.min.js\"></script>    \n",
              "            <div id=\"bbd2ea78-3d00-40a6-9641-a6b933e95380\" class=\"plotly-graph-div\" style=\"height:525px; width:100%;\"></div>\n",
              "            <script type=\"text/javascript\">\n",
              "                \n",
              "                    window.PLOTLYENV=window.PLOTLYENV || {};\n",
              "                    \n",
              "                if (document.getElementById(\"bbd2ea78-3d00-40a6-9641-a6b933e95380\")) {\n",
              "                    Plotly.newPlot(\n",
              "                        'bbd2ea78-3d00-40a6-9641-a6b933e95380',\n",
              "                        [{\"geo\": \"geo\", \"hoverlabel\": {\"namelength\": 0}, \"hovertemplate\": \"Latitude=%{lat}<br>Longitude=%{lon}<br>dbscan_label=%{marker.color}\", \"lat\": [32.4, 32.43, 32.4, 32.48, 32.39, 32.46, 32.94, 32.95, 32.95, 33.09, 33.14, 33.08, 33.12, 33.12, 33.11, 33.09, 33.1, 33.1, 29.4, 29.43, 35.19, 35.18, 35.19, 35.19, 32.67, 32.72, 32.73, 32.78, 32.68, 32.68, 32.72, 32.68, 32.68, 32.68, 32.73, 32.77, 32.67, 32.68, 32.72, 32.75, 30.0, 30.28, 30.26, 30.23, 30.24, 30.17, 30.18, 30.35, 30.36, 30.45, 30.48, 30.27, 30.39, 30.26, 30.22, 30.3, 30.27, 30.39, 30.22, 30.23, 30.27, 30.31, 30.41, 30.28, 30.26, 30.3, 30.24, 30.3, 30.31, 30.26, 30.44, 30.29, 30.4, 30.28, 30.37, 30.4, 30.23, 30.41, 30.18, 30.3, 30.24, 30.2, 30.28, 30.28, 30.4, 30.27, 30.29, 30.31, 30.29, 30.16, 30.39, 30.48, 30.27, 30.22, 30.42, 30.45, 30.25, 30.21, 30.23, 30.28, 30.34, 29.49, 33.08, 33.08, 30.11, 29.79, 29.77, 29.77, 29.81, 30.13, 30.12, 30.07, 30.12, 32.84, 29.71, 31.05, 32.68, 29.78, 30.14, 25.97, 25.97, 25.95, 31.73, 30.66, 30.67, 30.64, 30.09, 29.8, 32.54, 32.52, 32.56, 32.52, 34.98, 33.02, 33.03, 32.97, 33.02, 33.03, 33.0, 32.59, 32.6, 30.53, 30.48, 30.48, 30.53, 30.53, 30.47, 32.34, 29.04, 30.61, 30.62, 30.64, 30.62, 30.59, 30.61, 30.62, 30.61, 30.58, 32.88, 32.89, 30.21, 30.32, 30.33, 30.33, 29.5, 32.97, 32.97, 31.12, 33.13, 27.71, 27.69, 27.71, 27.72, 27.74, 29.89, 33.23, 32.57, 29.97, 30.0, 29.92, 29.95, 29.97, 29.99, 29.96, 29.97, 32.84, 32.96, 32.84, 32.93, 32.91, 32.86, 32.79, 32.84, 32.86, 32.9, 32.81, 32.84, 32.98, 32.93, 32.84, 32.87, 32.86, 32.86, 32.76, 32.79, 32.8, 32.79, 32.81, 32.85, 32.8, 32.85, 32.78, 32.86, 32.82, 32.87, 32.84, 32.82, 32.89, 32.9, 32.78, 32.87, 32.88, 33.0, 32.87, 32.81, 32.83, 32.81, 32.83, 32.65, 32.78, 32.81, 32.91, 32.87, 33.0, 32.86, 33.0, 32.79, 32.95, 32.86, 32.93, 32.91, 32.9, 32.91, 32.93, 32.91, 32.84, 32.82, 32.84, 32.9, 32.84, 32.81, 32.8, 32.81, 32.84, 32.9, 32.9, 32.85, 32.95, 32.9, 32.78, 32.9, 32.85, 32.93, 32.7, 32.81, 32.9, 32.98, 32.9, 32.9, 32.74, 32.87, 32.89, 32.92, 32.91, 33.23, 29.68, 29.66, 29.39, 33.23, 33.14, 33.23, 33.23, 33.21, 33.19, 33.23, 33.19, 33.23, 33.19, 32.6, 32.6, 29.45, 32.65, 26.26, 26.31, 31.72, 31.77, 31.76, 31.87, 31.8, 31.84, 31.77, 31.77, 31.77, 31.77, 31.79, 31.83, 31.91, 31.79, 31.87, 31.76, 31.78, 31.8, 31.9, 31.76, 31.8, 32.33, 32.88, 32.84, 32.88, 32.92, 33.04, 33.01, 33.07, 33.07, 33.04, 32.99, 33.07, 33.03, 33.04, 33.07, 32.66, 32.74, 32.74, 29.47, 32.66, 32.9, 32.73, 32.73, 32.73, 32.88, 32.68, 32.74, 32.75, 32.64, 32.63, 32.73, 32.86, 32.75, 32.96, 32.73, 32.82, 32.71, 32.68, 32.67, 32.76, 32.71, 32.68, 32.9, 32.81, 32.73, 32.91, 32.67, 32.73, 32.86, 32.75, 32.89, 29.51, 29.54, 29.54, 29.52, 33.1, 33.11, 33.1, 33.17, 33.18, 33.12, 33.11, 33.17, 33.18, 33.13, 33.14, 33.15, 33.11, 33.18, 32.76, 31.81, 31.81, 32.75, 32.97, 32.75, 29.7, 33.62, 29.27, 29.27, 29.31, 29.27, 32.86, 32.86, 32.96, 32.97, 32.84, 32.94, 32.96, 32.96, 30.63, 30.63, 30.68, 30.65, 32.43, 32.46, 32.46, 32.67, 32.64, 32.76, 32.65, 32.69, 32.68, 32.93, 32.97, 32.97, 32.92, 32.95, 32.94, 32.93, 32.94, 33.09, 32.86, 31.07, 31.07, 26.19, 26.17, 26.21, 26.18, 29.56, 33.13, 32.01, 29.85, 29.74, 29.98, 30.02, 29.67, 29.76, 29.55, 29.77, 29.88, 29.72, 29.74, 29.81, 29.77, 29.69, 29.73, 29.77, 29.92, 29.78, 29.99, 29.67, 29.72, 29.99, 29.75, 29.79, 29.73, 29.75, 29.78, 29.72, 29.74, 29.74, 29.78, 29.74, 29.68, 29.78, 29.68, 29.69, 29.91, 29.85, 29.78, 29.74, 29.92, 29.78, 29.77, 29.77, 29.76, 29.82, 29.9, 29.74, 29.82, 29.99, 29.6, 29.74, 29.76, 29.66, 29.75, 29.72, 29.99, 29.75, 29.99, 29.6, 29.68, 29.71, 29.76, 29.89, 29.73, 29.75, 29.78, 29.75, 29.74, 30.02, 29.98, 29.73, 29.9, 29.97, 29.99, 29.72, 29.6, 29.8, 29.98, 29.78, 30.16, 29.88, 29.96, 29.78, 29.95, 29.73, 29.76, 29.93, 29.72, 29.74, 29.77, 29.74, 29.93, 29.75, 29.72, 29.77, 29.74, 29.76, 29.96, 29.74, 29.75, 29.74, 29.75, 29.83, 29.98, 29.76, 29.93, 29.75, 29.96, 29.98, 29.63, 29.9, 29.76, 29.76, 29.74, 29.75, 29.75, 29.78, 29.71, 29.96, 29.65, 29.73, 29.98, 29.7, 30.0, 29.69, 29.77, 29.83, 29.77, 29.69, 29.83, 29.74, 29.77, 29.72, 29.76, 29.72, 29.7, 29.99, 29.74, 29.71, 29.81, 29.58, 29.74, 29.71, 30.07, 29.92, 29.75, 29.74, 29.81, 29.76, 29.92, 29.59, 29.78, 29.99, 30.02, 29.94, 30.0, 30.0, 30.07, 30.01, 30.0, 30.05, 30.0, 30.0, 30.71, 30.71, 30.72, 30.31, 30.72, 32.83, 32.86, 32.82, 32.83, 32.84, 32.84, 30.54, 32.92, 32.91, 32.84, 32.91, 32.89, 32.86, 32.85, 32.92, 29.76, 29.74, 29.77, 29.79, 29.74, 29.76, 29.78, 29.86, 29.82, 29.78, 29.7, 29.81, 29.78, 29.73, 29.8, 29.78, 29.72, 29.78, 32.93, 32.93, 32.93, 29.54, 29.55, 30.06, 31.15, 31.09, 31.11, 31.11, 27.52, 30.05, 30.07, 30.0, 30.02, 31.6, 29.05, 32.81, 30.34, 30.34, 29.65, 27.61, 27.57, 27.55, 27.52, 27.57, 29.54, 29.49, 29.51, 29.47, 29.51, 29.53, 29.5, 29.47, 30.54, 30.56, 33.59, 33.04, 33.01, 33.01, 33.01, 33.07, 33.0, 33.07, 33.07, 32.47, 33.17, 33.18, 33.16, 29.56, 32.53, 32.54, 32.55, 33.55, 33.52, 33.59, 33.55, 33.52, 33.66, 33.59, 33.58, 33.48, 33.51, 33.52, 33.09, 31.3, 30.22, 30.22, 30.35, 32.61, 32.58, 32.58, 32.58, 32.6, 32.59, 32.61, 30.56, 26.19, 26.24, 26.24, 26.2, 26.24, 26.19, 26.27, 26.19, 26.19, 33.2, 33.13, 33.17, 33.22, 33.17, 33.22, 33.17, 26.16, 32.81, 32.75, 32.81, 32.02, 32.03, 32.02, 32.04, 32.03, 31.97, 32.48, 26.2, 29.57, 29.54, 29.56, 29.58, 29.57, 30.36, 33.01, 31.62, 31.62, 29.55, 29.95, 29.69, 29.69, 32.84, 32.91, 32.91, 32.9, 31.89, 31.89, 31.89, 31.85, 31.89, 35.55, 33.66, 29.66, 29.65, 29.65, 29.65, 29.55, 29.56, 29.58, 29.58, 29.56, 29.56, 29.55, 30.47, 30.45, 30.46, 26.18, 33.08, 33.03, 33.03, 33.03, 33.04, 33.04, 33.06, 33.02, 33.03, 33.02, 33.02, 33.04, 33.11, 33.07, 33.02, 33.03, 33.05, 33.02, 33.03, 33.06, 33.04, 33.04, 33.04, 29.95, 30.1, 27.88, 33.24, 33.22, 29.53, 32.98, 33.0, 33.0, 32.94, 32.93, 33.0, 32.95, 33.0, 32.97, 29.62, 29.68, 29.66, 29.7, 32.9, 32.9, 32.97, 32.9, 32.95, 32.89, 32.94, 29.54, 29.54, 29.55, 30.56, 30.5, 30.5, 30.48, 30.53, 30.51, 30.52, 30.56, 30.57, 32.92, 32.92, 32.91, 32.91, 32.97, 31.45, 31.46, 31.42, 31.44, 29.61, 29.59, 29.52, 29.48, 29.59, 29.61, 29.44, 29.61, 29.52, 29.61, 29.49, 29.49, 29.51, 29.55, 29.57, 29.45, 29.56, 29.47, 29.52, 29.67, 29.52, 29.53, 29.51, 29.58, 29.52, 29.57, 29.61, 29.61, 29.55, 29.53, 29.56, 29.43, 29.55, 29.51, 29.52, 29.42, 29.6, 29.49, 29.49, 29.61, 29.56, 29.52, 29.48, 29.57, 29.35, 29.51, 29.36, 29.42, 29.61, 29.5, 29.55, 29.56, 29.52, 29.42, 29.47, 29.66, 29.44, 29.53, 29.65, 29.52, 29.5, 29.44, 29.44, 29.35, 29.36, 29.5, 29.51, 29.59, 29.44, 29.42, 29.53, 29.39, 29.53, 29.55, 29.51, 29.47, 29.44, 29.66, 29.64, 29.52, 29.49, 29.38, 29.89, 29.87, 29.83, 29.9, 29.83, 29.6, 29.6, 29.57, 29.6, 33.66, 33.68, 33.67, 32.94, 32.94, 32.94, 32.94, 30.0, 30.04, 30.19, 30.03, 30.07, 30.04, 30.05, 30.13, 30.07, 30.08, 30.07, 30.13, 30.12, 30.14, 30.05, 30.02, 29.79, 29.62, 32.2, 29.59, 29.59, 29.6, 29.61, 29.65, 29.59, 29.6, 29.59, 29.56, 31.1, 31.07, 31.12, 31.09, 32.7, 32.72, 33.46, 29.42, 29.4, 33.07, 30.19, 30.17, 30.23, 30.18, 30.21, 30.16, 30.18, 30.17, 30.17, 30.16, 30.18, 30.09, 30.08, 30.11, 30.09, 30.11, 33.0, 32.31, 32.35, 32.3, 32.33, 32.28, 32.3, 28.86, 28.87, 31.55, 31.53, 31.5, 31.53, 31.55, 31.53, 32.89, 32.89, 32.42, 32.42, 32.73, 32.73, 32.76, 29.54, 29.58, 29.54, 29.54, 29.56, 26.17, 33.88, 33.86, 30.39, 30.16, 31.5, 33.01, 33.01, 33.01, 33.01, 33.01], \"legendgroup\": \"\", \"lon\": [-99.76, -99.76, -99.76, -99.69, -99.7, -99.71, -96.85, -96.84, -96.82, -96.68, -96.68, -96.64, -96.66, -96.65, -96.7, -96.68, -96.68, -96.7, -95.25, -95.23, -101.8, -101.94, -101.93, -101.87, -97.11, -97.15, -97.11, -97.1, -97.11, -97.14, -97.15, -97.13, -97.13, -97.19, -97.11, -97.1, -97.13, -97.2, -97.12, -97.13, -95.17, -97.8, -97.75, -97.87, -97.73, -97.79, -97.85, -97.76, -97.74, -97.83, -97.81, -97.74, -97.74, -97.81, -97.69, -97.74, -97.75, -97.75, -97.76, -97.79, -97.74, -97.74, -97.85, -97.8, -97.81, -97.76, -97.79, -97.93, -97.75, -97.74, -97.74, -97.74, -97.75, -97.74, -97.76, -97.85, -97.74, -97.69, -97.85, -97.7, -97.76, -97.88, -97.74, -97.73, -97.73, -97.75, -97.83, -97.71, -97.74, -97.79, -97.88, -97.8, -97.74, -97.84, -97.7, -97.79, -97.76, -97.82, -97.83, -97.78, -97.76, -98.55, -97.13, -97.13, -97.33, -94.98, -94.98, -94.98, -94.98, -94.15, -94.17, -94.13, -94.17, -97.13, -95.47, -97.45, -97.46, -98.74, -96.39, -97.51, -97.51, -97.5, -98.98, -96.33, -96.34, -96.35, -97.82, -98.42, -97.31, -97.35, -97.32, -97.35, -101.92, -96.88, -96.84, -96.92, -96.91, -96.89, -96.91, -96.94, -96.94, -97.81, -97.83, -97.83, -97.81, -97.78, -97.8, -97.41, -95.42, -96.31, -96.35, -96.32, -96.35, -96.28, -96.34, -96.34, -96.32, -96.29, -97.1, -97.15, -95.46, -95.48, -95.5, -95.48, -98.32, -96.99, -96.99, -97.88, -97.04, -97.37, -97.38, -97.37, -97.33, -97.39, -95.06, -96.99, -97.35, -95.69, -95.76, -95.69, -95.71, -95.69, -95.62, -95.67, -95.69, -96.78, -96.79, -96.78, -96.82, -96.8, -96.86, -96.8, -96.78, -96.77, -97.04, -96.75, -96.77, -96.77, -96.82, -96.85, -96.77, -96.85, -96.77, -96.9, -96.8, -96.8, -96.78, -96.73, -96.79, -96.79, -96.77, -96.8, -96.75, -96.87, -96.76, -96.75, -96.8, -97.04, -97.04, -96.8, -96.75, -97.02, -96.83, -96.77, -96.79, -96.7, -96.8, -96.83, -96.86, -96.8, -96.83, -96.75, -96.81, -96.86, -96.89, -96.79, -96.8, -96.81, -96.84, -96.77, -96.77, -96.74, -96.85, -96.82, -97.04, -96.8, -96.79, -96.85, -97.04, -96.82, -96.81, -96.83, -96.83, -96.78, -96.72, -97.04, -96.82, -96.77, -97.04, -96.8, -96.8, -96.77, -96.8, -96.9, -96.81, -97.04, -96.77, -97.04, -97.04, -96.86, -96.77, -97.03, -96.82, -96.87, -97.6, -95.12, -95.11, -100.9, -97.13, -97.11, -97.14, -97.16, -97.15, -97.1, -97.16, -97.11, -97.14, -97.11, -96.82, -96.86, -95.08, -96.92, -98.16, -98.19, -106.3, -106.5, -106.27, -106.58, -106.4, -106.57, -106.32, -106.38, -106.38, -106.5, -106.27, -106.53, -106.58, -106.41, -106.58, -106.49, -106.39, -106.4, -106.44, -106.27, -106.39, -96.62, -97.1, -97.1, -97.1, -96.97, -97.04, -97.05, -97.06, -97.08, -97.04, -97.07, -97.08, -97.07, -97.04, -97.06, -97.28, -96.45, -96.46, -98.43, -97.42, -97.32, -97.34, -97.34, -97.41, -97.38, -97.41, -97.34, -97.33, -97.37, -97.32, -97.39, -97.29, -97.43, -97.3, -97.36, -97.06, -97.36, -97.41, -97.4, -97.48, -97.39, -97.4, -97.32, -97.43, -97.42, -97.31, -97.38, -97.36, -97.32, -97.35, -97.29, -95.19, -95.15, -95.15, -95.16, -96.81, -96.84, -96.81, -96.74, -96.84, -96.8, -96.81, -96.73, -96.84, -96.73, -96.8, -96.86, -96.81, -96.89, -97.35, -106.41, -106.41, -97.33, -97.42, -97.33, -95.85, -97.15, -94.83, -94.82, -94.79, -94.83, -96.65, -96.66, -96.64, -96.65, -96.6, -96.61, -96.62, -96.67, -97.7, -97.69, -97.72, -97.68, -97.78, -97.73, -97.73, -97.0, -97.06, -96.99, -97.06, -97.06, -97.01, -97.09, -97.04, -97.04, -97.12, -97.05, -97.07, -97.09, -97.1, -96.11, -97.26, -97.67, -97.67, -97.72, -97.67, -97.69, -97.72, -98.68, -97.04, -97.09, -95.5, -95.6, -95.22, -95.38, -95.46, -95.37, -95.13, -95.56, -95.65, -95.5, -95.5, -95.41, -95.55, -95.46, -95.44, -95.56, -95.61, -95.59, -95.35, -95.26, -95.34, -95.33, -95.36, -95.41, -95.48, -95.46, -95.54, -95.4, -95.45, -95.54, -95.71, -95.64, -95.46, -95.72, -95.64, -95.41, -95.69, -95.65, -95.41, -95.55, -95.62, -95.54, -95.39, -95.38, -95.62, -95.47, -95.56, -95.53, -95.55, -95.35, -95.27, -95.46, -95.63, -95.28, -95.41, -95.44, -95.35, -95.45, -95.35, -95.21, -95.43, -95.4, -95.37, -95.58, -95.62, -95.47, -95.54, -95.37, -95.46, -95.44, -95.33, -95.43, -95.56, -95.53, -95.35, -95.47, -95.27, -95.49, -95.34, -95.51, -95.46, -95.65, -95.54, -95.64, -95.41, -95.43, -95.36, -95.2, -95.42, -95.41, -95.4, -95.59, -95.6, -95.38, -95.34, -95.61, -95.47, -95.37, -95.54, -95.39, -95.45, -95.46, -95.41, -95.68, -95.51, -95.48, -95.63, -95.41, -95.55, -95.57, -95.23, -95.61, -95.42, -95.36, -95.54, -95.5, -95.36, -95.54, -95.43, -95.54, -95.57, -95.43, -95.51, -95.3, -95.57, -95.46, -95.61, -95.48, -95.36, -95.42, -95.43, -95.46, -95.72, -95.56, -95.37, -95.34, -95.42, -95.35, -95.52, -95.4, -95.41, -95.12, -95.57, -95.44, -95.19, -95.41, -95.37, -95.41, -95.17, -95.36, -95.2, -95.14, -95.52, -95.5, -95.27, -95.25, -95.16, -95.18, -95.22, -95.27, -95.19, -95.23, -95.27, -95.25, -95.55, -95.55, -95.57, -95.47, -95.57, -97.2, -97.18, -97.2, -97.2, -97.19, -97.18, -97.56, -96.99, -96.96, -96.98, -96.96, -96.96, -96.96, -96.99, -96.96, -95.78, -95.78, -95.84, -95.72, -95.78, -95.75, -95.75, -95.72, -95.77, -95.81, -95.81, -95.72, -95.81, -95.75, -95.75, -95.72, -95.78, -95.83, -97.23, -97.23, -97.25, -95.02, -95.02, -99.17, -97.8, -97.73, -97.8, -97.75, -97.86, -95.18, -95.24, -97.84, -97.86, -97.11, -95.46, -97.43, -97.97, -97.97, -95.03, -99.48, -99.43, -99.5, -99.45, -99.47, -95.06, -95.12, -95.1, -95.08, -95.04, -95.07, -95.04, -95.09, -97.86, -97.84, -102.37, -97.0, -97.02, -96.97, -96.97, -96.89, -96.96, -96.89, -96.88, -95.39, -96.89, -96.88, -96.94, -98.33, -94.72, -94.76, -94.73, -101.96, -101.91, -101.87, -101.95, -101.94, -101.82, -101.92, -101.94, -101.89, -101.92, -101.87, -96.62, -94.73, -95.57, -95.57, -97.56, -97.12, -97.08, -97.13, -97.08, -97.15, -97.14, -97.12, -98.27, -98.24, -98.23, -98.21, -98.27, -98.25, -98.21, -98.22, -98.21, -98.23, -96.71, -96.73, -96.64, -96.64, -96.68, -96.63, -96.66, -97.89, -96.62, -96.59, -96.62, -102.14, -102.13, -102.12, -102.13, -102.14, -102.07, -97.01, -98.29, -95.57, -95.52, -95.57, -95.58, -95.57, -95.6, -96.61, -94.65, -94.65, -95.1, -93.99, -98.13, -98.14, -97.24, -97.19, -97.19, -97.19, -102.35, -102.34, -102.33, -102.37, -102.35, -100.97, -95.51, -95.19, -95.15, -95.16, -95.15, -95.38, -95.38, -95.39, -95.4, -95.35, -95.28, -95.38, -97.6, -97.66, -97.6, -98.19, -96.82, -96.79, -96.8, -96.83, -96.83, -96.71, -96.77, -96.68, -96.83, -96.66, -96.71, -96.73, -96.77, -96.77, -96.8, -96.83, -96.8, -96.73, -96.83, -96.69, -96.73, -96.72, -96.75, -93.99, -95.24, -97.32, -96.79, -96.74, -98.28, -96.77, -96.65, -96.7, -96.7, -96.68, -96.7, -96.74, -96.73, -96.72, -95.74, -95.72, -95.75, -95.69, -96.46, -96.48, -96.47, -96.47, -96.46, -96.47, -96.45, -95.75, -95.75, -95.75, -97.68, -97.72, -97.65, -97.66, -97.62, -97.69, -97.69, -97.69, -97.69, -96.52, -96.52, -96.58, -96.56, -96.6, -100.48, -100.45, -100.48, -100.47, -98.47, -98.62, -98.48, -98.46, -98.62, -98.6, -98.5, -98.47, -98.5, -98.49, -98.71, -98.43, -98.46, -98.66, -98.65, -98.56, -98.52, -98.61, -98.64, -98.43, -98.57, -98.58, -98.58, -98.62, -98.5, -98.49, -98.6, -98.51, -98.58, -98.52, -98.59, -98.49, -98.57, -98.55, -98.5, -98.49, -98.42, -98.45, -98.35, -98.51, -98.48, -98.59, -98.53, -98.33, -98.44, -98.39, -98.52, -98.49, -98.51, -98.48, -98.66, -98.54, -98.5, -98.48, -98.62, -98.63, -98.65, -98.56, -98.45, -98.61, -98.48, -98.71, -98.49, -98.44, -98.54, -98.63, -98.57, -98.62, -98.67, -98.52, -98.47, -98.62, -98.68, -98.66, -98.54, -98.53, -98.65, -98.45, -98.48, -98.61, -98.57, -98.61, -97.94, -97.94, -97.99, -97.95, -97.98, -98.28, -97.95, -98.33, -98.56, -96.61, -96.61, -96.61, -97.13, -97.11, -97.15, -97.15, -95.53, -95.49, -95.49, -95.55, -95.51, -95.49, -95.43, -95.43, -95.44, -95.52, -95.44, -95.46, -95.41, -95.47, -95.43, -95.53, -95.5, -95.57, -98.24, -95.68, -95.63, -95.63, -95.66, -95.65, -95.63, -95.62, -95.6, -95.68, -97.36, -97.37, -97.41, -97.39, -96.28, -96.32, -94.09, -95.06, -94.95, -96.89, -95.59, -95.47, -95.51, -95.48, -95.53, -95.46, -95.54, -95.5, -95.46, -95.46, -95.54, -95.64, -95.63, -95.55, -95.63, -95.55, -97.21, -95.28, -95.34, -95.3, -95.28, -95.31, -95.3, -97.0, -97.0, -97.11, -97.19, -97.16, -97.13, -97.12, -97.19, -97.26, -97.26, -96.84, -96.84, -97.79, -97.79, -97.79, -95.14, -95.16, -95.15, -95.15, -95.15, -98.01, -98.53, -98.53, -95.49, -95.46, -97.22, -96.57, -96.57, -96.55, -96.59, -96.54], \"marker\": {\"color\": [-1, -1, -1, -1, -1, -1, 0, 0, 0, 1, -1, -1, 1, -1, 1, 1, 1, 1, -1, -1, -1, -1, -1, -1, 2, 3, 3, -1, 2, 2, 3, 2, 2, -1, 3, -1, 2, -1, 3, -1, -1, 4, 4, -1, 4, -1, -1, 6, 6, -1, 5, 4, 6, 4, -1, 4, 4, 6, 4, 4, 4, 4, -1, 4, 4, 4, 4, -1, 4, 4, -1, 4, 6, 4, 6, -1, 4, -1, -1, -1, 4, -1, 4, 4, 6, 4, 4, 4, 4, -1, -1, 5, 4, -1, -1, 5, 4, -1, -1, 4, -1, 7, -1, -1, -1, -1, -1, -1, -1, -1, -1, -1, -1, -1, 8, -1, -1, -1, -1, -1, -1, -1, -1, 9, -1, 9, -1, -1, -1, -1, -1, -1, -1, -1, 0, -1, -1, -1, -1, -1, -1, -1, 5, 5, -1, -1, 5, -1, -1, 9, 9, 9, 9, -1, 9, 9, 9, -1, -1, -1, -1, -1, -1, -1, -1, -1, -1, -1, -1, -1, -1, -1, -1, -1, -1, -1, -1, 10, -1, -1, 10, 10, -1, 10, 10, 11, 0, 11, 0, 0, 11, 11, 11, 11, 12, -1, 11, 0, 0, 11, 11, 11, 11, -1, 11, 11, 11, -1, 11, 11, 11, 11, 11, 11, 11, 11, 11, 12, 12, 11, 11, 12, -1, 11, 11, -1, 11, 11, -1, 11, 11, 0, 11, -1, 11, 0, 11, 0, 11, 0, 0, 0, 0, 0, 12, 11, 11, 11, 12, 11, 11, 11, 11, 11, 0, 12, 11, 0, 12, 11, 0, 11, 0, -1, 11, 12, 0, 12, 12, -1, 11, 12, 0, -1, -1, -1, -1, -1, 13, -1, 13, 13, 13, -1, 13, -1, 13, -1, -1, -1, -1, -1, -1, -1, -1, -1, -1, -1, 14, -1, -1, 14, 14, -1, -1, -1, -1, 14, -1, -1, 14, 14, -1, -1, 14, -1, -1, -1, -1, 15, 16, 16, -1, -1, 16, -1, -1, 16, 16, -1, -1, -1, -1, 7, 17, 19, 18, 18, 18, -1, 17, 18, 18, -1, -1, 18, -1, 18, -1, 18, -1, 18, 17, 17, -1, 18, 17, 19, -1, 18, 19, 17, 18, -1, 18, 19, 20, 20, 20, 20, 21, 21, 21, -1, -1, 21, 21, -1, -1, -1, 21, -1, 21, -1, 18, 14, 14, 18, -1, 18, -1, -1, -1, -1, -1, -1, -1, -1, 22, 22, -1, 22, 22, -1, -1, -1, -1, -1, -1, -1, -1, -1, -1, -1, -1, -1, -1, 23, -1, -1, 23, 23, 23, 23, 23, -1, -1, -1, -1, -1, -1, -1, -1, 24, -1, -1, -1, 8, -1, -1, 8, 8, 20, 8, -1, 8, 8, 8, 8, 8, 8, 8, 25, 8, 26, -1, -1, 26, 8, 8, 8, 8, 8, 8, 8, 8, 27, 8, 8, 27, -1, 8, -1, -1, 8, 8, 25, 8, 8, 8, 8, -1, -1, 8, -1, 26, -1, 8, 8, -1, 8, 8, 26, 8, 26, -1, 8, 8, 8, -1, 8, 8, 8, 8, 8, -1, 26, 8, -1, 28, 26, 8, -1, 8, 26, 8, 29, -1, 28, 8, -1, 8, 8, -1, 8, 8, 8, 8, 25, 8, -1, 8, 8, 8, 28, 8, 8, 8, 8, -1, 28, 8, 25, 8, 28, 28, -1, 25, 8, 8, 8, 8, 8, 8, 8, 28, -1, 8, 28, -1, -1, 8, 8, -1, 8, 8, -1, 8, 27, 8, 8, -1, 8, 26, 8, 8, 8, -1, 8, 8, -1, -1, 8, 8, -1, 8, -1, -1, 8, 28, -1, -1, -1, -1, -1, -1, -1, -1, -1, -1, -1, -1, -1, -1, -1, 30, 30, 30, 30, 30, 30, -1, 15, 15, -1, 15, 15, -1, -1, 15, 31, 31, -1, 27, 31, 27, 27, -1, 27, -1, -1, 27, -1, 31, 27, 27, 31, -1, -1, -1, -1, -1, -1, -1, -1, -1, -1, -1, -1, -1, -1, -1, -1, -1, -1, -1, -1, -1, -1, -1, -1, -1, -1, -1, -1, -1, -1, -1, -1, -1, -1, -1, -1, -1, -1, -1, -1, -1, -1, -1, -1, -1, -1, -1, -1, -1, -1, -1, -1, -1, -1, -1, -1, -1, -1, -1, -1, -1, -1, -1, -1, -1, -1, -1, -1, -1, -1, 32, -1, 32, -1, 32, 32, 32, -1, 33, -1, -1, 33, -1, 33, -1, 33, 33, -1, -1, -1, -1, -1, -1, -1, -1, -1, -1, -1, 34, 34, 34, 34, 34, -1, -1, -1, 35, -1, 35, 35, 35, -1, -1, -1, -1, 20, -1, -1, -1, -1, -1, -1, -1, -1, -1, -1, -1, -1, -1, -1, -1, -1, -1, -1, 36, 36, 36, 36, 36, -1, 36, -1, -1, -1, 33, 21, 0, 0, 0, 0, 37, 0, 37, 0, 37, 37, 37, 21, -1, 0, 0, 0, 37, 0, 37, 37, 37, 37, -1, -1, -1, -1, -1, -1, 0, -1, 37, -1, -1, 37, -1, 37, -1, -1, -1, -1, -1, -1, -1, -1, -1, -1, -1, -1, -1, -1, -1, -1, -1, -1, -1, -1, -1, -1, -1, -1, -1, -1, -1, -1, 22, -1, -1, -1, -1, 39, 24, 7, 7, 24, 24, 38, 39, 7, 39, -1, 7, 7, 24, 24, -1, -1, -1, 7, -1, 7, 7, 7, 24, 7, -1, 24, 39, 7, 7, 7, 38, 7, 7, 7, 38, -1, 7, -1, 39, -1, 7, 7, -1, -1, -1, -1, 38, 39, 7, 24, 7, 7, 38, -1, -1, -1, 7, -1, 7, 7, -1, 38, -1, -1, 7, 7, 24, -1, 38, 7, -1, 24, 24, 7, 7, -1, -1, -1, 7, 7, -1, -1, -1, -1, -1, -1, -1, -1, -1, -1, -1, -1, -1, 23, 23, 23, 23, 28, -1, 29, -1, -1, -1, -1, -1, -1, -1, -1, 29, -1, 29, -1, 28, 8, -1, -1, -1, 35, 35, 35, -1, 35, 35, 35, -1, -1, -1, -1, -1, -1, -1, -1, -1, -1, -1, -1, 29, -1, 29, -1, 29, -1, 29, 29, 29, -1, -1, -1, -1, -1, -1, -1, -1, -1, -1, -1, -1, -1, -1, -1, -1, -1, -1, -1, -1, -1, 19, 19, -1, -1, -1, -1, -1, 20, 20, 20, 20, 20, -1, -1, -1, -1, 29, -1, 40, 40, 40, 40, 40], \"coloraxis\": \"coloraxis\"}, \"name\": \"\", \"showlegend\": false, \"type\": \"scattergeo\"}],\n",
              "                        {\"coloraxis\": {\"colorbar\": {\"title\": {\"text\": \"dbscan_label\"}}, \"colorscale\": [[0.0, \"#0d0887\"], [0.1111111111111111, \"#46039f\"], [0.2222222222222222, \"#7201a8\"], [0.3333333333333333, \"#9c179e\"], [0.4444444444444444, \"#bd3786\"], [0.5555555555555556, \"#d8576b\"], [0.6666666666666666, \"#ed7953\"], [0.7777777777777778, \"#fb9f3a\"], [0.8888888888888888, \"#fdca26\"], [1.0, \"#f0f921\"]]}, \"geo\": {\"center\": {}, \"domain\": {\"x\": [0.0, 1.0], \"y\": [0.0, 1.0]}, \"scope\": \"north america\"}, \"legend\": {\"tracegroupgap\": 0}, \"margin\": {\"t\": 60}, \"template\": {\"data\": {\"bar\": [{\"error_x\": {\"color\": \"#2a3f5f\"}, \"error_y\": {\"color\": \"#2a3f5f\"}, \"marker\": {\"line\": {\"color\": \"#E5ECF6\", \"width\": 0.5}}, \"type\": \"bar\"}], \"barpolar\": [{\"marker\": {\"line\": {\"color\": \"#E5ECF6\", \"width\": 0.5}}, \"type\": \"barpolar\"}], \"carpet\": [{\"aaxis\": {\"endlinecolor\": \"#2a3f5f\", \"gridcolor\": \"white\", \"linecolor\": \"white\", \"minorgridcolor\": \"white\", \"startlinecolor\": \"#2a3f5f\"}, \"baxis\": {\"endlinecolor\": \"#2a3f5f\", \"gridcolor\": \"white\", \"linecolor\": \"white\", \"minorgridcolor\": \"white\", \"startlinecolor\": \"#2a3f5f\"}, \"type\": \"carpet\"}], \"choropleth\": [{\"colorbar\": {\"outlinewidth\": 0, \"ticks\": \"\"}, \"type\": \"choropleth\"}], \"contour\": [{\"colorbar\": {\"outlinewidth\": 0, \"ticks\": \"\"}, \"colorscale\": [[0.0, \"#0d0887\"], [0.1111111111111111, \"#46039f\"], [0.2222222222222222, \"#7201a8\"], [0.3333333333333333, \"#9c179e\"], [0.4444444444444444, \"#bd3786\"], [0.5555555555555556, \"#d8576b\"], [0.6666666666666666, \"#ed7953\"], [0.7777777777777778, \"#fb9f3a\"], [0.8888888888888888, \"#fdca26\"], [1.0, \"#f0f921\"]], \"type\": \"contour\"}], \"contourcarpet\": [{\"colorbar\": {\"outlinewidth\": 0, \"ticks\": \"\"}, \"type\": \"contourcarpet\"}], \"heatmap\": [{\"colorbar\": {\"outlinewidth\": 0, \"ticks\": \"\"}, \"colorscale\": [[0.0, \"#0d0887\"], [0.1111111111111111, \"#46039f\"], [0.2222222222222222, \"#7201a8\"], [0.3333333333333333, \"#9c179e\"], [0.4444444444444444, \"#bd3786\"], [0.5555555555555556, \"#d8576b\"], [0.6666666666666666, \"#ed7953\"], [0.7777777777777778, \"#fb9f3a\"], [0.8888888888888888, \"#fdca26\"], [1.0, \"#f0f921\"]], \"type\": \"heatmap\"}], \"heatmapgl\": [{\"colorbar\": {\"outlinewidth\": 0, \"ticks\": \"\"}, \"colorscale\": [[0.0, \"#0d0887\"], [0.1111111111111111, \"#46039f\"], [0.2222222222222222, \"#7201a8\"], [0.3333333333333333, \"#9c179e\"], [0.4444444444444444, \"#bd3786\"], [0.5555555555555556, \"#d8576b\"], [0.6666666666666666, \"#ed7953\"], [0.7777777777777778, \"#fb9f3a\"], [0.8888888888888888, \"#fdca26\"], [1.0, \"#f0f921\"]], \"type\": \"heatmapgl\"}], \"histogram\": [{\"marker\": {\"colorbar\": {\"outlinewidth\": 0, \"ticks\": \"\"}}, \"type\": \"histogram\"}], \"histogram2d\": [{\"colorbar\": {\"outlinewidth\": 0, \"ticks\": \"\"}, \"colorscale\": [[0.0, \"#0d0887\"], [0.1111111111111111, \"#46039f\"], [0.2222222222222222, \"#7201a8\"], [0.3333333333333333, \"#9c179e\"], [0.4444444444444444, \"#bd3786\"], [0.5555555555555556, \"#d8576b\"], [0.6666666666666666, \"#ed7953\"], [0.7777777777777778, \"#fb9f3a\"], [0.8888888888888888, \"#fdca26\"], [1.0, \"#f0f921\"]], \"type\": \"histogram2d\"}], \"histogram2dcontour\": [{\"colorbar\": {\"outlinewidth\": 0, \"ticks\": \"\"}, \"colorscale\": [[0.0, \"#0d0887\"], [0.1111111111111111, \"#46039f\"], [0.2222222222222222, \"#7201a8\"], [0.3333333333333333, \"#9c179e\"], [0.4444444444444444, \"#bd3786\"], [0.5555555555555556, \"#d8576b\"], [0.6666666666666666, \"#ed7953\"], [0.7777777777777778, \"#fb9f3a\"], [0.8888888888888888, \"#fdca26\"], [1.0, \"#f0f921\"]], \"type\": \"histogram2dcontour\"}], \"mesh3d\": [{\"colorbar\": {\"outlinewidth\": 0, \"ticks\": \"\"}, \"type\": \"mesh3d\"}], \"parcoords\": [{\"line\": {\"colorbar\": {\"outlinewidth\": 0, \"ticks\": \"\"}}, \"type\": \"parcoords\"}], \"pie\": [{\"automargin\": true, \"type\": \"pie\"}], \"scatter\": [{\"marker\": {\"colorbar\": {\"outlinewidth\": 0, \"ticks\": \"\"}}, \"type\": \"scatter\"}], \"scatter3d\": [{\"line\": {\"colorbar\": {\"outlinewidth\": 0, \"ticks\": \"\"}}, \"marker\": {\"colorbar\": {\"outlinewidth\": 0, \"ticks\": \"\"}}, \"type\": \"scatter3d\"}], \"scattercarpet\": [{\"marker\": {\"colorbar\": {\"outlinewidth\": 0, \"ticks\": \"\"}}, \"type\": \"scattercarpet\"}], \"scattergeo\": [{\"marker\": {\"colorbar\": {\"outlinewidth\": 0, \"ticks\": \"\"}}, \"type\": \"scattergeo\"}], \"scattergl\": [{\"marker\": {\"colorbar\": {\"outlinewidth\": 0, \"ticks\": \"\"}}, \"type\": \"scattergl\"}], \"scattermapbox\": [{\"marker\": {\"colorbar\": {\"outlinewidth\": 0, \"ticks\": \"\"}}, \"type\": \"scattermapbox\"}], \"scatterpolar\": [{\"marker\": {\"colorbar\": {\"outlinewidth\": 0, \"ticks\": \"\"}}, \"type\": \"scatterpolar\"}], \"scatterpolargl\": [{\"marker\": {\"colorbar\": {\"outlinewidth\": 0, \"ticks\": \"\"}}, \"type\": \"scatterpolargl\"}], \"scatterternary\": [{\"marker\": {\"colorbar\": {\"outlinewidth\": 0, \"ticks\": \"\"}}, \"type\": \"scatterternary\"}], \"surface\": [{\"colorbar\": {\"outlinewidth\": 0, \"ticks\": \"\"}, \"colorscale\": [[0.0, \"#0d0887\"], [0.1111111111111111, \"#46039f\"], [0.2222222222222222, \"#7201a8\"], [0.3333333333333333, \"#9c179e\"], [0.4444444444444444, \"#bd3786\"], [0.5555555555555556, \"#d8576b\"], [0.6666666666666666, \"#ed7953\"], [0.7777777777777778, \"#fb9f3a\"], [0.8888888888888888, \"#fdca26\"], [1.0, \"#f0f921\"]], \"type\": \"surface\"}], \"table\": [{\"cells\": {\"fill\": {\"color\": \"#EBF0F8\"}, \"line\": {\"color\": \"white\"}}, \"header\": {\"fill\": {\"color\": \"#C8D4E3\"}, \"line\": {\"color\": \"white\"}}, \"type\": \"table\"}]}, \"layout\": {\"annotationdefaults\": {\"arrowcolor\": \"#2a3f5f\", \"arrowhead\": 0, \"arrowwidth\": 1}, \"coloraxis\": {\"colorbar\": {\"outlinewidth\": 0, \"ticks\": \"\"}}, \"colorscale\": {\"diverging\": [[0, \"#8e0152\"], [0.1, \"#c51b7d\"], [0.2, \"#de77ae\"], [0.3, \"#f1b6da\"], [0.4, \"#fde0ef\"], [0.5, \"#f7f7f7\"], [0.6, \"#e6f5d0\"], [0.7, \"#b8e186\"], [0.8, \"#7fbc41\"], [0.9, \"#4d9221\"], [1, \"#276419\"]], \"sequential\": [[0.0, \"#0d0887\"], [0.1111111111111111, \"#46039f\"], [0.2222222222222222, \"#7201a8\"], [0.3333333333333333, \"#9c179e\"], [0.4444444444444444, \"#bd3786\"], [0.5555555555555556, \"#d8576b\"], [0.6666666666666666, \"#ed7953\"], [0.7777777777777778, \"#fb9f3a\"], [0.8888888888888888, \"#fdca26\"], [1.0, \"#f0f921\"]], \"sequentialminus\": [[0.0, \"#0d0887\"], [0.1111111111111111, \"#46039f\"], [0.2222222222222222, \"#7201a8\"], [0.3333333333333333, \"#9c179e\"], [0.4444444444444444, \"#bd3786\"], [0.5555555555555556, \"#d8576b\"], [0.6666666666666666, \"#ed7953\"], [0.7777777777777778, \"#fb9f3a\"], [0.8888888888888888, \"#fdca26\"], [1.0, \"#f0f921\"]]}, \"colorway\": [\"#636efa\", \"#EF553B\", \"#00cc96\", \"#ab63fa\", \"#FFA15A\", \"#19d3f3\", \"#FF6692\", \"#B6E880\", \"#FF97FF\", \"#FECB52\"], \"font\": {\"color\": \"#2a3f5f\"}, \"geo\": {\"bgcolor\": \"white\", \"lakecolor\": \"white\", \"landcolor\": \"#E5ECF6\", \"showlakes\": true, \"showland\": true, \"subunitcolor\": \"white\"}, \"hoverlabel\": {\"align\": \"left\"}, \"hovermode\": \"closest\", \"mapbox\": {\"style\": \"light\"}, \"paper_bgcolor\": \"white\", \"plot_bgcolor\": \"#E5ECF6\", \"polar\": {\"angularaxis\": {\"gridcolor\": \"white\", \"linecolor\": \"white\", \"ticks\": \"\"}, \"bgcolor\": \"#E5ECF6\", \"radialaxis\": {\"gridcolor\": \"white\", \"linecolor\": \"white\", \"ticks\": \"\"}}, \"scene\": {\"xaxis\": {\"backgroundcolor\": \"#E5ECF6\", \"gridcolor\": \"white\", \"gridwidth\": 2, \"linecolor\": \"white\", \"showbackground\": true, \"ticks\": \"\", \"zerolinecolor\": \"white\"}, \"yaxis\": {\"backgroundcolor\": \"#E5ECF6\", \"gridcolor\": \"white\", \"gridwidth\": 2, \"linecolor\": \"white\", \"showbackground\": true, \"ticks\": \"\", \"zerolinecolor\": \"white\"}, \"zaxis\": {\"backgroundcolor\": \"#E5ECF6\", \"gridcolor\": \"white\", \"gridwidth\": 2, \"linecolor\": \"white\", \"showbackground\": true, \"ticks\": \"\", \"zerolinecolor\": \"white\"}}, \"shapedefaults\": {\"line\": {\"color\": \"#2a3f5f\"}}, \"ternary\": {\"aaxis\": {\"gridcolor\": \"white\", \"linecolor\": \"white\", \"ticks\": \"\"}, \"baxis\": {\"gridcolor\": \"white\", \"linecolor\": \"white\", \"ticks\": \"\"}, \"bgcolor\": \"#E5ECF6\", \"caxis\": {\"gridcolor\": \"white\", \"linecolor\": \"white\", \"ticks\": \"\"}}, \"title\": {\"x\": 0.05}, \"xaxis\": {\"automargin\": true, \"gridcolor\": \"white\", \"linecolor\": \"white\", \"ticks\": \"\", \"title\": {\"standoff\": 15}, \"zerolinecolor\": \"white\", \"zerolinewidth\": 2}, \"yaxis\": {\"automargin\": true, \"gridcolor\": \"white\", \"linecolor\": \"white\", \"ticks\": \"\", \"title\": {\"standoff\": 15}, \"zerolinecolor\": \"white\", \"zerolinewidth\": 2}}}},\n",
              "                        {\"responsive\": true}\n",
              "                    ).then(function(){\n",
              "                            \n",
              "var gd = document.getElementById('bbd2ea78-3d00-40a6-9641-a6b933e95380');\n",
              "var x = new MutationObserver(function (mutations, observer) {{\n",
              "        var display = window.getComputedStyle(gd).display;\n",
              "        if (!display || display === 'none') {{\n",
              "            console.log([gd, 'removed!']);\n",
              "            Plotly.purge(gd);\n",
              "            observer.disconnect();\n",
              "        }}\n",
              "}});\n",
              "\n",
              "// Listen for the removal of the full notebook cells\n",
              "var notebookContainer = gd.closest('#notebook-container');\n",
              "if (notebookContainer) {{\n",
              "    x.observe(notebookContainer, {childList: true});\n",
              "}}\n",
              "\n",
              "// Listen for the clearing of the current output cell\n",
              "var outputEl = gd.closest('.output');\n",
              "if (outputEl) {{\n",
              "    x.observe(outputEl, {childList: true});\n",
              "}}\n",
              "\n",
              "                        })\n",
              "                };\n",
              "                \n",
              "            </script>\n",
              "        </div>\n",
              "</body>\n",
              "</html>"
            ]
          },
          "metadata": {
            "tags": []
          }
        }
      ]
    },
    {
      "cell_type": "markdown",
      "metadata": {
        "id": "8wxboABlHCqS"
      },
      "source": [
        "We have 41 clusters and a lot of outliers. This would suggest that our definition of neighborhood may have been too strict. Let's fix this to get a better result."
      ]
    },
    {
      "cell_type": "code",
      "metadata": {
        "id": "Vv3MecwTnqgD",
        "outputId": "eeff49bd-8a16-4ffb-fcd7-d8321d4da6d8",
        "colab": {
          "base_uri": "https://localhost:8080/",
          "height": 576
        }
      },
      "source": [
        "dbscan_clstr = DBSCAN(eps=(10/3958.748), metric=\"haversine\", min_samples=15)\n",
        "dbscan_clstr.fit(tx_starbucks[['Lat_Rad', 'Lon_Rad']])\n",
        "\n",
        "tx_starbucks['dbscan_label'] = dbscan_clstr.labels_\n",
        "\n",
        "print(f'{tx_starbucks[\"dbscan_label\"].nunique() - 1} Clusters')\n",
        "print(f'{tx_starbucks[tx_starbucks[\"dbscan_label\"] == -1].shape[0]} Outliers')\n",
        "\n",
        "px.scatter_geo(tx_starbucks, lat='Latitude', lon='Longitude', scope='north america', color='dbscan_label',)"
      ],
      "execution_count": null,
      "outputs": [
        {
          "output_type": "stream",
          "text": [
            "5 Clusters\n",
            "181 Outliers\n"
          ],
          "name": "stdout"
        },
        {
          "output_type": "display_data",
          "data": {
            "text/html": [
              "<html>\n",
              "<head><meta charset=\"utf-8\" /></head>\n",
              "<body>\n",
              "    <div>\n",
              "            <script src=\"https://cdnjs.cloudflare.com/ajax/libs/mathjax/2.7.5/MathJax.js?config=TeX-AMS-MML_SVG\"></script><script type=\"text/javascript\">if (window.MathJax) {MathJax.Hub.Config({SVG: {font: \"STIX-Web\"}});}</script>\n",
              "                <script type=\"text/javascript\">window.PlotlyConfig = {MathJaxConfig: 'local'};</script>\n",
              "        <script src=\"https://cdn.plot.ly/plotly-latest.min.js\"></script>    \n",
              "            <div id=\"cd271ef7-f64b-4957-99a8-4dddcf4cd5a9\" class=\"plotly-graph-div\" style=\"height:525px; width:100%;\"></div>\n",
              "            <script type=\"text/javascript\">\n",
              "                \n",
              "                    window.PLOTLYENV=window.PLOTLYENV || {};\n",
              "                    \n",
              "                if (document.getElementById(\"cd271ef7-f64b-4957-99a8-4dddcf4cd5a9\")) {\n",
              "                    Plotly.newPlot(\n",
              "                        'cd271ef7-f64b-4957-99a8-4dddcf4cd5a9',\n",
              "                        [{\"geo\": \"geo\", \"hoverlabel\": {\"namelength\": 0}, \"hovertemplate\": \"Latitude=%{lat}<br>Longitude=%{lon}<br>dbscan_label=%{marker.color}\", \"lat\": [32.4, 32.43, 32.4, 32.48, 32.39, 32.46, 32.94, 32.95, 32.95, 33.09, 33.14, 33.08, 33.12, 33.12, 33.11, 33.09, 33.1, 33.1, 29.4, 29.43, 35.19, 35.18, 35.19, 35.19, 32.67, 32.72, 32.73, 32.78, 32.68, 32.68, 32.72, 32.68, 32.68, 32.68, 32.73, 32.77, 32.67, 32.68, 32.72, 32.75, 30.0, 30.28, 30.26, 30.23, 30.24, 30.17, 30.18, 30.35, 30.36, 30.45, 30.48, 30.27, 30.39, 30.26, 30.22, 30.3, 30.27, 30.39, 30.22, 30.23, 30.27, 30.31, 30.41, 30.28, 30.26, 30.3, 30.24, 30.3, 30.31, 30.26, 30.44, 30.29, 30.4, 30.28, 30.37, 30.4, 30.23, 30.41, 30.18, 30.3, 30.24, 30.2, 30.28, 30.28, 30.4, 30.27, 30.29, 30.31, 30.29, 30.16, 30.39, 30.48, 30.27, 30.22, 30.42, 30.45, 30.25, 30.21, 30.23, 30.28, 30.34, 29.49, 33.08, 33.08, 30.11, 29.79, 29.77, 29.77, 29.81, 30.13, 30.12, 30.07, 30.12, 32.84, 29.71, 31.05, 32.68, 29.78, 30.14, 25.97, 25.97, 25.95, 31.73, 30.66, 30.67, 30.64, 30.09, 29.8, 32.54, 32.52, 32.56, 32.52, 34.98, 33.02, 33.03, 32.97, 33.02, 33.03, 33.0, 32.59, 32.6, 30.53, 30.48, 30.48, 30.53, 30.53, 30.47, 32.34, 29.04, 30.61, 30.62, 30.64, 30.62, 30.59, 30.61, 30.62, 30.61, 30.58, 32.88, 32.89, 30.21, 30.32, 30.33, 30.33, 29.5, 32.97, 32.97, 31.12, 33.13, 27.71, 27.69, 27.71, 27.72, 27.74, 29.89, 33.23, 32.57, 29.97, 30.0, 29.92, 29.95, 29.97, 29.99, 29.96, 29.97, 32.84, 32.96, 32.84, 32.93, 32.91, 32.86, 32.79, 32.84, 32.86, 32.9, 32.81, 32.84, 32.98, 32.93, 32.84, 32.87, 32.86, 32.86, 32.76, 32.79, 32.8, 32.79, 32.81, 32.85, 32.8, 32.85, 32.78, 32.86, 32.82, 32.87, 32.84, 32.82, 32.89, 32.9, 32.78, 32.87, 32.88, 33.0, 32.87, 32.81, 32.83, 32.81, 32.83, 32.65, 32.78, 32.81, 32.91, 32.87, 33.0, 32.86, 33.0, 32.79, 32.95, 32.86, 32.93, 32.91, 32.9, 32.91, 32.93, 32.91, 32.84, 32.82, 32.84, 32.9, 32.84, 32.81, 32.8, 32.81, 32.84, 32.9, 32.9, 32.85, 32.95, 32.9, 32.78, 32.9, 32.85, 32.93, 32.7, 32.81, 32.9, 32.98, 32.9, 32.9, 32.74, 32.87, 32.89, 32.92, 32.91, 33.23, 29.68, 29.66, 29.39, 33.23, 33.14, 33.23, 33.23, 33.21, 33.19, 33.23, 33.19, 33.23, 33.19, 32.6, 32.6, 29.45, 32.65, 26.26, 26.31, 31.72, 31.77, 31.76, 31.87, 31.8, 31.84, 31.77, 31.77, 31.77, 31.77, 31.79, 31.83, 31.91, 31.79, 31.87, 31.76, 31.78, 31.8, 31.9, 31.76, 31.8, 32.33, 32.88, 32.84, 32.88, 32.92, 33.04, 33.01, 33.07, 33.07, 33.04, 32.99, 33.07, 33.03, 33.04, 33.07, 32.66, 32.74, 32.74, 29.47, 32.66, 32.9, 32.73, 32.73, 32.73, 32.88, 32.68, 32.74, 32.75, 32.64, 32.63, 32.73, 32.86, 32.75, 32.96, 32.73, 32.82, 32.71, 32.68, 32.67, 32.76, 32.71, 32.68, 32.9, 32.81, 32.73, 32.91, 32.67, 32.73, 32.86, 32.75, 32.89, 29.51, 29.54, 29.54, 29.52, 33.1, 33.11, 33.1, 33.17, 33.18, 33.12, 33.11, 33.17, 33.18, 33.13, 33.14, 33.15, 33.11, 33.18, 32.76, 31.81, 31.81, 32.75, 32.97, 32.75, 29.7, 33.62, 29.27, 29.27, 29.31, 29.27, 32.86, 32.86, 32.96, 32.97, 32.84, 32.94, 32.96, 32.96, 30.63, 30.63, 30.68, 30.65, 32.43, 32.46, 32.46, 32.67, 32.64, 32.76, 32.65, 32.69, 32.68, 32.93, 32.97, 32.97, 32.92, 32.95, 32.94, 32.93, 32.94, 33.09, 32.86, 31.07, 31.07, 26.19, 26.17, 26.21, 26.18, 29.56, 33.13, 32.01, 29.85, 29.74, 29.98, 30.02, 29.67, 29.76, 29.55, 29.77, 29.88, 29.72, 29.74, 29.81, 29.77, 29.69, 29.73, 29.77, 29.92, 29.78, 29.99, 29.67, 29.72, 29.99, 29.75, 29.79, 29.73, 29.75, 29.78, 29.72, 29.74, 29.74, 29.78, 29.74, 29.68, 29.78, 29.68, 29.69, 29.91, 29.85, 29.78, 29.74, 29.92, 29.78, 29.77, 29.77, 29.76, 29.82, 29.9, 29.74, 29.82, 29.99, 29.6, 29.74, 29.76, 29.66, 29.75, 29.72, 29.99, 29.75, 29.99, 29.6, 29.68, 29.71, 29.76, 29.89, 29.73, 29.75, 29.78, 29.75, 29.74, 30.02, 29.98, 29.73, 29.9, 29.97, 29.99, 29.72, 29.6, 29.8, 29.98, 29.78, 30.16, 29.88, 29.96, 29.78, 29.95, 29.73, 29.76, 29.93, 29.72, 29.74, 29.77, 29.74, 29.93, 29.75, 29.72, 29.77, 29.74, 29.76, 29.96, 29.74, 29.75, 29.74, 29.75, 29.83, 29.98, 29.76, 29.93, 29.75, 29.96, 29.98, 29.63, 29.9, 29.76, 29.76, 29.74, 29.75, 29.75, 29.78, 29.71, 29.96, 29.65, 29.73, 29.98, 29.7, 30.0, 29.69, 29.77, 29.83, 29.77, 29.69, 29.83, 29.74, 29.77, 29.72, 29.76, 29.72, 29.7, 29.99, 29.74, 29.71, 29.81, 29.58, 29.74, 29.71, 30.07, 29.92, 29.75, 29.74, 29.81, 29.76, 29.92, 29.59, 29.78, 29.99, 30.02, 29.94, 30.0, 30.0, 30.07, 30.01, 30.0, 30.05, 30.0, 30.0, 30.71, 30.71, 30.72, 30.31, 30.72, 32.83, 32.86, 32.82, 32.83, 32.84, 32.84, 30.54, 32.92, 32.91, 32.84, 32.91, 32.89, 32.86, 32.85, 32.92, 29.76, 29.74, 29.77, 29.79, 29.74, 29.76, 29.78, 29.86, 29.82, 29.78, 29.7, 29.81, 29.78, 29.73, 29.8, 29.78, 29.72, 29.78, 32.93, 32.93, 32.93, 29.54, 29.55, 30.06, 31.15, 31.09, 31.11, 31.11, 27.52, 30.05, 30.07, 30.0, 30.02, 31.6, 29.05, 32.81, 30.34, 30.34, 29.65, 27.61, 27.57, 27.55, 27.52, 27.57, 29.54, 29.49, 29.51, 29.47, 29.51, 29.53, 29.5, 29.47, 30.54, 30.56, 33.59, 33.04, 33.01, 33.01, 33.01, 33.07, 33.0, 33.07, 33.07, 32.47, 33.17, 33.18, 33.16, 29.56, 32.53, 32.54, 32.55, 33.55, 33.52, 33.59, 33.55, 33.52, 33.66, 33.59, 33.58, 33.48, 33.51, 33.52, 33.09, 31.3, 30.22, 30.22, 30.35, 32.61, 32.58, 32.58, 32.58, 32.6, 32.59, 32.61, 30.56, 26.19, 26.24, 26.24, 26.2, 26.24, 26.19, 26.27, 26.19, 26.19, 33.2, 33.13, 33.17, 33.22, 33.17, 33.22, 33.17, 26.16, 32.81, 32.75, 32.81, 32.02, 32.03, 32.02, 32.04, 32.03, 31.97, 32.48, 26.2, 29.57, 29.54, 29.56, 29.58, 29.57, 30.36, 33.01, 31.62, 31.62, 29.55, 29.95, 29.69, 29.69, 32.84, 32.91, 32.91, 32.9, 31.89, 31.89, 31.89, 31.85, 31.89, 35.55, 33.66, 29.66, 29.65, 29.65, 29.65, 29.55, 29.56, 29.58, 29.58, 29.56, 29.56, 29.55, 30.47, 30.45, 30.46, 26.18, 33.08, 33.03, 33.03, 33.03, 33.04, 33.04, 33.06, 33.02, 33.03, 33.02, 33.02, 33.04, 33.11, 33.07, 33.02, 33.03, 33.05, 33.02, 33.03, 33.06, 33.04, 33.04, 33.04, 29.95, 30.1, 27.88, 33.24, 33.22, 29.53, 32.98, 33.0, 33.0, 32.94, 32.93, 33.0, 32.95, 33.0, 32.97, 29.62, 29.68, 29.66, 29.7, 32.9, 32.9, 32.97, 32.9, 32.95, 32.89, 32.94, 29.54, 29.54, 29.55, 30.56, 30.5, 30.5, 30.48, 30.53, 30.51, 30.52, 30.56, 30.57, 32.92, 32.92, 32.91, 32.91, 32.97, 31.45, 31.46, 31.42, 31.44, 29.61, 29.59, 29.52, 29.48, 29.59, 29.61, 29.44, 29.61, 29.52, 29.61, 29.49, 29.49, 29.51, 29.55, 29.57, 29.45, 29.56, 29.47, 29.52, 29.67, 29.52, 29.53, 29.51, 29.58, 29.52, 29.57, 29.61, 29.61, 29.55, 29.53, 29.56, 29.43, 29.55, 29.51, 29.52, 29.42, 29.6, 29.49, 29.49, 29.61, 29.56, 29.52, 29.48, 29.57, 29.35, 29.51, 29.36, 29.42, 29.61, 29.5, 29.55, 29.56, 29.52, 29.42, 29.47, 29.66, 29.44, 29.53, 29.65, 29.52, 29.5, 29.44, 29.44, 29.35, 29.36, 29.5, 29.51, 29.59, 29.44, 29.42, 29.53, 29.39, 29.53, 29.55, 29.51, 29.47, 29.44, 29.66, 29.64, 29.52, 29.49, 29.38, 29.89, 29.87, 29.83, 29.9, 29.83, 29.6, 29.6, 29.57, 29.6, 33.66, 33.68, 33.67, 32.94, 32.94, 32.94, 32.94, 30.0, 30.04, 30.19, 30.03, 30.07, 30.04, 30.05, 30.13, 30.07, 30.08, 30.07, 30.13, 30.12, 30.14, 30.05, 30.02, 29.79, 29.62, 32.2, 29.59, 29.59, 29.6, 29.61, 29.65, 29.59, 29.6, 29.59, 29.56, 31.1, 31.07, 31.12, 31.09, 32.7, 32.72, 33.46, 29.42, 29.4, 33.07, 30.19, 30.17, 30.23, 30.18, 30.21, 30.16, 30.18, 30.17, 30.17, 30.16, 30.18, 30.09, 30.08, 30.11, 30.09, 30.11, 33.0, 32.31, 32.35, 32.3, 32.33, 32.28, 32.3, 28.86, 28.87, 31.55, 31.53, 31.5, 31.53, 31.55, 31.53, 32.89, 32.89, 32.42, 32.42, 32.73, 32.73, 32.76, 29.54, 29.58, 29.54, 29.54, 29.56, 26.17, 33.88, 33.86, 30.39, 30.16, 31.5, 33.01, 33.01, 33.01, 33.01, 33.01], \"legendgroup\": \"\", \"lon\": [-99.76, -99.76, -99.76, -99.69, -99.7, -99.71, -96.85, -96.84, -96.82, -96.68, -96.68, -96.64, -96.66, -96.65, -96.7, -96.68, -96.68, -96.7, -95.25, -95.23, -101.8, -101.94, -101.93, -101.87, -97.11, -97.15, -97.11, -97.1, -97.11, -97.14, -97.15, -97.13, -97.13, -97.19, -97.11, -97.1, -97.13, -97.2, -97.12, -97.13, -95.17, -97.8, -97.75, -97.87, -97.73, -97.79, -97.85, -97.76, -97.74, -97.83, -97.81, -97.74, -97.74, -97.81, -97.69, -97.74, -97.75, -97.75, -97.76, -97.79, -97.74, -97.74, -97.85, -97.8, -97.81, -97.76, -97.79, -97.93, -97.75, -97.74, -97.74, -97.74, -97.75, -97.74, -97.76, -97.85, -97.74, -97.69, -97.85, -97.7, -97.76, -97.88, -97.74, -97.73, -97.73, -97.75, -97.83, -97.71, -97.74, -97.79, -97.88, -97.8, -97.74, -97.84, -97.7, -97.79, -97.76, -97.82, -97.83, -97.78, -97.76, -98.55, -97.13, -97.13, -97.33, -94.98, -94.98, -94.98, -94.98, -94.15, -94.17, -94.13, -94.17, -97.13, -95.47, -97.45, -97.46, -98.74, -96.39, -97.51, -97.51, -97.5, -98.98, -96.33, -96.34, -96.35, -97.82, -98.42, -97.31, -97.35, -97.32, -97.35, -101.92, -96.88, -96.84, -96.92, -96.91, -96.89, -96.91, -96.94, -96.94, -97.81, -97.83, -97.83, -97.81, -97.78, -97.8, -97.41, -95.42, -96.31, -96.35, -96.32, -96.35, -96.28, -96.34, -96.34, -96.32, -96.29, -97.1, -97.15, -95.46, -95.48, -95.5, -95.48, -98.32, -96.99, -96.99, -97.88, -97.04, -97.37, -97.38, -97.37, -97.33, -97.39, -95.06, -96.99, -97.35, -95.69, -95.76, -95.69, -95.71, -95.69, -95.62, -95.67, -95.69, -96.78, -96.79, -96.78, -96.82, -96.8, -96.86, -96.8, -96.78, -96.77, -97.04, -96.75, -96.77, -96.77, -96.82, -96.85, -96.77, -96.85, -96.77, -96.9, -96.8, -96.8, -96.78, -96.73, -96.79, -96.79, -96.77, -96.8, -96.75, -96.87, -96.76, -96.75, -96.8, -97.04, -97.04, -96.8, -96.75, -97.02, -96.83, -96.77, -96.79, -96.7, -96.8, -96.83, -96.86, -96.8, -96.83, -96.75, -96.81, -96.86, -96.89, -96.79, -96.8, -96.81, -96.84, -96.77, -96.77, -96.74, -96.85, -96.82, -97.04, -96.8, -96.79, -96.85, -97.04, -96.82, -96.81, -96.83, -96.83, -96.78, -96.72, -97.04, -96.82, -96.77, -97.04, -96.8, -96.8, -96.77, -96.8, -96.9, -96.81, -97.04, -96.77, -97.04, -97.04, -96.86, -96.77, -97.03, -96.82, -96.87, -97.6, -95.12, -95.11, -100.9, -97.13, -97.11, -97.14, -97.16, -97.15, -97.1, -97.16, -97.11, -97.14, -97.11, -96.82, -96.86, -95.08, -96.92, -98.16, -98.19, -106.3, -106.5, -106.27, -106.58, -106.4, -106.57, -106.32, -106.38, -106.38, -106.5, -106.27, -106.53, -106.58, -106.41, -106.58, -106.49, -106.39, -106.4, -106.44, -106.27, -106.39, -96.62, -97.1, -97.1, -97.1, -96.97, -97.04, -97.05, -97.06, -97.08, -97.04, -97.07, -97.08, -97.07, -97.04, -97.06, -97.28, -96.45, -96.46, -98.43, -97.42, -97.32, -97.34, -97.34, -97.41, -97.38, -97.41, -97.34, -97.33, -97.37, -97.32, -97.39, -97.29, -97.43, -97.3, -97.36, -97.06, -97.36, -97.41, -97.4, -97.48, -97.39, -97.4, -97.32, -97.43, -97.42, -97.31, -97.38, -97.36, -97.32, -97.35, -97.29, -95.19, -95.15, -95.15, -95.16, -96.81, -96.84, -96.81, -96.74, -96.84, -96.8, -96.81, -96.73, -96.84, -96.73, -96.8, -96.86, -96.81, -96.89, -97.35, -106.41, -106.41, -97.33, -97.42, -97.33, -95.85, -97.15, -94.83, -94.82, -94.79, -94.83, -96.65, -96.66, -96.64, -96.65, -96.6, -96.61, -96.62, -96.67, -97.7, -97.69, -97.72, -97.68, -97.78, -97.73, -97.73, -97.0, -97.06, -96.99, -97.06, -97.06, -97.01, -97.09, -97.04, -97.04, -97.12, -97.05, -97.07, -97.09, -97.1, -96.11, -97.26, -97.67, -97.67, -97.72, -97.67, -97.69, -97.72, -98.68, -97.04, -97.09, -95.5, -95.6, -95.22, -95.38, -95.46, -95.37, -95.13, -95.56, -95.65, -95.5, -95.5, -95.41, -95.55, -95.46, -95.44, -95.56, -95.61, -95.59, -95.35, -95.26, -95.34, -95.33, -95.36, -95.41, -95.48, -95.46, -95.54, -95.4, -95.45, -95.54, -95.71, -95.64, -95.46, -95.72, -95.64, -95.41, -95.69, -95.65, -95.41, -95.55, -95.62, -95.54, -95.39, -95.38, -95.62, -95.47, -95.56, -95.53, -95.55, -95.35, -95.27, -95.46, -95.63, -95.28, -95.41, -95.44, -95.35, -95.45, -95.35, -95.21, -95.43, -95.4, -95.37, -95.58, -95.62, -95.47, -95.54, -95.37, -95.46, -95.44, -95.33, -95.43, -95.56, -95.53, -95.35, -95.47, -95.27, -95.49, -95.34, -95.51, -95.46, -95.65, -95.54, -95.64, -95.41, -95.43, -95.36, -95.2, -95.42, -95.41, -95.4, -95.59, -95.6, -95.38, -95.34, -95.61, -95.47, -95.37, -95.54, -95.39, -95.45, -95.46, -95.41, -95.68, -95.51, -95.48, -95.63, -95.41, -95.55, -95.57, -95.23, -95.61, -95.42, -95.36, -95.54, -95.5, -95.36, -95.54, -95.43, -95.54, -95.57, -95.43, -95.51, -95.3, -95.57, -95.46, -95.61, -95.48, -95.36, -95.42, -95.43, -95.46, -95.72, -95.56, -95.37, -95.34, -95.42, -95.35, -95.52, -95.4, -95.41, -95.12, -95.57, -95.44, -95.19, -95.41, -95.37, -95.41, -95.17, -95.36, -95.2, -95.14, -95.52, -95.5, -95.27, -95.25, -95.16, -95.18, -95.22, -95.27, -95.19, -95.23, -95.27, -95.25, -95.55, -95.55, -95.57, -95.47, -95.57, -97.2, -97.18, -97.2, -97.2, -97.19, -97.18, -97.56, -96.99, -96.96, -96.98, -96.96, -96.96, -96.96, -96.99, -96.96, -95.78, -95.78, -95.84, -95.72, -95.78, -95.75, -95.75, -95.72, -95.77, -95.81, -95.81, -95.72, -95.81, -95.75, -95.75, -95.72, -95.78, -95.83, -97.23, -97.23, -97.25, -95.02, -95.02, -99.17, -97.8, -97.73, -97.8, -97.75, -97.86, -95.18, -95.24, -97.84, -97.86, -97.11, -95.46, -97.43, -97.97, -97.97, -95.03, -99.48, -99.43, -99.5, -99.45, -99.47, -95.06, -95.12, -95.1, -95.08, -95.04, -95.07, -95.04, -95.09, -97.86, -97.84, -102.37, -97.0, -97.02, -96.97, -96.97, -96.89, -96.96, -96.89, -96.88, -95.39, -96.89, -96.88, -96.94, -98.33, -94.72, -94.76, -94.73, -101.96, -101.91, -101.87, -101.95, -101.94, -101.82, -101.92, -101.94, -101.89, -101.92, -101.87, -96.62, -94.73, -95.57, -95.57, -97.56, -97.12, -97.08, -97.13, -97.08, -97.15, -97.14, -97.12, -98.27, -98.24, -98.23, -98.21, -98.27, -98.25, -98.21, -98.22, -98.21, -98.23, -96.71, -96.73, -96.64, -96.64, -96.68, -96.63, -96.66, -97.89, -96.62, -96.59, -96.62, -102.14, -102.13, -102.12, -102.13, -102.14, -102.07, -97.01, -98.29, -95.57, -95.52, -95.57, -95.58, -95.57, -95.6, -96.61, -94.65, -94.65, -95.1, -93.99, -98.13, -98.14, -97.24, -97.19, -97.19, -97.19, -102.35, -102.34, -102.33, -102.37, -102.35, -100.97, -95.51, -95.19, -95.15, -95.16, -95.15, -95.38, -95.38, -95.39, -95.4, -95.35, -95.28, -95.38, -97.6, -97.66, -97.6, -98.19, -96.82, -96.79, -96.8, -96.83, -96.83, -96.71, -96.77, -96.68, -96.83, -96.66, -96.71, -96.73, -96.77, -96.77, -96.8, -96.83, -96.8, -96.73, -96.83, -96.69, -96.73, -96.72, -96.75, -93.99, -95.24, -97.32, -96.79, -96.74, -98.28, -96.77, -96.65, -96.7, -96.7, -96.68, -96.7, -96.74, -96.73, -96.72, -95.74, -95.72, -95.75, -95.69, -96.46, -96.48, -96.47, -96.47, -96.46, -96.47, -96.45, -95.75, -95.75, -95.75, -97.68, -97.72, -97.65, -97.66, -97.62, -97.69, -97.69, -97.69, -97.69, -96.52, -96.52, -96.58, -96.56, -96.6, -100.48, -100.45, -100.48, -100.47, -98.47, -98.62, -98.48, -98.46, -98.62, -98.6, -98.5, -98.47, -98.5, -98.49, -98.71, -98.43, -98.46, -98.66, -98.65, -98.56, -98.52, -98.61, -98.64, -98.43, -98.57, -98.58, -98.58, -98.62, -98.5, -98.49, -98.6, -98.51, -98.58, -98.52, -98.59, -98.49, -98.57, -98.55, -98.5, -98.49, -98.42, -98.45, -98.35, -98.51, -98.48, -98.59, -98.53, -98.33, -98.44, -98.39, -98.52, -98.49, -98.51, -98.48, -98.66, -98.54, -98.5, -98.48, -98.62, -98.63, -98.65, -98.56, -98.45, -98.61, -98.48, -98.71, -98.49, -98.44, -98.54, -98.63, -98.57, -98.62, -98.67, -98.52, -98.47, -98.62, -98.68, -98.66, -98.54, -98.53, -98.65, -98.45, -98.48, -98.61, -98.57, -98.61, -97.94, -97.94, -97.99, -97.95, -97.98, -98.28, -97.95, -98.33, -98.56, -96.61, -96.61, -96.61, -97.13, -97.11, -97.15, -97.15, -95.53, -95.49, -95.49, -95.55, -95.51, -95.49, -95.43, -95.43, -95.44, -95.52, -95.44, -95.46, -95.41, -95.47, -95.43, -95.53, -95.5, -95.57, -98.24, -95.68, -95.63, -95.63, -95.66, -95.65, -95.63, -95.62, -95.6, -95.68, -97.36, -97.37, -97.41, -97.39, -96.28, -96.32, -94.09, -95.06, -94.95, -96.89, -95.59, -95.47, -95.51, -95.48, -95.53, -95.46, -95.54, -95.5, -95.46, -95.46, -95.54, -95.64, -95.63, -95.55, -95.63, -95.55, -97.21, -95.28, -95.34, -95.3, -95.28, -95.31, -95.3, -97.0, -97.0, -97.11, -97.19, -97.16, -97.13, -97.12, -97.19, -97.26, -97.26, -96.84, -96.84, -97.79, -97.79, -97.79, -95.14, -95.16, -95.15, -95.15, -95.15, -98.01, -98.53, -98.53, -95.49, -95.46, -97.22, -96.57, -96.57, -96.55, -96.59, -96.54], \"marker\": {\"color\": [-1, -1, -1, -1, -1, -1, 0, 0, 0, 0, 0, 0, 0, 0, 0, 0, 0, 0, 1, 1, -1, -1, -1, -1, 0, 0, 0, 0, 0, 0, 0, 0, 0, 0, 0, 0, 0, 0, 0, 0, 1, 2, 2, 2, 2, 2, 2, 2, 2, 2, 2, 2, 2, 2, 2, 2, 2, 2, 2, 2, 2, 2, 2, 2, 2, 2, 2, 2, 2, 2, 2, 2, 2, 2, 2, 2, 2, 2, 2, 2, 2, 2, 2, 2, 2, 2, 2, 2, 2, 2, 2, 2, 2, 2, 2, 2, 2, 2, 2, 2, 2, 3, 0, 0, -1, -1, 1, 1, -1, -1, -1, -1, -1, 0, 1, -1, 0, -1, -1, -1, -1, -1, -1, -1, -1, -1, 2, 3, 0, 0, 0, 0, -1, 0, 0, 0, 0, 0, 0, 0, 0, 2, 2, 2, 2, 2, 2, -1, -1, -1, -1, -1, -1, -1, -1, -1, -1, -1, 0, 0, 1, 1, 1, 1, 3, 0, 0, -1, 0, -1, -1, -1, -1, -1, 1, 0, 0, 1, 1, 1, 1, 1, 1, 1, 1, 0, 0, 0, 0, 0, 0, 0, 0, 0, 0, 0, 0, 0, 0, 0, 0, 0, 0, 0, 0, 0, 0, 0, 0, 0, 0, 0, 0, 0, 0, 0, 0, 0, 0, 0, 0, 0, 0, 0, 0, 0, 0, 0, 0, 0, 0, 0, 0, 0, 0, 0, 0, 0, 0, 0, 0, 0, 0, 0, 0, 0, 0, 0, 0, 0, 0, 0, 0, 0, 0, 0, 0, 0, 0, 0, 0, 0, 0, 0, 0, 0, 0, 0, 0, 0, 0, 0, 0, 0, -1, 1, 1, -1, 0, 0, 0, 0, 0, 0, 0, 0, 0, 0, 0, 0, 1, 0, -1, -1, 4, 4, 4, 4, 4, 4, 4, 4, 4, 4, 4, 4, 4, 4, 4, 4, 4, 4, 4, 4, 4, -1, 0, 0, 0, 0, 0, 0, 0, 0, 0, 0, 0, 0, 0, 0, 0, -1, -1, 3, 0, 0, 0, 0, 0, 0, 0, 0, 0, 0, 0, 0, 0, 0, 0, 0, 0, 0, 0, 0, 0, 0, 0, 0, 0, 0, 0, 0, 0, 0, 0, 0, 1, 1, 1, 1, 0, 0, 0, 0, 0, 0, 0, 0, 0, 0, 0, 0, 0, 0, 0, 4, 4, 0, 0, 0, 1, -1, -1, -1, -1, -1, 0, 0, 0, 0, 0, 0, 0, 0, 2, 2, 2, 2, -1, -1, -1, 0, 0, 0, 0, 0, 0, 0, 0, 0, 0, 0, 0, 0, 0, -1, 0, -1, -1, -1, -1, -1, -1, 3, 0, -1, 1, 1, 1, 1, 1, 1, 1, 1, 1, 1, 1, 1, 1, 1, 1, 1, 1, 1, 1, 1, 1, 1, 1, 1, 1, 1, 1, 1, 1, 1, 1, 1, 1, 1, 1, 1, 1, 1, 1, 1, 1, 1, 1, 1, 1, 1, 1, 1, 1, 1, 1, 1, 1, 1, 1, 1, 1, 1, 1, 1, 1, 1, 1, 1, 1, 1, 1, 1, 1, 1, 1, 1, 1, 1, 1, 1, 1, 1, 1, 1, 1, 1, 1, 1, 1, 1, 1, 1, 1, 1, 1, 1, 1, 1, 1, 1, 1, 1, 1, 1, 1, 1, 1, 1, 1, 1, 1, 1, 1, 1, 1, 1, 1, 1, 1, 1, 1, 1, 1, 1, 1, 1, 1, 1, 1, 1, 1, 1, 1, 1, 1, 1, 1, 1, 1, 1, 1, 1, 1, 1, 1, 1, 1, 1, 1, 1, 1, 1, 1, 1, 1, 1, 1, 1, 1, 1, 1, 1, 1, 1, 1, 1, 1, 1, -1, -1, -1, 1, -1, 0, 0, 0, 0, 0, 0, 2, 0, 0, 0, 0, 0, 0, 0, 0, 1, 1, 1, 1, 1, 1, 1, 1, 1, 1, 1, 1, 1, 1, 1, 1, 1, 1, 0, 0, 0, 1, 1, -1, -1, -1, -1, -1, -1, 1, 1, -1, -1, -1, -1, 0, 2, 2, 1, -1, -1, -1, -1, -1, 1, 1, 1, 1, 1, 1, 1, 1, 2, 2, -1, 0, 0, 0, 0, 0, 0, 0, 0, -1, 0, 0, 0, 3, -1, -1, -1, -1, -1, -1, -1, -1, -1, -1, -1, -1, -1, -1, 0, -1, 1, 1, 2, 0, 0, 0, 0, 0, 0, 0, -1, -1, -1, -1, -1, -1, -1, -1, -1, -1, 0, 0, 0, 0, 0, 0, 0, -1, 0, 0, 0, -1, -1, -1, -1, -1, -1, 0, -1, 1, 1, 1, 1, 1, 1, 0, -1, -1, 1, -1, -1, -1, 0, 0, 0, 0, -1, -1, -1, -1, -1, -1, -1, 1, 1, 1, 1, 1, 1, 1, 1, 1, 1, 1, 2, 2, 2, -1, 0, 0, 0, 0, 0, 0, 0, 0, 0, 0, 0, 0, 0, 0, 0, 0, 0, 0, 0, 0, 0, 0, 0, -1, 1, -1, 0, 0, 3, 0, 0, 0, 0, 0, 0, 0, 0, 0, 1, 1, 1, 1, 0, 0, 0, 0, 0, 0, 0, 1, 1, 1, 2, 2, 2, 2, 2, 2, 2, 2, 2, 0, 0, 0, 0, 0, -1, -1, -1, -1, 3, 3, 3, 3, 3, 3, 3, 3, 3, 3, 3, 3, 3, 3, 3, 3, 3, 3, 3, 3, 3, 3, 3, 3, 3, 3, 3, 3, 3, 3, 3, 3, 3, 3, 3, 3, 3, 3, 3, 3, 3, 3, 3, 3, 3, 3, 3, 3, 3, 3, 3, 3, 3, 3, 3, 3, 3, 3, 3, 3, 3, 3, 3, 3, 3, 3, 3, 3, 3, 3, 3, 3, 3, 3, 3, 3, 3, 3, 3, 3, 3, 3, -1, -1, -1, -1, -1, 3, -1, 3, 3, -1, -1, -1, 0, 0, 0, 0, 1, 1, 1, 1, 1, 1, 1, 1, 1, 1, 1, 1, 1, 1, 1, 1, 1, 1, -1, 1, 1, 1, 1, 1, 1, 1, 1, 1, -1, -1, -1, -1, -1, -1, -1, 1, 1, 0, 1, 1, 1, 1, 1, 1, 1, 1, 1, 1, 1, 1, 1, 1, 1, 1, 0, -1, -1, -1, -1, -1, -1, -1, -1, -1, -1, -1, -1, -1, -1, 0, 0, -1, -1, -1, -1, -1, 1, 1, 1, 1, 1, -1, -1, -1, 1, 1, -1, 0, 0, 0, 0, 0], \"coloraxis\": \"coloraxis\"}, \"name\": \"\", \"showlegend\": false, \"type\": \"scattergeo\"}],\n",
              "                        {\"coloraxis\": {\"colorbar\": {\"title\": {\"text\": \"dbscan_label\"}}, \"colorscale\": [[0.0, \"#0d0887\"], [0.1111111111111111, \"#46039f\"], [0.2222222222222222, \"#7201a8\"], [0.3333333333333333, \"#9c179e\"], [0.4444444444444444, \"#bd3786\"], [0.5555555555555556, \"#d8576b\"], [0.6666666666666666, \"#ed7953\"], [0.7777777777777778, \"#fb9f3a\"], [0.8888888888888888, \"#fdca26\"], [1.0, \"#f0f921\"]]}, \"geo\": {\"center\": {}, \"domain\": {\"x\": [0.0, 1.0], \"y\": [0.0, 1.0]}, \"scope\": \"north america\"}, \"legend\": {\"tracegroupgap\": 0}, \"margin\": {\"t\": 60}, \"template\": {\"data\": {\"bar\": [{\"error_x\": {\"color\": \"#2a3f5f\"}, \"error_y\": {\"color\": \"#2a3f5f\"}, \"marker\": {\"line\": {\"color\": \"#E5ECF6\", \"width\": 0.5}}, \"type\": \"bar\"}], \"barpolar\": [{\"marker\": {\"line\": {\"color\": \"#E5ECF6\", \"width\": 0.5}}, \"type\": \"barpolar\"}], \"carpet\": [{\"aaxis\": {\"endlinecolor\": \"#2a3f5f\", \"gridcolor\": \"white\", \"linecolor\": \"white\", \"minorgridcolor\": \"white\", \"startlinecolor\": \"#2a3f5f\"}, \"baxis\": {\"endlinecolor\": \"#2a3f5f\", \"gridcolor\": \"white\", \"linecolor\": \"white\", \"minorgridcolor\": \"white\", \"startlinecolor\": \"#2a3f5f\"}, \"type\": \"carpet\"}], \"choropleth\": [{\"colorbar\": {\"outlinewidth\": 0, \"ticks\": \"\"}, \"type\": \"choropleth\"}], \"contour\": [{\"colorbar\": {\"outlinewidth\": 0, \"ticks\": \"\"}, \"colorscale\": [[0.0, \"#0d0887\"], [0.1111111111111111, \"#46039f\"], [0.2222222222222222, \"#7201a8\"], [0.3333333333333333, \"#9c179e\"], [0.4444444444444444, \"#bd3786\"], [0.5555555555555556, \"#d8576b\"], [0.6666666666666666, \"#ed7953\"], [0.7777777777777778, \"#fb9f3a\"], [0.8888888888888888, \"#fdca26\"], [1.0, \"#f0f921\"]], \"type\": \"contour\"}], \"contourcarpet\": [{\"colorbar\": {\"outlinewidth\": 0, \"ticks\": \"\"}, \"type\": \"contourcarpet\"}], \"heatmap\": [{\"colorbar\": {\"outlinewidth\": 0, \"ticks\": \"\"}, \"colorscale\": [[0.0, \"#0d0887\"], [0.1111111111111111, \"#46039f\"], [0.2222222222222222, \"#7201a8\"], [0.3333333333333333, \"#9c179e\"], [0.4444444444444444, \"#bd3786\"], [0.5555555555555556, \"#d8576b\"], [0.6666666666666666, \"#ed7953\"], [0.7777777777777778, \"#fb9f3a\"], [0.8888888888888888, \"#fdca26\"], [1.0, \"#f0f921\"]], \"type\": \"heatmap\"}], \"heatmapgl\": [{\"colorbar\": {\"outlinewidth\": 0, \"ticks\": \"\"}, \"colorscale\": [[0.0, \"#0d0887\"], [0.1111111111111111, \"#46039f\"], [0.2222222222222222, \"#7201a8\"], [0.3333333333333333, \"#9c179e\"], [0.4444444444444444, \"#bd3786\"], [0.5555555555555556, \"#d8576b\"], [0.6666666666666666, \"#ed7953\"], [0.7777777777777778, \"#fb9f3a\"], [0.8888888888888888, \"#fdca26\"], [1.0, \"#f0f921\"]], \"type\": \"heatmapgl\"}], \"histogram\": [{\"marker\": {\"colorbar\": {\"outlinewidth\": 0, \"ticks\": \"\"}}, \"type\": \"histogram\"}], \"histogram2d\": [{\"colorbar\": {\"outlinewidth\": 0, \"ticks\": \"\"}, \"colorscale\": [[0.0, \"#0d0887\"], [0.1111111111111111, \"#46039f\"], [0.2222222222222222, \"#7201a8\"], [0.3333333333333333, \"#9c179e\"], [0.4444444444444444, \"#bd3786\"], [0.5555555555555556, \"#d8576b\"], [0.6666666666666666, \"#ed7953\"], [0.7777777777777778, \"#fb9f3a\"], [0.8888888888888888, \"#fdca26\"], [1.0, \"#f0f921\"]], \"type\": \"histogram2d\"}], \"histogram2dcontour\": [{\"colorbar\": {\"outlinewidth\": 0, \"ticks\": \"\"}, \"colorscale\": [[0.0, \"#0d0887\"], [0.1111111111111111, \"#46039f\"], [0.2222222222222222, \"#7201a8\"], [0.3333333333333333, \"#9c179e\"], [0.4444444444444444, \"#bd3786\"], [0.5555555555555556, \"#d8576b\"], [0.6666666666666666, \"#ed7953\"], [0.7777777777777778, \"#fb9f3a\"], [0.8888888888888888, \"#fdca26\"], [1.0, \"#f0f921\"]], \"type\": \"histogram2dcontour\"}], \"mesh3d\": [{\"colorbar\": {\"outlinewidth\": 0, \"ticks\": \"\"}, \"type\": \"mesh3d\"}], \"parcoords\": [{\"line\": {\"colorbar\": {\"outlinewidth\": 0, \"ticks\": \"\"}}, \"type\": \"parcoords\"}], \"pie\": [{\"automargin\": true, \"type\": \"pie\"}], \"scatter\": [{\"marker\": {\"colorbar\": {\"outlinewidth\": 0, \"ticks\": \"\"}}, \"type\": \"scatter\"}], \"scatter3d\": [{\"line\": {\"colorbar\": {\"outlinewidth\": 0, \"ticks\": \"\"}}, \"marker\": {\"colorbar\": {\"outlinewidth\": 0, \"ticks\": \"\"}}, \"type\": \"scatter3d\"}], \"scattercarpet\": [{\"marker\": {\"colorbar\": {\"outlinewidth\": 0, \"ticks\": \"\"}}, \"type\": \"scattercarpet\"}], \"scattergeo\": [{\"marker\": {\"colorbar\": {\"outlinewidth\": 0, \"ticks\": \"\"}}, \"type\": \"scattergeo\"}], \"scattergl\": [{\"marker\": {\"colorbar\": {\"outlinewidth\": 0, \"ticks\": \"\"}}, \"type\": \"scattergl\"}], \"scattermapbox\": [{\"marker\": {\"colorbar\": {\"outlinewidth\": 0, \"ticks\": \"\"}}, \"type\": \"scattermapbox\"}], \"scatterpolar\": [{\"marker\": {\"colorbar\": {\"outlinewidth\": 0, \"ticks\": \"\"}}, \"type\": \"scatterpolar\"}], \"scatterpolargl\": [{\"marker\": {\"colorbar\": {\"outlinewidth\": 0, \"ticks\": \"\"}}, \"type\": \"scatterpolargl\"}], \"scatterternary\": [{\"marker\": {\"colorbar\": {\"outlinewidth\": 0, \"ticks\": \"\"}}, \"type\": \"scatterternary\"}], \"surface\": [{\"colorbar\": {\"outlinewidth\": 0, \"ticks\": \"\"}, \"colorscale\": [[0.0, \"#0d0887\"], [0.1111111111111111, \"#46039f\"], [0.2222222222222222, \"#7201a8\"], [0.3333333333333333, \"#9c179e\"], [0.4444444444444444, \"#bd3786\"], [0.5555555555555556, \"#d8576b\"], [0.6666666666666666, \"#ed7953\"], [0.7777777777777778, \"#fb9f3a\"], [0.8888888888888888, \"#fdca26\"], [1.0, \"#f0f921\"]], \"type\": \"surface\"}], \"table\": [{\"cells\": {\"fill\": {\"color\": \"#EBF0F8\"}, \"line\": {\"color\": \"white\"}}, \"header\": {\"fill\": {\"color\": \"#C8D4E3\"}, \"line\": {\"color\": \"white\"}}, \"type\": \"table\"}]}, \"layout\": {\"annotationdefaults\": {\"arrowcolor\": \"#2a3f5f\", \"arrowhead\": 0, \"arrowwidth\": 1}, \"coloraxis\": {\"colorbar\": {\"outlinewidth\": 0, \"ticks\": \"\"}}, \"colorscale\": {\"diverging\": [[0, \"#8e0152\"], [0.1, \"#c51b7d\"], [0.2, \"#de77ae\"], [0.3, \"#f1b6da\"], [0.4, \"#fde0ef\"], [0.5, \"#f7f7f7\"], [0.6, \"#e6f5d0\"], [0.7, \"#b8e186\"], [0.8, \"#7fbc41\"], [0.9, \"#4d9221\"], [1, \"#276419\"]], \"sequential\": [[0.0, \"#0d0887\"], [0.1111111111111111, \"#46039f\"], [0.2222222222222222, \"#7201a8\"], [0.3333333333333333, \"#9c179e\"], [0.4444444444444444, \"#bd3786\"], [0.5555555555555556, \"#d8576b\"], [0.6666666666666666, \"#ed7953\"], [0.7777777777777778, \"#fb9f3a\"], [0.8888888888888888, \"#fdca26\"], [1.0, \"#f0f921\"]], \"sequentialminus\": [[0.0, \"#0d0887\"], [0.1111111111111111, \"#46039f\"], [0.2222222222222222, \"#7201a8\"], [0.3333333333333333, \"#9c179e\"], [0.4444444444444444, \"#bd3786\"], [0.5555555555555556, \"#d8576b\"], [0.6666666666666666, \"#ed7953\"], [0.7777777777777778, \"#fb9f3a\"], [0.8888888888888888, \"#fdca26\"], [1.0, \"#f0f921\"]]}, \"colorway\": [\"#636efa\", \"#EF553B\", \"#00cc96\", \"#ab63fa\", \"#FFA15A\", \"#19d3f3\", \"#FF6692\", \"#B6E880\", \"#FF97FF\", \"#FECB52\"], \"font\": {\"color\": \"#2a3f5f\"}, \"geo\": {\"bgcolor\": \"white\", \"lakecolor\": \"white\", \"landcolor\": \"#E5ECF6\", \"showlakes\": true, \"showland\": true, \"subunitcolor\": \"white\"}, \"hoverlabel\": {\"align\": \"left\"}, \"hovermode\": \"closest\", \"mapbox\": {\"style\": \"light\"}, \"paper_bgcolor\": \"white\", \"plot_bgcolor\": \"#E5ECF6\", \"polar\": {\"angularaxis\": {\"gridcolor\": \"white\", \"linecolor\": \"white\", \"ticks\": \"\"}, \"bgcolor\": \"#E5ECF6\", \"radialaxis\": {\"gridcolor\": \"white\", \"linecolor\": \"white\", \"ticks\": \"\"}}, \"scene\": {\"xaxis\": {\"backgroundcolor\": \"#E5ECF6\", \"gridcolor\": \"white\", \"gridwidth\": 2, \"linecolor\": \"white\", \"showbackground\": true, \"ticks\": \"\", \"zerolinecolor\": \"white\"}, \"yaxis\": {\"backgroundcolor\": \"#E5ECF6\", \"gridcolor\": \"white\", \"gridwidth\": 2, \"linecolor\": \"white\", \"showbackground\": true, \"ticks\": \"\", \"zerolinecolor\": \"white\"}, \"zaxis\": {\"backgroundcolor\": \"#E5ECF6\", \"gridcolor\": \"white\", \"gridwidth\": 2, \"linecolor\": \"white\", \"showbackground\": true, \"ticks\": \"\", \"zerolinecolor\": \"white\"}}, \"shapedefaults\": {\"line\": {\"color\": \"#2a3f5f\"}}, \"ternary\": {\"aaxis\": {\"gridcolor\": \"white\", \"linecolor\": \"white\", \"ticks\": \"\"}, \"baxis\": {\"gridcolor\": \"white\", \"linecolor\": \"white\", \"ticks\": \"\"}, \"bgcolor\": \"#E5ECF6\", \"caxis\": {\"gridcolor\": \"white\", \"linecolor\": \"white\", \"ticks\": \"\"}}, \"title\": {\"x\": 0.05}, \"xaxis\": {\"automargin\": true, \"gridcolor\": \"white\", \"linecolor\": \"white\", \"ticks\": \"\", \"title\": {\"standoff\": 15}, \"zerolinecolor\": \"white\", \"zerolinewidth\": 2}, \"yaxis\": {\"automargin\": true, \"gridcolor\": \"white\", \"linecolor\": \"white\", \"ticks\": \"\", \"title\": {\"standoff\": 15}, \"zerolinecolor\": \"white\", \"zerolinewidth\": 2}}}},\n",
              "                        {\"responsive\": true}\n",
              "                    ).then(function(){\n",
              "                            \n",
              "var gd = document.getElementById('cd271ef7-f64b-4957-99a8-4dddcf4cd5a9');\n",
              "var x = new MutationObserver(function (mutations, observer) {{\n",
              "        var display = window.getComputedStyle(gd).display;\n",
              "        if (!display || display === 'none') {{\n",
              "            console.log([gd, 'removed!']);\n",
              "            Plotly.purge(gd);\n",
              "            observer.disconnect();\n",
              "        }}\n",
              "}});\n",
              "\n",
              "// Listen for the removal of the full notebook cells\n",
              "var notebookContainer = gd.closest('#notebook-container');\n",
              "if (notebookContainer) {{\n",
              "    x.observe(notebookContainer, {childList: true});\n",
              "}}\n",
              "\n",
              "// Listen for the clearing of the current output cell\n",
              "var outputEl = gd.closest('.output');\n",
              "if (outputEl) {{\n",
              "    x.observe(outputEl, {childList: true});\n",
              "}}\n",
              "\n",
              "                        })\n",
              "                };\n",
              "                \n",
              "            </script>\n",
              "        </div>\n",
              "</body>\n",
              "</html>"
            ]
          },
          "metadata": {
            "tags": []
          }
        }
      ]
    },
    {
      "cell_type": "markdown",
      "metadata": {
        "id": "mxrtGki0oQ_u"
      },
      "source": [
        "This is much better. Let's think about this from a marketing perspective. Suppose Starbucks wanted to run a targeted ad campaign based on different regions. This clustering arrangement focuses on 5 regions with many Starbucks locations and treats the scattered locations as outliers. This allows Starbucks to tailor their marketing in high density areas, while taking a more broad approach with the outlier locations."
      ]
    },
    {
      "cell_type": "code",
      "metadata": {
        "id": "zrSN0f5tnuhN"
      },
      "source": [
        ""
      ],
      "execution_count": null,
      "outputs": []
    }
  ]
}